{
  "cells": [
    {
      "cell_type": "code",
      "execution_count": 1,
      "metadata": {},
      "outputs": [
        {
          "name": "stdout",
          "output_type": "stream",
          "text": [
            "Defaulting to user installation because normal site-packages is not writeable\n",
            "Requirement already satisfied: gradio==3.44.0 in /home/genom10/.local/lib/python3.10/site-packages (3.44.0)\n",
            "Requirement already satisfied: torch in /home/genom10/.local/lib/python3.10/site-packages (2.1.0)\n",
            "Requirement already satisfied: dice in /home/genom10/.local/lib/python3.10/site-packages (4.0.0)\n",
            "Requirement already satisfied: aiofiles<24.0,>=22.0 in /home/genom10/.local/lib/python3.10/site-packages (from gradio==3.44.0) (23.2.1)\n",
            "Requirement already satisfied: altair<6.0,>=4.2.0 in /home/genom10/.local/lib/python3.10/site-packages (from gradio==3.44.0) (5.1.2)\n",
            "Requirement already satisfied: fastapi in /home/genom10/.local/lib/python3.10/site-packages (from gradio==3.44.0) (0.103.2)\n",
            "Requirement already satisfied: ffmpy in /home/genom10/.local/lib/python3.10/site-packages (from gradio==3.44.0) (0.3.1)\n",
            "Requirement already satisfied: gradio-client==0.5.0 in /home/genom10/.local/lib/python3.10/site-packages (from gradio==3.44.0) (0.5.0)\n",
            "Requirement already satisfied: httpx in /home/genom10/.local/lib/python3.10/site-packages (from gradio==3.44.0) (0.25.0)\n",
            "Requirement already satisfied: huggingface-hub>=0.14.0 in /home/genom10/.local/lib/python3.10/site-packages (from gradio==3.44.0) (0.17.3)\n",
            "Requirement already satisfied: importlib-resources<7.0,>=1.3 in /home/genom10/.local/lib/python3.10/site-packages (from gradio==3.44.0) (6.1.0)\n",
            "Requirement already satisfied: jinja2<4.0 in /home/genom10/.local/lib/python3.10/site-packages (from gradio==3.44.0) (3.1.2)\n",
            "Requirement already satisfied: markupsafe~=2.0 in /home/genom10/.local/lib/python3.10/site-packages (from gradio==3.44.0) (2.1.3)\n",
            "Requirement already satisfied: matplotlib~=3.0 in /home/genom10/.local/lib/python3.10/site-packages (from gradio==3.44.0) (3.8.0)\n",
            "Requirement already satisfied: numpy~=1.0 in /home/genom10/.local/lib/python3.10/site-packages (from gradio==3.44.0) (1.26.0)\n",
            "Requirement already satisfied: orjson~=3.0 in /home/genom10/.local/lib/python3.10/site-packages (from gradio==3.44.0) (3.9.7)\n",
            "Requirement already satisfied: packaging in /home/genom10/.local/lib/python3.10/site-packages (from gradio==3.44.0) (23.2)\n",
            "Requirement already satisfied: pandas<3.0,>=1.0 in /home/genom10/.local/lib/python3.10/site-packages (from gradio==3.44.0) (2.1.1)\n",
            "Requirement already satisfied: pillow<11.0,>=8.0 in /usr/lib/python3/dist-packages (from gradio==3.44.0) (9.0.1)\n",
            "Requirement already satisfied: pydantic!=1.8,!=1.8.1,!=2.0.0,!=2.0.1,<3.0.0,>=1.7.4 in /home/genom10/.local/lib/python3.10/site-packages (from gradio==3.44.0) (2.4.2)\n",
            "Requirement already satisfied: pydub in /home/genom10/.local/lib/python3.10/site-packages (from gradio==3.44.0) (0.25.1)\n",
            "Requirement already satisfied: python-multipart in /home/genom10/.local/lib/python3.10/site-packages (from gradio==3.44.0) (0.0.6)\n",
            "Requirement already satisfied: pyyaml<7.0,>=5.0 in /home/genom10/.local/lib/python3.10/site-packages (from gradio==3.44.0) (6.0.1)\n",
            "Requirement already satisfied: requests~=2.0 in /home/genom10/.local/lib/python3.10/site-packages (from gradio==3.44.0) (2.31.0)\n",
            "Requirement already satisfied: semantic-version~=2.0 in /home/genom10/.local/lib/python3.10/site-packages (from gradio==3.44.0) (2.10.0)\n",
            "Requirement already satisfied: typing-extensions~=4.0 in /home/genom10/.local/lib/python3.10/site-packages (from gradio==3.44.0) (4.8.0)\n",
            "Requirement already satisfied: uvicorn>=0.14.0 in /home/genom10/.local/lib/python3.10/site-packages (from gradio==3.44.0) (0.23.2)\n",
            "Requirement already satisfied: websockets<12.0,>=10.0 in /home/genom10/.local/lib/python3.10/site-packages (from gradio==3.44.0) (11.0.3)\n",
            "Requirement already satisfied: fsspec in /home/genom10/.local/lib/python3.10/site-packages (from gradio-client==0.5.0->gradio==3.44.0) (2023.10.0)\n",
            "Requirement already satisfied: filelock in /home/genom10/.local/lib/python3.10/site-packages (from torch) (3.12.4)\n",
            "Requirement already satisfied: sympy in /home/genom10/.local/lib/python3.10/site-packages (from torch) (1.12)\n",
            "Requirement already satisfied: networkx in /home/genom10/.local/lib/python3.10/site-packages (from torch) (3.2.1)\n",
            "Requirement already satisfied: nvidia-cuda-nvrtc-cu12==12.1.105 in /home/genom10/.local/lib/python3.10/site-packages (from torch) (12.1.105)\n",
            "Requirement already satisfied: nvidia-cuda-runtime-cu12==12.1.105 in /home/genom10/.local/lib/python3.10/site-packages (from torch) (12.1.105)\n",
            "Requirement already satisfied: nvidia-cuda-cupti-cu12==12.1.105 in /home/genom10/.local/lib/python3.10/site-packages (from torch) (12.1.105)\n",
            "Requirement already satisfied: nvidia-cudnn-cu12==8.9.2.26 in /home/genom10/.local/lib/python3.10/site-packages (from torch) (8.9.2.26)\n",
            "Requirement already satisfied: nvidia-cublas-cu12==12.1.3.1 in /home/genom10/.local/lib/python3.10/site-packages (from torch) (12.1.3.1)\n",
            "Requirement already satisfied: nvidia-cufft-cu12==11.0.2.54 in /home/genom10/.local/lib/python3.10/site-packages (from torch) (11.0.2.54)\n",
            "Requirement already satisfied: nvidia-curand-cu12==10.3.2.106 in /home/genom10/.local/lib/python3.10/site-packages (from torch) (10.3.2.106)\n",
            "Requirement already satisfied: nvidia-cusolver-cu12==11.4.5.107 in /home/genom10/.local/lib/python3.10/site-packages (from torch) (11.4.5.107)\n",
            "Requirement already satisfied: nvidia-cusparse-cu12==12.1.0.106 in /home/genom10/.local/lib/python3.10/site-packages (from torch) (12.1.0.106)\n",
            "Requirement already satisfied: nvidia-nccl-cu12==2.18.1 in /home/genom10/.local/lib/python3.10/site-packages (from torch) (2.18.1)\n",
            "Requirement already satisfied: nvidia-nvtx-cu12==12.1.105 in /home/genom10/.local/lib/python3.10/site-packages (from torch) (12.1.105)\n",
            "Requirement already satisfied: triton==2.1.0 in /home/genom10/.local/lib/python3.10/site-packages (from torch) (2.1.0)\n",
            "Requirement already satisfied: nvidia-nvjitlink-cu12 in /home/genom10/.local/lib/python3.10/site-packages (from nvidia-cusolver-cu12==11.4.5.107->torch) (12.3.52)\n",
            "Requirement already satisfied: pyparsing>=2.4.1 in /usr/lib/python3/dist-packages (from dice) (2.4.7)\n",
            "Requirement already satisfied: jsonschema>=3.0 in /home/genom10/.local/lib/python3.10/site-packages (from altair<6.0,>=4.2.0->gradio==3.44.0) (4.19.1)\n",
            "Requirement already satisfied: toolz in /home/genom10/.local/lib/python3.10/site-packages (from altair<6.0,>=4.2.0->gradio==3.44.0) (0.12.0)\n",
            "Requirement already satisfied: tqdm>=4.42.1 in /home/genom10/.local/lib/python3.10/site-packages (from huggingface-hub>=0.14.0->gradio==3.44.0) (4.66.1)\n",
            "Requirement already satisfied: contourpy>=1.0.1 in /home/genom10/.local/lib/python3.10/site-packages (from matplotlib~=3.0->gradio==3.44.0) (1.1.1)\n",
            "Requirement already satisfied: cycler>=0.10 in /home/genom10/.local/lib/python3.10/site-packages (from matplotlib~=3.0->gradio==3.44.0) (0.12.1)\n",
            "Requirement already satisfied: fonttools>=4.22.0 in /home/genom10/.local/lib/python3.10/site-packages (from matplotlib~=3.0->gradio==3.44.0) (4.43.1)\n",
            "Requirement already satisfied: kiwisolver>=1.0.1 in /home/genom10/.local/lib/python3.10/site-packages (from matplotlib~=3.0->gradio==3.44.0) (1.4.5)\n",
            "Requirement already satisfied: python-dateutil>=2.7 in /home/genom10/.local/lib/python3.10/site-packages (from matplotlib~=3.0->gradio==3.44.0) (2.8.2)\n",
            "Requirement already satisfied: pytz>=2020.1 in /usr/lib/python3/dist-packages (from pandas<3.0,>=1.0->gradio==3.44.0) (2022.1)\n",
            "Requirement already satisfied: tzdata>=2022.1 in /home/genom10/.local/lib/python3.10/site-packages (from pandas<3.0,>=1.0->gradio==3.44.0) (2023.3)\n",
            "Requirement already satisfied: annotated-types>=0.4.0 in /home/genom10/.local/lib/python3.10/site-packages (from pydantic!=1.8,!=1.8.1,!=2.0.0,!=2.0.1,<3.0.0,>=1.7.4->gradio==3.44.0) (0.6.0)\n",
            "Requirement already satisfied: pydantic-core==2.10.1 in /home/genom10/.local/lib/python3.10/site-packages (from pydantic!=1.8,!=1.8.1,!=2.0.0,!=2.0.1,<3.0.0,>=1.7.4->gradio==3.44.0) (2.10.1)\n",
            "Requirement already satisfied: charset-normalizer<4,>=2 in /home/genom10/.local/lib/python3.10/site-packages (from requests~=2.0->gradio==3.44.0) (3.3.2)\n",
            "Requirement already satisfied: idna<4,>=2.5 in /home/genom10/.local/lib/python3.10/site-packages (from requests~=2.0->gradio==3.44.0) (3.4)\n",
            "Requirement already satisfied: urllib3<3,>=1.21.1 in /home/genom10/.local/lib/python3.10/site-packages (from requests~=2.0->gradio==3.44.0) (2.0.7)\n",
            "Requirement already satisfied: certifi>=2017.4.17 in /home/genom10/.local/lib/python3.10/site-packages (from requests~=2.0->gradio==3.44.0) (2023.7.22)\n",
            "Requirement already satisfied: click>=7.0 in /usr/lib/python3/dist-packages (from uvicorn>=0.14.0->gradio==3.44.0) (8.0.3)\n",
            "Requirement already satisfied: h11>=0.8 in /home/genom10/.local/lib/python3.10/site-packages (from uvicorn>=0.14.0->gradio==3.44.0) (0.14.0)\n",
            "Requirement already satisfied: anyio<4.0.0,>=3.7.1 in /home/genom10/.local/lib/python3.10/site-packages (from fastapi->gradio==3.44.0) (3.7.1)\n",
            "Requirement already satisfied: starlette<0.28.0,>=0.27.0 in /home/genom10/.local/lib/python3.10/site-packages (from fastapi->gradio==3.44.0) (0.27.0)\n",
            "Requirement already satisfied: httpcore<0.19.0,>=0.18.0 in /home/genom10/.local/lib/python3.10/site-packages (from httpx->gradio==3.44.0) (0.18.0)\n",
            "Requirement already satisfied: sniffio in /home/genom10/.local/lib/python3.10/site-packages (from httpx->gradio==3.44.0) (1.3.0)\n",
            "Requirement already satisfied: mpmath>=0.19 in /home/genom10/.local/lib/python3.10/site-packages (from sympy->torch) (1.3.0)\n",
            "Requirement already satisfied: exceptiongroup in /home/genom10/.local/lib/python3.10/site-packages (from anyio<4.0.0,>=3.7.1->fastapi->gradio==3.44.0) (1.1.3)\n",
            "Requirement already satisfied: attrs>=22.2.0 in /home/genom10/.local/lib/python3.10/site-packages (from jsonschema>=3.0->altair<6.0,>=4.2.0->gradio==3.44.0) (23.1.0)\n",
            "Requirement already satisfied: jsonschema-specifications>=2023.03.6 in /home/genom10/.local/lib/python3.10/site-packages (from jsonschema>=3.0->altair<6.0,>=4.2.0->gradio==3.44.0) (2023.7.1)\n",
            "Requirement already satisfied: referencing>=0.28.4 in /home/genom10/.local/lib/python3.10/site-packages (from jsonschema>=3.0->altair<6.0,>=4.2.0->gradio==3.44.0) (0.30.2)\n",
            "Requirement already satisfied: rpds-py>=0.7.1 in /home/genom10/.local/lib/python3.10/site-packages (from jsonschema>=3.0->altair<6.0,>=4.2.0->gradio==3.44.0) (0.10.4)\n",
            "Requirement already satisfied: six>=1.5 in /home/genom10/.local/lib/python3.10/site-packages (from python-dateutil>=2.7->matplotlib~=3.0->gradio==3.44.0) (1.16.0)\n",
            "Note: you may need to restart the kernel to use updated packages.\n"
          ]
        }
      ],
      "source": [
        "%pip install gradio==3.44.0 torch dice"
      ]
    },
    {
      "cell_type": "code",
      "execution_count": 2,
      "metadata": {},
      "outputs": [
        {
          "name": "stderr",
          "output_type": "stream",
          "text": [
            "/home/genom10/.local/lib/python3.10/site-packages/tqdm/auto.py:21: TqdmWarning: IProgress not found. Please update jupyter and ipywidgets. See https://ipywidgets.readthedocs.io/en/stable/user_install.html\n",
            "  from .autonotebook import tqdm as notebook_tqdm\n"
          ]
        }
      ],
      "source": [
        "from src.dnd.units import Unit, GenericSoldier\n",
        "from src.utils.common import RGB_to_Hex, Hex_to_RGB\n",
        "from src.dnd.game_board import DnDBoard, MovementError\n",
        "from src.gui.gridDrawer import generate_grid, draw_field\n",
        "from src.gui.adapters import RenderUnit, Team\n",
        "from src.dnd.load_unit import load_unit, load_renderUnit, getTokenImagePath, getTokenName\n",
        "from src.dnd.game_utils import FieldGenerator, decorate_game, print_game\n",
        "from src.dnd.actions import ActionInstance\n",
        "\n",
        "from PIL import ImageColor\n",
        "from typing import List\n",
        "import gradio as gr\n",
        "import itertools\n",
        "import glob\n",
        "import re\n",
        "import numpy as np"
      ]
    },
    {
      "cell_type": "code",
      "execution_count": 7,
      "metadata": {},
      "outputs": [],
      "source": [
        "board_size:int = None\n",
        "board:DnDBoard = None\n",
        "render_units: List[RenderUnit] = []\n",
        "selectedToken = None\n",
        "selectedCell = None #TODO\n",
        "teams:List[Team] = [Team('Player',(0,0,255)),\n",
        "                    Team('Agent', (255,0,0), model_path='./rnd/2v2-1/_temp/checkpoints/agent-1072.9i-3.0k/agent.pkl')] #TODO agent import\n",
        "fieldGenerator:FieldGenerator = None\n",
        "\n",
        "def get_render_unit_by_UID(UID):\n",
        "  return next((render_unit for render_unit in render_units if render_unit.getUID() == UID))\n",
        "\n",
        "def generate_board(gridScale, new_board_size):\n",
        "  global board_size, board, render_units, fieldGenerator\n",
        "  board_size = new_board_size\n",
        "  board = DnDBoard((board_size, board_size))\n",
        "  render_units = []\n",
        "  field = generate_grid(board_size, gridScale)\n",
        "  fieldGenerator = FieldGenerator((board_size, board_size), 2, teams)\n",
        "  return field\n",
        "\n",
        "def add_token(image, y:int, x:int, team, jsonDescriptor = None):\n",
        "  global board_size\n",
        "  # print(jsonDescriptor.name)\n",
        "  if jsonDescriptor is None:\n",
        "    board.place_unit(GenericSoldier(), (y,x), team, generateUID=True)\n",
        "    render_units.append(RenderUnit(board.board[(y,x)].get_UID(), (y,x), image, team=teams[team]))\n",
        "  else:\n",
        "    board.place_unit(load_unit(jsonDescriptor.name), (y,x), team, generateUID=True)\n",
        "    r_unit = load_renderUnit(jsonDescriptor.name, (y,x), gradio=True)\n",
        "    r_unit.unitUID = board.board[(y,x)].get_UID()\n",
        "    r_unit.team = teams[team]\n",
        "    render_units.append(r_unit)\n",
        "  if y < board_size:\n",
        "    y += 1\n",
        "  else:\n",
        "    y = 0\n",
        "    x += 1\n",
        "  return y, x, update_UID_list()\n",
        "\n",
        "def move_token(index, x:int, y:int):\n",
        "  unit:Unit = board.get_unit_by_UID(render_units[index].getUID())\n",
        "  try:\n",
        "    board._set_unit_position(unit=unit, new_position=(y,x))\n",
        "    render_units[index].pos = np.array([y, x], dtype = int)\n",
        "  except MovementError as e:\n",
        "    print(\"Error moving into chosen cell:\", e)\n",
        "\n",
        "def set_selected_token(tokenID):\n",
        "  global selectedToken\n",
        "  # print('set selectedToken to:', selectedToken)\n",
        "  if type(tokenID) == int:\n",
        "    selectedToken = tokenID\n",
        "  else:\n",
        "    selectedToken = None\n",
        "\n",
        "def render_field(gridScale, target_x, target_y):\n",
        "  if board.is_initialized():\n",
        "    return draw_field(renderUnits=render_units, gridScale=gridScale, board_size=board_size, selectedToken=selectedToken, target=(target_x, target_y))\n",
        "  else:\n",
        "    return draw_field(renderUnits=render_units, gridScale=gridScale, board_size=board_size, selectedToken=selectedToken)\n",
        "\n",
        "def update_UID_list():\n",
        "  new_choices = [x.getUID() for x in render_units]\n",
        "  new_choices = list(zip(new_choices, itertools.count()))\n",
        "  return gr.Dropdown.update(choices=new_choices, interactive=True, label='tokenID')\n",
        "\n",
        "def on_board_click(boardImg, gridScale, evt: gr.SelectData):\n",
        "  clickedCell = (evt.index[1]//(gridScale+1), evt.index[0]//(gridScale+1))\n",
        "  index = None\n",
        "  if not board.is_initialized():\n",
        "    try:\n",
        "      index = [tuple(x.getPos()) for x in render_units].index(clickedCell)\n",
        "    except ValueError:\n",
        "      pass\n",
        "  else:\n",
        "    index = selectedToken\n",
        "  return index, clickedCell[0], clickedCell[1]\n",
        "\n",
        "def team_selection(team):\n",
        "  if type(team) is not int: #returned raw string <- user assigned new team\n",
        "    teams.append(Team(team))\n",
        "    team = len(teams)-1\n",
        "    global fieldGenerator\n",
        "    fieldGenerator = FieldGenerator((board_size, board_size), len(teams), teams)\n",
        "  team_names = [team.get_name() for team in teams]\n",
        "  new_choices = list(zip(team_names, itertools.count()))\n",
        "  return gr.Dropdown.update(choices=new_choices, interactive=True), RGB_to_Hex(teams[team].get_color())\n",
        "\n",
        "def team_selection2(team):\n",
        "  if type(team) is not int: #returned raw string <- user assigned new team\n",
        "    teams.append(Team(team))\n",
        "    team = len(teams)-1\n",
        "    global fieldGenerator\n",
        "    fieldGenerator = FieldGenerator((board_size, board_size), len(teams), teams)\n",
        "  team_names = [team.get_name() for team in teams]\n",
        "  new_choices = list(zip(team_names, itertools.count()))\n",
        "  return gr.Dropdown.update(choices=new_choices, interactive=True)\n",
        "\n",
        "def team_set_color(team_color, team):\n",
        "  if type(team) is not int: #returned raw string <- user assigned new team\n",
        "    team = len(teams)-1\n",
        "  # print('setting team color to Hex', team_color, Hex_to_RGB(team_color))\n",
        "  teams[team].color = Hex_to_RGB(team_color)\n",
        "\n",
        "def team_set_agent(agent, team):\n",
        "  if type(team) is not int: #returned raw string <- user assigned new team\n",
        "    team = len(teams)-1\n",
        "  if type(agent) is str: \n",
        "    print(agent)\n",
        "    teams[team].model_path = agent\n",
        "  else:\n",
        "     raise TypeError(\"unexpected type of model_path\")\n",
        "\n",
        "def generate_game():\n",
        "  global board, render_units, fieldGenerator\n",
        "  fieldGenerator.reset()\n",
        "  board = fieldGenerator.load_from_folder(json_path='./Tokens', verbose=True).generate_balanced_game(targetCR=1, initialize=False, generateUID=True)\n",
        "  render_units = fieldGenerator.getRenderUnits()\n",
        "\n",
        "def initialize_game():\n",
        "  global board\n",
        "  board.initialize_game()\n",
        "  return (gr.Button.update(visible=False),\n",
        "          gr.Button.update(visible=False),\n",
        "          # gr.Dataframe.update(visible=True),\n",
        "          gr.Dataframe.update(visible=True),\n",
        "          gr.Dropdown.update(visible=True),\n",
        "          gr.Number.update(visible=True),\n",
        "          gr.Number.update(visible=True),\n",
        "          gr.Number.update(visible=True))\n",
        "\n",
        "def end_turn():\n",
        "  global board\n",
        "  board.finish_turn()\n",
        "\n",
        "def update_turn_queue():\n",
        "  global board\n",
        "  df_data = [[next((u.team.get_name() for u in render_units if u.getUID() == board.units[i].get_UID()), 'Error'),\n",
        "            board.units[i].get_UID(),\n",
        "            board.units[i].get_initiative(),\n",
        "            f'{board.units[i].health}/{board.units[i].maxHealth}'] \n",
        "            for i in board.turn_order]\n",
        "  return gr.DataFrame.update(np.roll(df_data, -board.current_turn_index, axis=0)),\\\n",
        "         [x.getUID() for x in render_units].index(board.current_unit.get_UID())\n",
        "\n",
        "def update_action_list():\n",
        "  attacks = [action.name for action in board.current_unit.actions]\n",
        "  return gr.Dropdown.update(choices=list(zip(attacks, itertools.count())),\n",
        "                            value=0)\n",
        "\n",
        "def attack_click(target_x, target_y, selected_action):\n",
        "  global board\n",
        "  print(board.current_unit.actions[selected_action].name)\n",
        "  source_unit = board.current_unit\n",
        "  target_unit = board.board[target_y, target_x]\n",
        "  print(target_unit.get_UID())\n",
        "  action = source_unit.actions[selected_action].instantiate(source_unit=source_unit, target_unit=target_unit, roll=True)\n",
        "  attacked, updates = board.use_action(action)\n",
        "  for dead_unit in updates['units_removed']:\n",
        "    render_units.remove(get_render_unit_by_UID(dead_unit.get_UID()))\n",
        "  print(f'{updates=}')\n",
        "  print('(attack, damage) =', board.get_last_roll_info())\n",
        "  \n",
        "def move_click(target_x, target_y):\n",
        "  global board\n",
        "  moved, updates = board.move((target_y, target_x), raise_on_illegal=False)\n",
        "  if moved:\n",
        "    get_render_unit_by_UID(board.current_unit.get_UID()).setPos((target_y, target_x)) \n",
        "  # print_game(*decorate_game(board))\n",
        "  return(board.current_movement_left)"
      ]
    },
    {
      "cell_type": "markdown",
      "metadata": {},
      "source": [
        "Interface"
      ]
    },
    {
      "cell_type": "code",
      "execution_count": 8,
      "metadata": {
        "colab": {
          "base_uri": "https://localhost:8080/",
          "height": 695
        },
        "id": "Uv_GNF0TjMi2",
        "outputId": "36c1ba91-0171-40a9-d84f-19ff08449378"
      },
      "outputs": [
        {
          "name": "stdout",
          "output_type": "stream",
          "text": [
            "Running on local URL:  http://127.0.0.1:7861\n",
            "\n",
            "To create a public link, set `share=True` in `launch()`.\n"
          ]
        },
        {
          "data": {
            "text/html": [
              "<div><iframe src=\"http://127.0.0.1:7861/\" width=\"100%\" height=\"500\" allow=\"autoplay; camera; microphone; clipboard-read; clipboard-write;\" frameborder=\"0\" allowfullscreen></iframe></div>"
            ],
            "text/plain": [
              "<IPython.core.display.HTML object>"
            ]
          },
          "metadata": {},
          "output_type": "display_data"
        }
      ],
      "source": [
        "with gr.Blocks() as demo:\n",
        "  #Grid\n",
        "  with gr.Row():\n",
        "    new_board_size = gr.Slider(label=\"Board Size\", value=10, minimum=2, maximum=100, step=1)\n",
        "    makeBoard = gr.Button(value=\"Make Board\")\n",
        "  gridScale = gr.Slider(label=\"gridScale\", value=64, minimum=16, maximum=128, step=1)\n",
        "  im_canvas = gr.Image(interactive=False)\n",
        "\n",
        "  with gr.Tabs(visible=True) as tabs:\n",
        "    #Team Setup\n",
        "    with gr.TabItem(\"Team Setup\") as tab0:\n",
        "      team_name1 = gr.Dropdown(value=0, label=\"Team Name\", allow_custom_value=True,\n",
        "                               info=\"Enter new team name to create new team\",\n",
        "                               choices=list(zip([team.get_name() for team in teams], itertools.count())))\n",
        "      team_color = gr.ColorPicker(value=RGB_to_Hex(teams[0].get_color()), label=\"Team color\")\n",
        "      team_name1.input(team_selection, inputs=[team_name1], outputs=[team_name1, team_color])\n",
        "      team_color.input(team_set_color, inputs=[team_color, team_name1])\n",
        "      team_agent = gr.File(label=\"Team Agent\")\n",
        "      team_agent.select(team_set_agent, inputs=[team_agent, team_name1])\n",
        "    \n",
        "  #Add Token  \n",
        "    with gr.TabItem(\"Add Token\") as tab1:\n",
        "      with gr.Row():\n",
        "        with gr.Column(min_width=10):\n",
        "          y = gr.Number(label=\"x pos\", precision=0)\n",
        "          x = gr.Number(label=\"y pos\", precision=0)\n",
        "          label = gr.Text(label=\"Label\")\n",
        "          team_name2 = gr.Dropdown(value=0, label=\"Team\", choices=list(zip([team.get_name() for team in teams], itertools.count())), allow_custom_value=True, type='value')\n",
        "          team_name2.input(team_selection2, inputs=[team_name2], outputs=[team_name2])\n",
        "          jsonDescriptor = gr.File()\n",
        "        im_in = gr.Image(image_mode='RGBA', type='pil')\n",
        "        examples_paths = glob.glob('./Tokens/*.json')\n",
        "        token_data = [[getTokenImagePath(path), getTokenName(path), path] for path in examples_paths]\n",
        "        examples = gr.Examples(examples=token_data, inputs=[im_in, label, jsonDescriptor], examples_per_page=4)\n",
        "      btn_add = gr.Button(value=\"Add token\")\n",
        "\n",
        "    #Move Token\n",
        "    with gr.TabItem(\"Move Token\") as tab2:\n",
        "      with gr.Row():\n",
        "          tokenID = gr.Dropdown(['t1', 't2'], label='tokenID', allow_custom_value=True)\n",
        "          x_move = gr.Number(label=\"x pos\", precision=0)\n",
        "          y_move = gr.Number(label=\"y pos\", precision=0)\n",
        "      btn_move = gr.Button(value=\"Move token\")\n",
        "    \n",
        "    with gr.TabItem(\"Play the game\") as tab3:\n",
        "      game_generate = gr.Button(value=\"Generate random board\")\n",
        "      game_start = gr.Button(value=\"Initialize game\")\n",
        "\n",
        "      with gr.Row():\n",
        "        with gr.Column():\n",
        "          turn_order = gr.Dataframe( #TODO: team name colorization\n",
        "            headers=[\"Team\", \"UnitUID\", \"Init\", \"HP\"],\n",
        "            datatype=[\"str\", \"str\", \"number\", \"str\"],\n",
        "            value=[['team1', 'unitUID1', 10, '1/1'],\n",
        "                   ['team2', 'unitUID2', 9, '1/1'],\n",
        "                   ['team3', 'unitUID3', 8, '1/1']],\n",
        "            interactive = False, visible=False,\n",
        "            label=\"Turn Order\",\n",
        "          )\n",
        "        with gr.Column():\n",
        "          selected_action = gr.Dropdown(choices=['sample1', 'sample2'], label='Selected Action', visible=False, interactive=True)\n",
        "          game_movement_left = gr.Number(value=6, label='Movement left', interactive=False, visible=False)\n",
        "          with gr.Row():\n",
        "            target_x = gr.Number(value=0, label=\"target x\", precision=0, visible=False)\n",
        "            target_y = gr.Number(value=0, label=\"target y\", precision=0, visible=False)\n",
        "          attack_btn = gr.Button(value = 'Attack')\n",
        "          move_btn = gr.Button(value = 'Move')\n",
        "          btn_end_turn = gr.Button(value = 'end_turn')\n",
        "\n",
        "    makeBoard.click(generate_board, inputs = [gridScale, new_board_size], outputs=[im_canvas])\n",
        "    gridScale.change(render_field, inputs = [gridScale, target_x, target_y], outputs=[im_canvas])\n",
        "    im_canvas.select(on_board_click, inputs=[im_canvas, gridScale], outputs=[tokenID, target_y, target_x])\n",
        "    \n",
        "    tab2.select(update_UID_list, outputs=tokenID)\n",
        "    btn_add.click(add_token, inputs=[im_in, x, y, team_name2, jsonDescriptor], outputs=[x, y, tokenID])\\\n",
        "      .then(render_field, inputs=[gridScale, target_x, target_y], outputs=im_canvas)\n",
        "    \n",
        "    tokenID.change(set_selected_token, inputs=[tokenID])\\\n",
        "      .then(render_field, inputs=[gridScale, target_x, target_y], outputs=im_canvas)\n",
        "    btn_move.click(move_token, inputs=[tokenID, x_move, y_move])\\\n",
        "      .then(render_field, inputs=[gridScale, target_x, target_y], outputs=im_canvas)\n",
        "    \n",
        "    game_generate.click(generate_game)\\\n",
        "      .then(update_UID_list, outputs=tokenID)\\\n",
        "      .then(render_field, inputs=[gridScale, target_x, target_y], outputs=im_canvas)\n",
        "    game_start.click(initialize_game, outputs=[game_generate, game_start, turn_order, selected_action, game_movement_left, target_x, target_y])\\\n",
        "      .then(update_turn_queue, outputs=[turn_order, tokenID])\\\n",
        "      .then(update_action_list, outputs=[selected_action])\\\n",
        "      .then(render_field, inputs=[gridScale, target_x, target_y], outputs=im_canvas)\n",
        "    btn_end_turn.click(end_turn)\\\n",
        "      .then(update_turn_queue, outputs=[turn_order, tokenID])\\\n",
        "      .then(update_action_list, outputs=[selected_action])\n",
        "    target_y.change(render_field, inputs=[gridScale, target_x, target_y], outputs=im_canvas)\n",
        "    target_x.change(render_field, inputs=[gridScale, target_x, target_y], outputs=im_canvas)\n",
        "    attack_btn.click(attack_click, inputs=[target_x, target_y, selected_action])\\\n",
        "      .then(render_field, inputs=[gridScale, target_x, target_y], outputs=im_canvas)\\\n",
        "      .then(update_turn_queue, outputs=[turn_order, tokenID])\n",
        "    move_btn.click(move_click, inputs=[target_x, target_y], outputs=[game_movement_left])\\\n",
        "      .then(render_field, inputs=[gridScale, target_x, target_y], outputs=im_canvas)\n",
        "\n",
        "if __name__ == \"__main__\":\n",
        "    demo.launch()"
      ]
    },
    {
      "cell_type": "code",
      "execution_count": 9,
      "metadata": {},
      "outputs": [
        {
          "ename": "AttributeError",
          "evalue": "'NoneType' object has no attribute 'players_to_units'",
          "output_type": "error",
          "traceback": [
            "\u001b[0;31m---------------------------------------------------------------------------\u001b[0m",
            "\u001b[0;31mAttributeError\u001b[0m                            Traceback (most recent call last)",
            "\u001b[1;32m/home/genom10/git/PMLDL-Project/DnD.ipynb Cell 6\u001b[0m line \u001b[0;36m1\n\u001b[0;32m----> <a href='vscode-notebook-cell:/home/genom10/git/PMLDL-Project/DnD.ipynb#X46sZmlsZQ%3D%3D?line=0'>1</a>\u001b[0m print_game(\u001b[39m*\u001b[39mdecorate_game(board))\n",
            "File \u001b[0;32m~/git/PMLDL-Project/src/dnd/game_utils.py:219\u001b[0m, in \u001b[0;36mdecorate_game\u001b[0;34m(game, rename_units, make_colormap, player_names, player_colors)\u001b[0m\n\u001b[1;32m    216\u001b[0m color_index \u001b[39m=\u001b[39m \u001b[39m0\u001b[39m\n\u001b[1;32m    218\u001b[0m \u001b[39mif\u001b[39;00m player_colors \u001b[39mis\u001b[39;00m \u001b[39mNone\u001b[39;00m: player_colors \u001b[39m=\u001b[39m []\n\u001b[0;32m--> 219\u001b[0m \u001b[39mfor\u001b[39;00m units, player_name, colors \u001b[39min\u001b[39;00m zip_longest(game\u001b[39m.\u001b[39;49mplayers_to_units\u001b[39m.\u001b[39mvalues(), player_names, player_colors):\n\u001b[1;32m    220\u001b[0m     names_to_units \u001b[39m=\u001b[39m {}\n\u001b[1;32m    221\u001b[0m     \u001b[39mfor\u001b[39;00m unit \u001b[39min\u001b[39;00m units:\n",
            "\u001b[0;31mAttributeError\u001b[0m: 'NoneType' object has no attribute 'players_to_units'"
          ]
        },
        {
          "name": "stderr",
          "output_type": "stream",
          "text": [
            "/home/genom10/.local/lib/python3.10/site-packages/gradio/components/dropdown.py:235: UserWarning: The value passed into gr.Dropdown() is not in the list of choices. Please update the list of choices to include: 0 or set allow_custom_value=True.\n",
            "  warnings.warn(\n"
          ]
        },
        {
          "name": "stdout",
          "output_type": "stream",
          "text": [
            "Claws\n",
            "Squire\n",
            "updates={'units_removed': []}\n",
            "(attack, damage) = (8, 0)\n"
          ]
        },
        {
          "name": "stderr",
          "output_type": "stream",
          "text": [
            "/home/genom10/.local/lib/python3.10/site-packages/gradio/components/dropdown.py:235: UserWarning: The value passed into gr.Dropdown() is not in the list of choices. Please update the list of choices to include: 0 or set allow_custom_value=True.\n",
            "  warnings.warn(\n"
          ]
        },
        {
          "name": "stdout",
          "output_type": "stream",
          "text": [
            "Longsword\n",
            "Brown Bear\n",
            "updates={'units_removed': []}\n",
            "(attack, damage) = (14, 4)\n"
          ]
        },
        {
          "name": "stderr",
          "output_type": "stream",
          "text": [
            "/home/genom10/.local/lib/python3.10/site-packages/gradio/components/dropdown.py:235: UserWarning: The value passed into gr.Dropdown() is not in the list of choices. Please update the list of choices to include: 0 or set allow_custom_value=True.\n",
            "  warnings.warn(\n"
          ]
        },
        {
          "name": "stdout",
          "output_type": "stream",
          "text": [
            "Claws\n",
            "Squire\n",
            "updates={'units_removed': []}\n",
            "(attack, damage) = (8, 0)\n"
          ]
        },
        {
          "name": "stderr",
          "output_type": "stream",
          "text": [
            "/home/genom10/.local/lib/python3.10/site-packages/gradio/components/dropdown.py:235: UserWarning: The value passed into gr.Dropdown() is not in the list of choices. Please update the list of choices to include: 0 or set allow_custom_value=True.\n",
            "  warnings.warn(\n"
          ]
        },
        {
          "name": "stdout",
          "output_type": "stream",
          "text": [
            "Longsword\n",
            "Brown Bear\n",
            "updates={'units_removed': []}\n",
            "(attack, damage) = (6, 0)\n"
          ]
        },
        {
          "name": "stderr",
          "output_type": "stream",
          "text": [
            "/home/genom10/.local/lib/python3.10/site-packages/gradio/components/dropdown.py:235: UserWarning: The value passed into gr.Dropdown() is not in the list of choices. Please update the list of choices to include: 0 or set allow_custom_value=True.\n",
            "  warnings.warn(\n"
          ]
        },
        {
          "name": "stdout",
          "output_type": "stream",
          "text": [
            "Claws\n",
            "Squire\n",
            "updates={'units_removed': []}\n",
            "(attack, damage) = (7, 0)\n"
          ]
        },
        {
          "name": "stderr",
          "output_type": "stream",
          "text": [
            "/home/genom10/.local/lib/python3.10/site-packages/gradio/components/dropdown.py:235: UserWarning: The value passed into gr.Dropdown() is not in the list of choices. Please update the list of choices to include: 0 or set allow_custom_value=True.\n",
            "  warnings.warn(\n"
          ]
        },
        {
          "name": "stdout",
          "output_type": "stream",
          "text": [
            "Longsword\n",
            "Brown Bear\n",
            "updates={'units_removed': []}\n",
            "(attack, damage) = (7, 0)\n"
          ]
        },
        {
          "name": "stderr",
          "output_type": "stream",
          "text": [
            "/home/genom10/.local/lib/python3.10/site-packages/gradio/components/dropdown.py:235: UserWarning: The value passed into gr.Dropdown() is not in the list of choices. Please update the list of choices to include: 0 or set allow_custom_value=True.\n",
            "  warnings.warn(\n"
          ]
        },
        {
          "name": "stdout",
          "output_type": "stream",
          "text": [
            "Claws\n",
            "Squire\n",
            "updates={'units_removed': []}\n",
            "(attack, damage) = (15, 10)\n"
          ]
        },
        {
          "name": "stderr",
          "output_type": "stream",
          "text": [
            "/home/genom10/.local/lib/python3.10/site-packages/gradio/components/dropdown.py:235: UserWarning: The value passed into gr.Dropdown() is not in the list of choices. Please update the list of choices to include: 0 or set allow_custom_value=True.\n",
            "  warnings.warn(\n"
          ]
        },
        {
          "name": "stdout",
          "output_type": "stream",
          "text": [
            "Longsword\n",
            "Brown Bear\n",
            "updates={'units_removed': []}\n",
            "(attack, damage) = (13, 8)\n"
          ]
        },
        {
          "name": "stderr",
          "output_type": "stream",
          "text": [
            "/home/genom10/.local/lib/python3.10/site-packages/gradio/components/dropdown.py:235: UserWarning: The value passed into gr.Dropdown() is not in the list of choices. Please update the list of choices to include: 0 or set allow_custom_value=True.\n",
            "  warnings.warn(\n"
          ]
        },
        {
          "name": "stdout",
          "output_type": "stream",
          "text": [
            "Claws\n",
            "Squire\n",
            "updates={'units_removed': [(<src.dnd.units.Unit object at 0x7f33815e4070>, 1)]}\n",
            "(attack, damage) = (24, 8)\n"
          ]
        },
        {
          "name": "stderr",
          "output_type": "stream",
          "text": [
            "/home/genom10/.local/lib/python3.10/site-packages/gradio/components/dropdown.py:235: UserWarning: The value passed into gr.Dropdown() is not in the list of choices. Please update the list of choices to include: 0 or set allow_custom_value=True.\n",
            "  warnings.warn(\n"
          ]
        }
      ],
      "source": [
        "print_game(*decorate_game(board))"
      ]
    }
  ],
  "metadata": {
    "colab": {
      "provenance": []
    },
    "kernelspec": {
      "display_name": "Python 3",
      "name": "python3"
    },
    "language_info": {
      "codemirror_mode": {
        "name": "ipython",
        "version": 3
      },
      "file_extension": ".py",
      "mimetype": "text/x-python",
      "name": "python",
      "nbconvert_exporter": "python",
      "pygments_lexer": "ipython3",
      "version": "3.10.12"
    }
  },
  "nbformat": 4,
  "nbformat_minor": 0
}
