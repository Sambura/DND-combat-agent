{
  "cells": [
    {
      "cell_type": "code",
      "execution_count": 2,
      "metadata": {},
      "outputs": [
        {
          "name": "stderr",
          "output_type": "stream",
          "text": [
            "/home/genom10/.local/lib/python3.10/site-packages/tqdm/auto.py:21: TqdmWarning: IProgress not found. Please update jupyter and ipywidgets. See https://ipywidgets.readthedocs.io/en/stable/user_install.html\n",
            "  from .autonotebook import tqdm as notebook_tqdm\n"
          ]
        }
      ],
      "source": [
        "from src.dnd.units import Unit, GenericSoldier\n",
        "from src.dnd.game_board import DnDBoard, MovementError\n",
        "from src.gui.gridDrawer import generate_grid, draw_field, highlight_selected_token\n",
        "from src.gui.adapters import RenderUnit\n",
        "\n",
        "from typing import List\n",
        "import gradio as gr\n",
        "import itertools\n",
        "import glob\n",
        "import re\n",
        "import numpy as np"
      ]
    },
    {
      "cell_type": "code",
      "execution_count": 3,
      "metadata": {},
      "outputs": [],
      "source": [
        "board_size = None\n",
        "board = None\n",
        "render_units: List[RenderUnit] = []\n",
        "selectedToken = None\n",
        "\n",
        "def getUIDsFromBoard(board: DnDBoard):\n",
        "  return board.get_UIDs()\n",
        "\n",
        "def update_unit_list() -> None: \n",
        "  global board\n",
        "  global render_units\n",
        "  UID2unit = dict(zip([unit.get_UID() for unit in board.units], board.units))\n",
        "  # print(UID2unit)\n",
        "  # render_units = \n",
        "\n",
        "def generate_board(gridScale, gridSize):\n",
        "  global board_size\n",
        "  global board\n",
        "  board_size = gridSize\n",
        "  board = DnDBoard((board_size, board_size))\n",
        "  field = generate_grid(board_size, gridScale)\n",
        "  return field\n",
        "\n",
        "def add_token(image, x:int, y:int, label, gridScale):\n",
        "  #TODO: pass name label to Unit\n",
        "  global board_size\n",
        "  board.place_unit(GenericSoldier(), (x,y), 0)\n",
        "  render_units.append(RenderUnit(board.board[(x,y)].get_UID(), (x,y), image))\n",
        "  if x < board_size:\n",
        "    x += 1\n",
        "  else:\n",
        "    x = 0\n",
        "    y += 1\n",
        "  update_unit_list()\n",
        "  return draw_field(render_units, selectedToken, gridScale, board_size), gr.Number(value=x), gr.Number(value=y), gr.Label(label)\n",
        "\n",
        "def move_token(index, x:int, y:int, gridScale):\n",
        "  # x, y = int(x), int(y)\n",
        "  global board_size\n",
        "  unit:Unit = board.get_unit_by_UID(render_units[index].getUID())\n",
        "  # print(\"unit UID:\", unit.get_UID())\n",
        "  try:\n",
        "    board.move_unit(unit=unit, new_position=(x,y))\n",
        "    render_units[index].pos = np.array([x, y], dtype = int)\n",
        "  except MovementError as e:\n",
        "    print(\"Error moving into chosen cell:\", e)\n",
        "  return draw_field(render_units, selectedToken, gridScale, board_size)\n",
        "\n",
        "def set_selected_token(tokenID, gridScale):\n",
        "  global board_size\n",
        "  global selectedToken\n",
        "  selectedToken = tokenID\n",
        "  return draw_field(render_units, selectedToken, gridScale, board_size)\n",
        "\n",
        "def on_grid_scale_shange(gridScale):\n",
        "  global board_size\n",
        "  return draw_field(render_units, selectedToken, gridScale, board_size)\n",
        "\n",
        "def update_UID_list():\n",
        "  new_choices = list(map(lambda x : x.getUID(), render_units))\n",
        "  new_choices = list(zip(new_choices, itertools.count()))\n",
        "  return gr.Dropdown(new_choices, interactive=True, label='tokenID')\n",
        "\n",
        "def on_image_load(currentLabel):\n",
        "  #TODO read image label\n",
        "  if currentLabel == '':\n",
        "    return \n",
        "  else:\n",
        "    return currentLabel "
      ]
    },
    {
      "cell_type": "markdown",
      "metadata": {},
      "source": [
        "Interface"
      ]
    },
    {
      "cell_type": "code",
      "execution_count": 4,
      "metadata": {
        "colab": {
          "base_uri": "https://localhost:8080/",
          "height": 695
        },
        "id": "Uv_GNF0TjMi2",
        "outputId": "36c1ba91-0171-40a9-d84f-19ff08449378"
      },
      "outputs": [
        {
          "name": "stdout",
          "output_type": "stream",
          "text": [
            "Running on local URL:  http://127.0.0.1:7860\n",
            "\n",
            "To create a public link, set `share=True` in `launch()`.\n"
          ]
        },
        {
          "data": {
            "text/html": [
              "<div><iframe src=\"http://127.0.0.1:7860/\" width=\"100%\" height=\"500\" allow=\"autoplay; camera; microphone; clipboard-read; clipboard-write;\" frameborder=\"0\" allowfullscreen></iframe></div>"
            ],
            "text/plain": [
              "<IPython.core.display.HTML object>"
            ]
          },
          "metadata": {},
          "output_type": "display_data"
        },
        {
          "name": "stdout",
          "output_type": "stream",
          "text": [
            "Error moving into chosen cell: Too far\n",
            "Error moving into chosen cell: Too far\n",
            "Error moving into chosen cell: Too far\n"
          ]
        }
      ],
      "source": [
        "with gr.Blocks() as demo:\n",
        "  #Grid\n",
        "  with gr.Row():\n",
        "    gridSize = gr.Slider(label=\"gridSize\", value=10, minimum=2, maximum=100, step=1)\n",
        "    makeBoard = gr.Button(value=\"Make Board\")\n",
        "  gridScale = gr.Slider(label=\"gridScale\", value=30, minimum=10, maximum=150, step=1)\n",
        "  im_canvas = gr.Image()\n",
        "  makeBoard.click(generate_board, inputs = [gridScale, gridSize], outputs=[im_canvas])\n",
        "  gridScale.change(on_grid_scale_shange, inputs = [gridScale], outputs=[im_canvas])\n",
        "\n",
        "  #Add Token\n",
        "  with gr.Tabs(visible=True) as tabs:\n",
        "    with gr.TabItem(\"Add Token\") as tab1:\n",
        "      with gr.Row():\n",
        "        with gr.Column(min_width=10):\n",
        "          x = gr.Number(label=\"x pos\", precision=0)\n",
        "          y = gr.Number(label=\"y pos\", precision=0)\n",
        "          label = gr.Text()\n",
        "        im_in = gr.Image(image_mode='RGBA', type='pil')\n",
        "        examples_paths = glob.glob('./Tokens/*')\n",
        "        token_data = [[path, path.split('/')[-1].split('.')[0]] for path in examples_paths]\n",
        "        examples = gr.Examples(examples=token_data, inputs=[im_in, label], examples_per_page=4)\n",
        "      btn_add = gr.Button(value=\"Add token\")\n",
        "    im_in.change(on_image_load, inputs=label, outputs=label)\n",
        "    btn_add.click(add_token, inputs=[im_in, x, y, label, gridScale], outputs=[im_canvas, x, y, label])\n",
        "\n",
        "    #Move Token\n",
        "    with gr.TabItem(\"Move Token\") as tab2:\n",
        "      with gr.Row():\n",
        "          tokenID = gr.Dropdown(['t1', 't2'], label='tokenID')\n",
        "          tab2.select(update_UID_list, outputs=tokenID)\n",
        "          x_move = gr.Number(label=\"x pos\", precision=0)\n",
        "          y_move = gr.Number(label=\"y pos\", precision=0)\n",
        "      btn_move = gr.Button(value=\"Move token\")\n",
        "    tokenID.change(set_selected_token, inputs=[tokenID, gridScale], outputs=[im_canvas])\n",
        "    btn_move.click(move_token, inputs=[tokenID, x_move, y_move, gridScale], outputs=[im_canvas])\n",
        "\n",
        "\n",
        "if __name__ == \"__main__\":\n",
        "    demo.launch()"
      ]
    }
  ],
  "metadata": {
    "colab": {
      "provenance": []
    },
    "kernelspec": {
      "display_name": "Python 3",
      "name": "python3"
    },
    "language_info": {
      "codemirror_mode": {
        "name": "ipython",
        "version": 3
      },
      "file_extension": ".py",
      "mimetype": "text/x-python",
      "name": "python",
      "nbconvert_exporter": "python",
      "pygments_lexer": "ipython3",
      "version": "3.11.4"
    }
  },
  "nbformat": 4,
  "nbformat_minor": 0
}
