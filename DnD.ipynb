{
  "cells": [
    {
      "cell_type": "code",
      "execution_count": 1,
      "metadata": {},
      "outputs": [
        {
          "name": "stdout",
          "output_type": "stream",
          "text": [
            "Requirement already satisfied: gradio==3.44.0 in c:\\users\\genom10\\appdata\\local\\packages\\pythonsoftwarefoundation.python.3.11_qbz5n2kfra8p0\\localcache\\local-packages\\python311\\site-packages (3.44.0)\n",
            "Requirement already satisfied: torch in c:\\users\\genom10\\appdata\\local\\packages\\pythonsoftwarefoundation.python.3.11_qbz5n2kfra8p0\\localcache\\local-packages\\python311\\site-packages (2.1.1)\n",
            "Requirement already satisfied: dice in c:\\users\\genom10\\appdata\\local\\packages\\pythonsoftwarefoundation.python.3.11_qbz5n2kfra8p0\\localcache\\local-packages\\python311\\site-packages (4.0.0)\n",
            "Requirement already satisfied: aiofiles<24.0,>=22.0 in c:\\users\\genom10\\appdata\\local\\packages\\pythonsoftwarefoundation.python.3.11_qbz5n2kfra8p0\\localcache\\local-packages\\python311\\site-packages (from gradio==3.44.0) (23.2.1)\n",
            "Requirement already satisfied: altair<6.0,>=4.2.0 in c:\\users\\genom10\\appdata\\local\\packages\\pythonsoftwarefoundation.python.3.11_qbz5n2kfra8p0\\localcache\\local-packages\\python311\\site-packages (from gradio==3.44.0) (5.1.2)\n",
            "Requirement already satisfied: fastapi in c:\\users\\genom10\\appdata\\local\\packages\\pythonsoftwarefoundation.python.3.11_qbz5n2kfra8p0\\localcache\\local-packages\\python311\\site-packages (from gradio==3.44.0) (0.104.1)\n",
            "Requirement already satisfied: ffmpy in c:\\users\\genom10\\appdata\\local\\packages\\pythonsoftwarefoundation.python.3.11_qbz5n2kfra8p0\\localcache\\local-packages\\python311\\site-packages (from gradio==3.44.0) (0.3.1)\n",
            "Requirement already satisfied: gradio-client==0.5.0 in c:\\users\\genom10\\appdata\\local\\packages\\pythonsoftwarefoundation.python.3.11_qbz5n2kfra8p0\\localcache\\local-packages\\python311\\site-packages (from gradio==3.44.0) (0.5.0)\n",
            "Requirement already satisfied: httpx in c:\\users\\genom10\\appdata\\local\\packages\\pythonsoftwarefoundation.python.3.11_qbz5n2kfra8p0\\localcache\\local-packages\\python311\\site-packages (from gradio==3.44.0) (0.25.1)\n",
            "Requirement already satisfied: huggingface-hub>=0.14.0 in c:\\users\\genom10\\appdata\\local\\packages\\pythonsoftwarefoundation.python.3.11_qbz5n2kfra8p0\\localcache\\local-packages\\python311\\site-packages (from gradio==3.44.0) (0.19.4)\n",
            "Requirement already satisfied: importlib-resources<7.0,>=1.3 in c:\\users\\genom10\\appdata\\local\\packages\\pythonsoftwarefoundation.python.3.11_qbz5n2kfra8p0\\localcache\\local-packages\\python311\\site-packages (from gradio==3.44.0) (6.1.1)\n",
            "Requirement already satisfied: jinja2<4.0 in c:\\users\\genom10\\appdata\\local\\packages\\pythonsoftwarefoundation.python.3.11_qbz5n2kfra8p0\\localcache\\local-packages\\python311\\site-packages (from gradio==3.44.0) (3.1.2)\n",
            "Requirement already satisfied: markupsafe~=2.0 in c:\\users\\genom10\\appdata\\local\\packages\\pythonsoftwarefoundation.python.3.11_qbz5n2kfra8p0\\localcache\\local-packages\\python311\\site-packages (from gradio==3.44.0) (2.1.3)\n",
            "Requirement already satisfied: matplotlib~=3.0 in c:\\users\\genom10\\appdata\\local\\packages\\pythonsoftwarefoundation.python.3.11_qbz5n2kfra8p0\\localcache\\local-packages\\python311\\site-packages (from gradio==3.44.0) (3.7.1)\n",
            "Requirement already satisfied: numpy~=1.0 in c:\\users\\genom10\\appdata\\local\\packages\\pythonsoftwarefoundation.python.3.11_qbz5n2kfra8p0\\localcache\\local-packages\\python311\\site-packages (from gradio==3.44.0) (1.24.3)\n",
            "Requirement already satisfied: orjson~=3.0 in c:\\users\\genom10\\appdata\\local\\packages\\pythonsoftwarefoundation.python.3.11_qbz5n2kfra8p0\\localcache\\local-packages\\python311\\site-packages (from gradio==3.44.0) (3.9.10)\n",
            "Requirement already satisfied: packaging in c:\\users\\genom10\\appdata\\local\\packages\\pythonsoftwarefoundation.python.3.11_qbz5n2kfra8p0\\localcache\\local-packages\\python311\\site-packages (from gradio==3.44.0) (23.1)\n",
            "Requirement already satisfied: pandas<3.0,>=1.0 in c:\\users\\genom10\\appdata\\local\\packages\\pythonsoftwarefoundation.python.3.11_qbz5n2kfra8p0\\localcache\\local-packages\\python311\\site-packages (from gradio==3.44.0) (2.0.2)\n",
            "Requirement already satisfied: pillow<11.0,>=8.0 in c:\\users\\genom10\\appdata\\local\\packages\\pythonsoftwarefoundation.python.3.11_qbz5n2kfra8p0\\localcache\\local-packages\\python311\\site-packages (from gradio==3.44.0) (9.5.0)\n",
            "Requirement already satisfied: pydantic!=1.8,!=1.8.1,!=2.0.0,!=2.0.1,<3.0.0,>=1.7.4 in c:\\users\\genom10\\appdata\\local\\packages\\pythonsoftwarefoundation.python.3.11_qbz5n2kfra8p0\\localcache\\local-packages\\python311\\site-packages (from gradio==3.44.0) (2.5.1)\n",
            "Requirement already satisfied: pydub in c:\\users\\genom10\\appdata\\local\\packages\\pythonsoftwarefoundation.python.3.11_qbz5n2kfra8p0\\localcache\\local-packages\\python311\\site-packages (from gradio==3.44.0) (0.25.1)\n",
            "Requirement already satisfied: python-multipart in c:\\users\\genom10\\appdata\\local\\packages\\pythonsoftwarefoundation.python.3.11_qbz5n2kfra8p0\\localcache\\local-packages\\python311\\site-packages (from gradio==3.44.0) (0.0.6)\n",
            "Requirement already satisfied: pyyaml<7.0,>=5.0 in c:\\users\\genom10\\appdata\\local\\packages\\pythonsoftwarefoundation.python.3.11_qbz5n2kfra8p0\\localcache\\local-packages\\python311\\site-packages (from gradio==3.44.0) (6.0.1)\n",
            "Requirement already satisfied: requests~=2.0 in c:\\users\\genom10\\appdata\\local\\packages\\pythonsoftwarefoundation.python.3.11_qbz5n2kfra8p0\\localcache\\local-packages\\python311\\site-packages (from gradio==3.44.0) (2.31.0)\n",
            "Requirement already satisfied: semantic-version~=2.0 in c:\\users\\genom10\\appdata\\local\\packages\\pythonsoftwarefoundation.python.3.11_qbz5n2kfra8p0\\localcache\\local-packages\\python311\\site-packages (from gradio==3.44.0) (2.10.0)\n",
            "Requirement already satisfied: typing-extensions~=4.0 in c:\\users\\genom10\\appdata\\local\\packages\\pythonsoftwarefoundation.python.3.11_qbz5n2kfra8p0\\localcache\\local-packages\\python311\\site-packages (from gradio==3.44.0) (4.8.0)\n",
            "Requirement already satisfied: uvicorn>=0.14.0 in c:\\users\\genom10\\appdata\\local\\packages\\pythonsoftwarefoundation.python.3.11_qbz5n2kfra8p0\\localcache\\local-packages\\python311\\site-packages (from gradio==3.44.0) (0.24.0.post1)\n",
            "Requirement already satisfied: websockets<12.0,>=10.0 in c:\\users\\genom10\\appdata\\local\\packages\\pythonsoftwarefoundation.python.3.11_qbz5n2kfra8p0\\localcache\\local-packages\\python311\\site-packages (from gradio==3.44.0) (11.0.3)\n",
            "Requirement already satisfied: fsspec in c:\\users\\genom10\\appdata\\local\\packages\\pythonsoftwarefoundation.python.3.11_qbz5n2kfra8p0\\localcache\\local-packages\\python311\\site-packages (from gradio-client==0.5.0->gradio==3.44.0) (2023.10.0)\n",
            "Requirement already satisfied: filelock in c:\\users\\genom10\\appdata\\local\\packages\\pythonsoftwarefoundation.python.3.11_qbz5n2kfra8p0\\localcache\\local-packages\\python311\\site-packages (from torch) (3.13.1)\n",
            "Requirement already satisfied: sympy in c:\\users\\genom10\\appdata\\local\\packages\\pythonsoftwarefoundation.python.3.11_qbz5n2kfra8p0\\localcache\\local-packages\\python311\\site-packages (from torch) (1.12)\n",
            "Requirement already satisfied: networkx in c:\\users\\genom10\\appdata\\local\\packages\\pythonsoftwarefoundation.python.3.11_qbz5n2kfra8p0\\localcache\\local-packages\\python311\\site-packages (from torch) (3.2.1)\n",
            "Requirement already satisfied: pyparsing>=2.4.1 in c:\\users\\genom10\\appdata\\local\\packages\\pythonsoftwarefoundation.python.3.11_qbz5n2kfra8p0\\localcache\\local-packages\\python311\\site-packages (from dice) (3.0.9)\n",
            "Requirement already satisfied: jsonschema>=3.0 in c:\\users\\genom10\\appdata\\local\\packages\\pythonsoftwarefoundation.python.3.11_qbz5n2kfra8p0\\localcache\\local-packages\\python311\\site-packages (from altair<6.0,>=4.2.0->gradio==3.44.0) (4.20.0)\n",
            "Requirement already satisfied: toolz in c:\\users\\genom10\\appdata\\local\\packages\\pythonsoftwarefoundation.python.3.11_qbz5n2kfra8p0\\localcache\\local-packages\\python311\\site-packages (from altair<6.0,>=4.2.0->gradio==3.44.0) (0.12.0)\n",
            "Requirement already satisfied: tqdm>=4.42.1 in c:\\users\\genom10\\appdata\\local\\packages\\pythonsoftwarefoundation.python.3.11_qbz5n2kfra8p0\\localcache\\local-packages\\python311\\site-packages (from huggingface-hub>=0.14.0->gradio==3.44.0) (4.66.1)\n",
            "Requirement already satisfied: contourpy>=1.0.1 in c:\\users\\genom10\\appdata\\local\\packages\\pythonsoftwarefoundation.python.3.11_qbz5n2kfra8p0\\localcache\\local-packages\\python311\\site-packages (from matplotlib~=3.0->gradio==3.44.0) (1.1.0)\n",
            "Requirement already satisfied: cycler>=0.10 in c:\\users\\genom10\\appdata\\local\\packages\\pythonsoftwarefoundation.python.3.11_qbz5n2kfra8p0\\localcache\\local-packages\\python311\\site-packages (from matplotlib~=3.0->gradio==3.44.0) (0.11.0)\n",
            "Requirement already satisfied: fonttools>=4.22.0 in c:\\users\\genom10\\appdata\\local\\packages\\pythonsoftwarefoundation.python.3.11_qbz5n2kfra8p0\\localcache\\local-packages\\python311\\site-packages (from matplotlib~=3.0->gradio==3.44.0) (4.40.0)\n",
            "Requirement already satisfied: kiwisolver>=1.0.1 in c:\\users\\genom10\\appdata\\local\\packages\\pythonsoftwarefoundation.python.3.11_qbz5n2kfra8p0\\localcache\\local-packages\\python311\\site-packages (from matplotlib~=3.0->gradio==3.44.0) (1.4.4)\n",
            "Requirement already satisfied: python-dateutil>=2.7 in c:\\users\\genom10\\appdata\\local\\packages\\pythonsoftwarefoundation.python.3.11_qbz5n2kfra8p0\\localcache\\local-packages\\python311\\site-packages (from matplotlib~=3.0->gradio==3.44.0) (2.8.2)\n",
            "Requirement already satisfied: pytz>=2020.1 in c:\\users\\genom10\\appdata\\local\\packages\\pythonsoftwarefoundation.python.3.11_qbz5n2kfra8p0\\localcache\\local-packages\\python311\\site-packages (from pandas<3.0,>=1.0->gradio==3.44.0) (2023.3)\n",
            "Requirement already satisfied: tzdata>=2022.1 in c:\\users\\genom10\\appdata\\local\\packages\\pythonsoftwarefoundation.python.3.11_qbz5n2kfra8p0\\localcache\\local-packages\\python311\\site-packages (from pandas<3.0,>=1.0->gradio==3.44.0) (2023.3)\n",
            "Requirement already satisfied: annotated-types>=0.4.0 in c:\\users\\genom10\\appdata\\local\\packages\\pythonsoftwarefoundation.python.3.11_qbz5n2kfra8p0\\localcache\\local-packages\\python311\\site-packages (from pydantic!=1.8,!=1.8.1,!=2.0.0,!=2.0.1,<3.0.0,>=1.7.4->gradio==3.44.0) (0.6.0)\n",
            "Requirement already satisfied: pydantic-core==2.14.3 in c:\\users\\genom10\\appdata\\local\\packages\\pythonsoftwarefoundation.python.3.11_qbz5n2kfra8p0\\localcache\\local-packages\\python311\\site-packages (from pydantic!=1.8,!=1.8.1,!=2.0.0,!=2.0.1,<3.0.0,>=1.7.4->gradio==3.44.0) (2.14.3)\n",
            "Requirement already satisfied: charset-normalizer<4,>=2 in c:\\users\\genom10\\appdata\\local\\packages\\pythonsoftwarefoundation.python.3.11_qbz5n2kfra8p0\\localcache\\local-packages\\python311\\site-packages (from requests~=2.0->gradio==3.44.0) (3.3.2)\n",
            "Requirement already satisfied: idna<4,>=2.5 in c:\\users\\genom10\\appdata\\local\\packages\\pythonsoftwarefoundation.python.3.11_qbz5n2kfra8p0\\localcache\\local-packages\\python311\\site-packages (from requests~=2.0->gradio==3.44.0) (3.4)\n",
            "Requirement already satisfied: urllib3<3,>=1.21.1 in c:\\users\\genom10\\appdata\\local\\packages\\pythonsoftwarefoundation.python.3.11_qbz5n2kfra8p0\\localcache\\local-packages\\python311\\site-packages (from requests~=2.0->gradio==3.44.0) (2.1.0)\n",
            "Requirement already satisfied: certifi>=2017.4.17 in c:\\users\\genom10\\appdata\\local\\packages\\pythonsoftwarefoundation.python.3.11_qbz5n2kfra8p0\\localcache\\local-packages\\python311\\site-packages (from requests~=2.0->gradio==3.44.0) (2023.11.17)\n",
            "Requirement already satisfied: click>=7.0 in c:\\users\\genom10\\appdata\\local\\packages\\pythonsoftwarefoundation.python.3.11_qbz5n2kfra8p0\\localcache\\local-packages\\python311\\site-packages (from uvicorn>=0.14.0->gradio==3.44.0) (8.1.7)\n",
            "Requirement already satisfied: h11>=0.8 in c:\\users\\genom10\\appdata\\local\\packages\\pythonsoftwarefoundation.python.3.11_qbz5n2kfra8p0\\localcache\\local-packages\\python311\\site-packages (from uvicorn>=0.14.0->gradio==3.44.0) (0.14.0)\n",
            "Requirement already satisfied: anyio<4.0.0,>=3.7.1 in c:\\users\\genom10\\appdata\\local\\packages\\pythonsoftwarefoundation.python.3.11_qbz5n2kfra8p0\\localcache\\local-packages\\python311\\site-packages (from fastapi->gradio==3.44.0) (3.7.1)\n",
            "Requirement already satisfied: starlette<0.28.0,>=0.27.0 in c:\\users\\genom10\\appdata\\local\\packages\\pythonsoftwarefoundation.python.3.11_qbz5n2kfra8p0\\localcache\\local-packages\\python311\\site-packages (from fastapi->gradio==3.44.0) (0.27.0)\n",
            "Requirement already satisfied: httpcore in c:\\users\\genom10\\appdata\\local\\packages\\pythonsoftwarefoundation.python.3.11_qbz5n2kfra8p0\\localcache\\local-packages\\python311\\site-packages (from httpx->gradio==3.44.0) (1.0.2)\n",
            "Requirement already satisfied: sniffio in c:\\users\\genom10\\appdata\\local\\packages\\pythonsoftwarefoundation.python.3.11_qbz5n2kfra8p0\\localcache\\local-packages\\python311\\site-packages (from httpx->gradio==3.44.0) (1.3.0)\n",
            "Requirement already satisfied: mpmath>=0.19 in c:\\users\\genom10\\appdata\\local\\packages\\pythonsoftwarefoundation.python.3.11_qbz5n2kfra8p0\\localcache\\local-packages\\python311\\site-packages (from sympy->torch) (1.3.0)\n",
            "Requirement already satisfied: colorama in c:\\users\\genom10\\appdata\\local\\packages\\pythonsoftwarefoundation.python.3.11_qbz5n2kfra8p0\\localcache\\local-packages\\python311\\site-packages (from click>=7.0->uvicorn>=0.14.0->gradio==3.44.0) (0.4.6)\n",
            "Requirement already satisfied: attrs>=22.2.0 in c:\\users\\genom10\\appdata\\local\\packages\\pythonsoftwarefoundation.python.3.11_qbz5n2kfra8p0\\localcache\\local-packages\\python311\\site-packages (from jsonschema>=3.0->altair<6.0,>=4.2.0->gradio==3.44.0) (23.1.0)\n",
            "Requirement already satisfied: jsonschema-specifications>=2023.03.6 in c:\\users\\genom10\\appdata\\local\\packages\\pythonsoftwarefoundation.python.3.11_qbz5n2kfra8p0\\localcache\\local-packages\\python311\\site-packages (from jsonschema>=3.0->altair<6.0,>=4.2.0->gradio==3.44.0) (2023.11.1)\n",
            "Requirement already satisfied: referencing>=0.28.4 in c:\\users\\genom10\\appdata\\local\\packages\\pythonsoftwarefoundation.python.3.11_qbz5n2kfra8p0\\localcache\\local-packages\\python311\\site-packages (from jsonschema>=3.0->altair<6.0,>=4.2.0->gradio==3.44.0) (0.31.0)\n",
            "Requirement already satisfied: rpds-py>=0.7.1 in c:\\users\\genom10\\appdata\\local\\packages\\pythonsoftwarefoundation.python.3.11_qbz5n2kfra8p0\\localcache\\local-packages\\python311\\site-packages (from jsonschema>=3.0->altair<6.0,>=4.2.0->gradio==3.44.0) (0.13.0)\n",
            "Requirement already satisfied: six>=1.5 in c:\\users\\genom10\\appdata\\local\\packages\\pythonsoftwarefoundation.python.3.11_qbz5n2kfra8p0\\localcache\\local-packages\\python311\\site-packages (from python-dateutil>=2.7->matplotlib~=3.0->gradio==3.44.0) (1.16.0)\n",
            "Note: you may need to restart the kernel to use updated packages.\n"
          ]
        },
        {
          "name": "stderr",
          "output_type": "stream",
          "text": [
            "\n",
            "[notice] A new release of pip is available: 23.2.1 -> 23.3.1\n",
            "[notice] To update, run: C:\\Users\\Genom10\\AppData\\Local\\Microsoft\\WindowsApps\\PythonSoftwareFoundation.Python.3.11_qbz5n2kfra8p0\\python.exe -m pip install --upgrade pip\n"
          ]
        }
      ],
      "source": [
        "%pip install gradio==3.44.0 torch dice"
      ]
    },
    {
      "cell_type": "code",
      "execution_count": 2,
      "metadata": {},
      "outputs": [
        {
          "name": "stderr",
          "output_type": "stream",
          "text": [
            "C:\\Users\\Genom10\\AppData\\Local\\Packages\\PythonSoftwareFoundation.Python.3.11_qbz5n2kfra8p0\\LocalCache\\local-packages\\Python311\\site-packages\\tqdm\\auto.py:21: TqdmWarning: IProgress not found. Please update jupyter and ipywidgets. See https://ipywidgets.readthedocs.io/en/stable/user_install.html\n",
            "  from .autonotebook import tqdm as notebook_tqdm\n"
          ]
        }
      ],
      "source": [
        "from src.dnd.units import Unit, GenericSoldier\n",
        "from src.dnd.game_board import DnDBoard, MovementError\n",
        "from src.gui.gridDrawer import generate_grid, draw_field\n",
        "from src.gui.adapters import RenderUnit\n",
        "from src.dnd.load_unit import load_unit, load_renderUnit, getTokenImagePath, getTokenName\n",
        "\n",
        "from typing import List\n",
        "import gradio as gr\n",
        "import itertools\n",
        "import glob\n",
        "import re\n",
        "import numpy as np"
      ]
    },
    {
      "cell_type": "code",
      "execution_count": 3,
      "metadata": {},
      "outputs": [],
      "source": [
        "board_size = None\n",
        "board = None\n",
        "render_units: List[RenderUnit] = []\n",
        "selectedToken = None\n",
        "selectedCell = None\n",
        "\n",
        "\n",
        "def generate_board(gridScale, gridSize):\n",
        "  global board_size\n",
        "  global board\n",
        "  board_size = gridSize\n",
        "  board = DnDBoard((board_size, board_size))\n",
        "  field = generate_grid(board_size, gridScale)\n",
        "  return field\n",
        "\n",
        "def add_token(image, x:int, y:int, gridScale, jsonDescriptor = None):\n",
        "  global board_size\n",
        "  global selectedToken\n",
        "  # print(jsonDescriptor.name)\n",
        "  if jsonDescriptor is None:\n",
        "    board.place_unit(GenericSoldier(), (x,y), 0)\n",
        "    render_units.append(RenderUnit(board.board[(x,y)].get_UID(), (x,y), image))\n",
        "  else:\n",
        "    board.place_unit(load_unit(jsonDescriptor.name), (x,y), 0)\n",
        "    r_unit = load_renderUnit(jsonDescriptor.name, (x,y))\n",
        "    r_unit.unitUID = board.board[(x,y)].get_UID()\n",
        "    render_units.append(r_unit)\n",
        "  if x < board_size:\n",
        "    x += 1\n",
        "  else:\n",
        "    x = 0\n",
        "    y += 1\n",
        "  # print(type(x))\n",
        "  return (draw_field(render_units, selectedToken, gridScale, board_size), \n",
        "          x, \n",
        "          y, \n",
        "          update_UID_list())\n",
        "\n",
        "def move_token(index, x:int, y:int, gridScale):\n",
        "  global board_size\n",
        "  global selectedToken\n",
        "  unit:Unit = board.get_unit_by_UID(render_units[index].getUID())\n",
        "  try:\n",
        "    board._set_unit_position(unit=unit, new_position=(y,x))\n",
        "    render_units[index].pos = np.array([y, x], dtype = int)\n",
        "  except MovementError as e:\n",
        "    print(\"Error moving into chosen cell:\", e)\n",
        "  return draw_field(render_units, selectedToken, gridScale, board_size)\n",
        "\n",
        "def set_selected_token(tokenID, gridScale):\n",
        "  global board_size\n",
        "  global selectedToken\n",
        "  # print('set selectedToken to:', selectedToken)\n",
        "  if type(tokenID) == int:\n",
        "    selectedToken = tokenID\n",
        "  else:\n",
        "    selectedToken = None\n",
        "  return draw_field(render_units, selectedToken, gridScale, board_size)\n",
        "\n",
        "def on_grid_scale_change(gridScale):\n",
        "  global board_size\n",
        "  global selectedToken\n",
        "  return draw_field(render_units, selectedToken, gridScale, board_size)\n",
        "\n",
        "def update_UID_list():\n",
        "  new_choices = [x.getUID() for x in render_units]\n",
        "  new_choices = list(zip(new_choices, itertools.count()))\n",
        "  return gr.Dropdown.update(choices=new_choices, interactive=True, label='tokenID')\n",
        "\n",
        "def on_board_click(boardImg, gridScale, evt: gr.SelectData):\n",
        "  global board\n",
        "  # print(f'{evt.index=}')\n",
        "  clickedCell = (evt.index[1]//(gridScale+1), evt.index[0]//(gridScale+1))\n",
        "  try:\n",
        "    index = [tuple(x.getPos()) for x in render_units].index(clickedCell)\n",
        "  except ValueError:\n",
        "    index = None\n",
        "  return index"
      ]
    },
    {
      "cell_type": "markdown",
      "metadata": {},
      "source": [
        "Interface"
      ]
    },
    {
      "cell_type": "code",
      "execution_count": 4,
      "metadata": {
        "colab": {
          "base_uri": "https://localhost:8080/",
          "height": 695
        },
        "id": "Uv_GNF0TjMi2",
        "outputId": "36c1ba91-0171-40a9-d84f-19ff08449378"
      },
      "outputs": [
        {
          "name": "stderr",
          "output_type": "stream",
          "text": [
            "C:\\Users\\Genom10\\AppData\\Local\\Temp\\ipykernel_6920\\3857505417.py:7: GradioUnusedKwargWarning: You have unused kwarg parameters in Image, please remove them: {'sources': []}\n",
            "  im_canvas = gr.Image(sources=[], interactive=False)\n"
          ]
        },
        {
          "name": "stdout",
          "output_type": "stream",
          "text": [
            "Running on local URL:  http://127.0.0.1:7860\n",
            "\n",
            "To create a public link, set `share=True` in `launch()`.\n"
          ]
        },
        {
          "data": {
            "text/html": [
              "<div><iframe src=\"http://127.0.0.1:7860/\" width=\"100%\" height=\"500\" allow=\"autoplay; camera; microphone; clipboard-read; clipboard-write;\" frameborder=\"0\" allowfullscreen></iframe></div>"
            ],
            "text/plain": [
              "<IPython.core.display.HTML object>"
            ]
          },
          "metadata": {},
          "output_type": "display_data"
        }
      ],
      "source": [
        "with gr.Blocks() as demo:\n",
        "  #Grid\n",
        "  with gr.Row():\n",
        "    gridSize = gr.Slider(label=\"gridSize\", value=10, minimum=2, maximum=100, step=1)\n",
        "    makeBoard = gr.Button(value=\"Make Board\")\n",
        "  gridScale = gr.Slider(label=\"gridScale\", value=64, minimum=16, maximum=128, step=1)\n",
        "  im_canvas = gr.Image(sources=[], interactive=False)\n",
        "  makeBoard.click(generate_board, inputs = [gridScale, gridSize], outputs=[im_canvas])\n",
        "  gridScale.change(on_grid_scale_change, inputs = [gridScale], outputs=[im_canvas])\n",
        "\n",
        "  with gr.Tabs(visible=True) as tabs:\n",
        "    #Add Token\n",
        "    with gr.TabItem(\"Add Token\") as tab1:\n",
        "      with gr.Row():\n",
        "        with gr.Column(min_width=10):\n",
        "          x = gr.Number(label=\"x pos\", precision=0)\n",
        "          y = gr.Number(label=\"y pos\", precision=0)\n",
        "          label = gr.Text()\n",
        "          jsonDescriptor = gr.File()\n",
        "        im_in = gr.Image(image_mode='RGBA', type='pil')\n",
        "        examples_paths = glob.glob('./Tokens/*.json')\n",
        "        token_data = [[getTokenImagePath(path), getTokenName(path), path] for path in examples_paths]\n",
        "        # print(token_data)\n",
        "        examples = gr.Examples(examples=token_data, inputs=[im_in, label, jsonDescriptor], examples_per_page=4)\n",
        "      btn_add = gr.Button(value=\"Add token\")\n",
        "\n",
        "    #Move Token\n",
        "    with gr.TabItem(\"Move Token\") as tab2:\n",
        "      with gr.Row():\n",
        "          tokenID = gr.Dropdown(['t1', 't2'], label='tokenID', allow_custom_value=True)\n",
        "          tab2.select(update_UID_list, outputs=tokenID)\n",
        "          x_move = gr.Number(label=\"x pos\", precision=0)\n",
        "          y_move = gr.Number(label=\"y pos\", precision=0)\n",
        "      btn_move = gr.Button(value=\"Move token\")\n",
        "    btn_add.click(add_token, inputs=[im_in, y, x, gridScale, jsonDescriptor], outputs=[im_canvas, y, x, tokenID])\n",
        "    tokenID.change(set_selected_token, inputs=[tokenID, gridScale], outputs=[im_canvas])\n",
        "    btn_move.click(move_token, inputs=[tokenID, x_move, y_move, gridScale], outputs=[im_canvas])\n",
        "    im_canvas.select(on_board_click, inputs=[im_canvas, gridScale], outputs=[tokenID])\n",
        "\n",
        "if __name__ == \"__main__\":\n",
        "    demo.launch()"
      ]
    }
  ],
  "metadata": {
    "colab": {
      "provenance": []
    },
    "kernelspec": {
      "display_name": "Python 3",
      "name": "python3"
    },
    "language_info": {
      "codemirror_mode": {
        "name": "ipython",
        "version": 3
      },
      "file_extension": ".py",
      "mimetype": "text/x-python",
      "name": "python",
      "nbconvert_exporter": "python",
      "pygments_lexer": "ipython3",
      "version": "3.11.5"
    }
  },
  "nbformat": 4,
  "nbformat_minor": 0
}
