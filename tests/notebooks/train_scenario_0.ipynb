{
 "cells": [
  {
   "cell_type": "markdown",
   "metadata": {},
   "source": [
    "# Simple scenario"
   ]
  },
  {
   "cell_type": "markdown",
   "metadata": {},
   "source": [
    "4x4 board, 2 players, each player has a single unit: GenericSoldier:\n",
    "* health 100 \n",
    "* damage 100 \n",
    "* Attack range 2 \n",
    "* speed 2"
   ]
  },
  {
   "cell_type": "markdown",
   "metadata": {},
   "source": [
    "## Boring code"
   ]
  },
  {
   "cell_type": "code",
   "execution_count": 1,
   "metadata": {},
   "outputs": [],
   "source": [
    "from IPython.display import clear_output\n",
    "import matplotlib.pyplot as plt\n",
    "from tqdm.auto import tqdm\n",
    "import numpy as np\n",
    "import time\n",
    "import sys\n",
    "\n",
    "if '../..' not in sys.path: sys.path.append('../..')\n",
    "from src.utils import *\n",
    "from src.actions import *\n",
    "from src.units import *\n",
    "from src.game_utils import *\n",
    "from src.agent import DnDAgent\n",
    "from src.game_board import DnDBoard"
   ]
  },
  {
   "cell_type": "code",
   "execution_count": 2,
   "metadata": {},
   "outputs": [],
   "source": [
    "seed_everything(511)"
   ]
  },
  {
   "cell_type": "code",
   "execution_count": 3,
   "metadata": {},
   "outputs": [],
   "source": [
    "def create_same_game(board_size = (5, 5), show_game=False, get_colormap=True):\n",
    "    game = DnDBoard(board_size)\n",
    "\n",
    "    ally = GenericSoldier(\"Ally soldier\", health=100, attack_damage=100, speed=3, range=2)\n",
    "    enemy = GenericSoldier(\"Enemy soldier\", health=100, attack_damage=100, speed=3, range=2)\n",
    "    \n",
    "    place_unit_randomly(game, ally, 0)\n",
    "    place_unit_randomly(game, enemy, 1)\n",
    "   \n",
    "    game.initialize_game()\n",
    "\n",
    "    if get_colormap or show_game:\n",
    "        color_map = {\n",
    "            ally: \"Green\",\n",
    "            enemy: \"Red\"\n",
    "        }\n",
    "\n",
    "        if show_game: print_game(game, color_map)\n",
    "\n",
    "        return game, color_map\n",
    "\n",
    "    return game"
   ]
  },
  {
   "cell_type": "code",
   "execution_count": 4,
   "metadata": {},
   "outputs": [],
   "source": [
    "def get_random_action_resolver(game):\n",
    "    def random_action_resolver(state):\n",
    "        legal_moves = get_legal_moves(game)\n",
    "        new_pos = random.choice(list(zip(*np.where(legal_moves))))\n",
    "        target_pos = random.choice(list(zip(*np.where(state[1]))))\n",
    "        return (new_pos[0], target_pos[0]), (new_pos[1], target_pos[1])\n",
    "    \n",
    "    return random_action_resolver"
   ]
  },
  {
   "cell_type": "code",
   "execution_count": 5,
   "metadata": {},
   "outputs": [],
   "source": [
    "def decode_action(game: DnDBoard, action_vector: tuple[np.ndarray[int], ...]):\n",
    "    current_unit, player_id = game.get_current_unit()\n",
    "    target_unit = game.board[action_vector[0][1], action_vector[1][1]]\n",
    "    action = ActionInstance(current_unit.actions[0], source_unit=current_unit, target_unit=target_unit)\n",
    "    return to_tuple((action_vector[0][0], action_vector[1][0])), action"
   ]
  },
  {
   "cell_type": "code",
   "execution_count": 6,
   "metadata": {},
   "outputs": [],
   "source": [
    "def get_states(game, agent, random_action_resolver=None):\n",
    "    state = game.observe_board()\n",
    "    action_vector = agent.choose_action_vector(state, random_action_resolver)\n",
    "    new_coords, action = decode_action(game, action_vector)\n",
    "\n",
    "    return state, action_vector, new_coords, action"
   ]
  },
  {
   "cell_type": "code",
   "execution_count": 7,
   "metadata": {},
   "outputs": [],
   "source": [
    "def self_play_loop(agent, game, color_map, random_action_resolver=None, delay=0.5):\n",
    "    game_over = False\n",
    "    iter_count = 0\n",
    "\n",
    "    print_game(game, color_map)\n",
    "    \n",
    "    while not game_over:\n",
    "        try:\n",
    "            iter_count += 1\n",
    "\n",
    "            time.sleep(delay)\n",
    "            clear_output(wait=True)\n",
    "            print(f'Iteration: {iter_count}')\n",
    "\n",
    "            _, _, new_coords, action = get_states(game, agent, random_action_resolver)\n",
    "            _, game_over = take_turn(game, new_coords, action, color_map, True)\n",
    "        except KeyboardInterrupt:\n",
    "            print(f'\\nGame interrupted after {iter_count} iterations')\n",
    "            return None\n",
    "\n",
    "    print(f'\\nGame over in {iter_count} iterations. Current epsilon = {agent.epsilon}')\n",
    "\n",
    "    return iter_count"
   ]
  },
  {
   "cell_type": "code",
   "execution_count": 8,
   "metadata": {},
   "outputs": [],
   "source": [
    "# next state is delayed and can be inconsistent. Enemy reward is your punishment\n",
    "def train_loop_delayed(agent: DnDAgent, game: DnDBoard, random_action_resolver=None) -> int:\n",
    "    game_over = False\n",
    "    iter_count = 0\n",
    "    \n",
    "    last_state, last_reward, last_action = None, None, None\n",
    "    while not game_over:\n",
    "        iter_count += 1\n",
    "    \n",
    "        state, action_vector, new_coords, action = get_states(game, agent, random_action_resolver)\n",
    "        reward, game_over = game.take_turn(new_coords, action, skip_illegal=True)\n",
    "        new_state = game.observe_board()\n",
    "\n",
    "        ## THIS IS WRONG, FIX REWARD\n",
    "        if last_state is not None:\n",
    "            total_reward = last_reward - reward\n",
    "            agent.memorize(last_state, last_action, total_reward, new_state, game_over)\n",
    "            \n",
    "        if game_over:\n",
    "            agent.memorize(state, action_vector, reward, new_state, game_over)\n",
    "        \n",
    "        agent.learn()\n",
    "        last_state = state\n",
    "        last_action = action_vector\n",
    "        last_reward = reward\n",
    "\n",
    "    return iter_count"
   ]
  },
  {
   "cell_type": "code",
   "execution_count": 9,
   "metadata": {},
   "outputs": [],
   "source": [
    "train_loop = train_loop_delayed # this one is actually bugged"
   ]
  },
  {
   "cell_type": "markdown",
   "metadata": {},
   "source": [
    "## Create agent & train"
   ]
  },
  {
   "cell_type": "code",
   "execution_count": 10,
   "metadata": {},
   "outputs": [],
   "source": [
    "agent = DnDAgent(lr=0.001, board_shape=(5, 5), epsilon_delta=1e-4, in_channels=7, out_actions=2, batch_size=128)\n",
    "iters, eps = [], []"
   ]
  },
  {
   "cell_type": "code",
   "execution_count": 11,
   "metadata": {},
   "outputs": [
    {
     "data": {
      "application/vnd.jupyter.widget-view+json": {
       "model_id": "82d09de77dde48cd81d3af2cff24dabc",
       "version_major": 2,
       "version_minor": 0
      },
      "text/plain": [
       "Training:   0%|          | 0/4000 [00:00<?, ?it/s]"
      ]
     },
     "metadata": {},
     "output_type": "display_data"
    }
   ],
   "source": [
    "games = 4000\n",
    "\n",
    "with tqdm(range(games), desc='Training') as pbar:\n",
    "    for i in pbar:\n",
    "        game = create_same_game(get_colormap=False)\n",
    "        resolver = get_random_action_resolver(game)\n",
    "        iter_count = train_loop(agent, game, resolver)\n",
    "        iters.append(iter_count)\n",
    "        eps.append(agent.epsilon)"
   ]
  },
  {
   "cell_type": "markdown",
   "metadata": {},
   "source": [
    "## Pretty plots"
   ]
  },
  {
   "cell_type": "code",
   "execution_count": 12,
   "metadata": {},
   "outputs": [
    {
     "data": {
      "image/png": "[encoded data removed]",
      "text/plain": [
       "<Figure size 640x480 with 2 Axes>"
      ]
     },
     "metadata": {},
     "output_type": "display_data"
    }
   ],
   "source": [
    "start_from = 0\n",
    "\n",
    "itersl = iters[start_from:]\n",
    "n = 300\n",
    "plt.plot(itersl, label='Iterations per game')\n",
    "smooth = np.convolve(itersl, np.ones(n) / n, mode='valid')\n",
    "plt.plot(range(n // 2, len(smooth) + n // 2), smooth, label='Smoothed')\n",
    "plt.ylim(0, 13)\n",
    "ax2 = plt.twinx()\n",
    "ax2.plot(eps[start_from:], color='red', label='Epsilon')\n",
    "plt.legend()\n",
    "plt.show()"
   ]
  },
  {
   "cell_type": "markdown",
   "metadata": {},
   "source": [
    "## Other visuals"
   ]
  },
  {
   "cell_type": "code",
   "execution_count": 13,
   "metadata": {},
   "outputs": [
    {
     "name": "stdout",
     "output_type": "stream",
     "text": [
      "Units alive: 2\n",
      "Players: 2:\n",
      "\tPlayer #0 (1 units): `\u001b[92mAlly soldier (100 HP)\u001b[0m`  \n",
      "\tPlayer #1 (1 units): `\u001b[91mEnemy soldier (100 HP)\u001b[0m`  \n",
      "\t\n",
      "    0 1 2 3 4\n",
      " 0         \u001b[92m██\u001b[0m 0 \n",
      " 1            1 \n",
      " 2   \u001b[91m██\u001b[0m       2 \n",
      " 3            3 \n",
      " 4            4 \n",
      "    0 1 2 3 4\n",
      "\n",
      "Next move is by player #0: `\u001b[92mAlly soldier\u001b[0m`\n"
     ]
    }
   ],
   "source": [
    "game, color_map = create_same_game()\n",
    "agent.game = game\n",
    "print_game(game, color_map)"
   ]
  },
  {
   "cell_type": "code",
   "execution_count": 14,
   "metadata": {},
   "outputs": [
    {
     "data": {
      "image/png": "[encoded data removed]",
      "text/plain": [
       "<Figure size 500x250 with 4 Axes>"
      ]
     },
     "metadata": {},
     "output_type": "display_data"
    }
   ],
   "source": [
    "state = game.observe_board()\n",
    "output = agent.predict(state)\n",
    "\n",
    "plot_featuremaps(\n",
    "    output, \n",
    "    title='Agent output', \n",
    "    fm_names=['New coords', 'Target unit'],\n",
    "    separate_cbars=True\n",
    ")"
   ]
  },
  {
   "cell_type": "code",
   "execution_count": 15,
   "metadata": {},
   "outputs": [
    {
     "name": "stdout",
     "output_type": "stream",
     "text": [
      "Iteration: 1\n",
      "Turn made by player #1: `\u001b[91mEnemy soldier\u001b[0m`:\n",
      "\tUnit moves: (4, 4) -> (4, 1);\n",
      "\tAnd takes aciton `Sword attack` with attributes: {'source_unit': 'Enemy soldier', 'target_unit': 'Ally soldier'}\n",
      "\n",
      "Units alive: 1\n",
      "Players: 2:\n",
      "\tPlayer #0 (0 units): \b\b  \n",
      "\tPlayer #1 (1 units): `\u001b[91mEnemy soldier (100 HP)\u001b[0m`, \b\b  \n",
      "\t\n",
      "    0 1 2 3 4\n",
      " 0            0 \n",
      " 1            1 \n",
      " 2            2 \n",
      " 3            3 \n",
      " 4   \u001b[91m██\u001b[0m       4 \n",
      "    0 1 2 3 4\n",
      "\n",
      "Next move is by player #1: `\u001b[91mEnemy soldier\u001b[0m`\n",
      "\n",
      "Game over in 1 iterations. Current epsilon = 0\n"
     ]
    }
   ],
   "source": [
    "game, color_map = create_same_game()\n",
    "epsilon = agent.epsilon\n",
    "agent.epsilon = 0\n",
    "self_play_loop(agent, game, color_map, delay=0.5)\n",
    "agent.epsilon = epsilon"
   ]
  }
 ],
 "metadata": {
  "kernelspec": {
   "display_name": "base",
   "language": "python",
   "name": "python3"
  },
  "language_info": {
   "codemirror_mode": {
    "name": "ipython",
    "version": 3
   },
   "file_extension": ".py",
   "mimetype": "text/x-python",
   "name": "python",
   "nbconvert_exporter": "python",
   "pygments_lexer": "ipython3",
   "version": "3.11.5"
  }
 },
 "nbformat": 4,
 "nbformat_minor": 2
}
