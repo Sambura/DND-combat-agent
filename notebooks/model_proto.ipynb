{
 "cells": [
  {
   "cell_type": "markdown",
   "metadata": {},
   "source": [
    "# Model proto"
   ]
  },
  {
   "cell_type": "markdown",
   "metadata": {},
   "source": [
    "This is a rough prototype of our RL solution"
   ]
  },
  {
   "cell_type": "code",
   "execution_count": 1,
   "metadata": {},
   "outputs": [],
   "source": [
    "import numpy as np\n",
    "import random\n",
    "from math import ceil, sqrt\n",
    "import matplotlib.pyplot as plt"
   ]
  },
  {
   "cell_type": "markdown",
   "metadata": {},
   "source": [
    "## Environment"
   ]
  },
  {
   "cell_type": "markdown",
   "metadata": {},
   "source": [
    "This is an implementation of the game environment"
   ]
  },
  {
   "cell_type": "code",
   "execution_count": 2,
   "metadata": {},
   "outputs": [],
   "source": [
    "def manhattan_distance(point1, point2):\n",
    "    x1, y1 = point1\n",
    "    x2, y2 = point2\n",
    "    return abs(x1 - x2) + abs(y1 - y2)"
   ]
  },
  {
   "cell_type": "code",
   "execution_count": 3,
   "metadata": {},
   "outputs": [],
   "source": [
    "class Action:\n",
    "    def __init__(self, name):\n",
    "        self.name = name\n",
    "\n",
    "    def invoke(self, *args):\n",
    "        raise RuntimeError('Empty aciton invoked')\n",
    "\n",
    "class SwordAttack(Action):\n",
    "    def __init__(self, attack_damage, range=1, name='Sword attack'):\n",
    "        super().__init__(name)\n",
    "        self.attack_damage = attack_damage\n",
    "        self.range = range\n",
    "\n",
    "    def invoke(self, game, source_unit, target_unit, skip_illegal):\n",
    "        unit_position = game.get_unit_position(source_unit)\n",
    "        if not self.check_action_legal(game, unit_position, source_unit, target_unit):\n",
    "            if not skip_illegal: raise RuntimeError('Too far to attack')\n",
    "            return None\n",
    "        \n",
    "        target_unit.take_damage(self.attack_damage)\n",
    "\n",
    "    def check_action_legal(self, game, new_position, source_unit, target_unit):\n",
    "        if source_unit is target_unit: return False\n",
    "        if target_unit is None: return False\n",
    "        \n",
    "        target_pos = game.get_unit_position(target_unit)\n",
    "        if manhattan_distance(target_pos, new_position) > self.range:\n",
    "             return False\n",
    "        return True"
   ]
  },
  {
   "cell_type": "code",
   "execution_count": 4,
   "metadata": {},
   "outputs": [],
   "source": [
    "class ActionInstance:\n",
    "    def __init__(self, action = None, **kwargs):\n",
    "        self.action = action\n",
    "        self.kwargs = kwargs\n",
    "\n",
    "    def check_action_legal(self, game, new_position): \n",
    "        if self.action is None: return True\n",
    "        return self.action.check_action_legal(game, new_position, **self.kwargs)\n",
    "    \n",
    "    def invoke(self, game, skip_illegal):\n",
    "        if self.action is None: return None\n",
    "        return self.action.invoke(game, **self.kwargs, skip_illegal=skip_illegal)"
   ]
  },
  {
   "cell_type": "code",
   "execution_count": 5,
   "metadata": {},
   "outputs": [],
   "source": [
    "class Unit:\n",
    "    def __init__(self, name, health, speed):\n",
    "        self.health = health\n",
    "        self.name = name\n",
    "        self.speed = speed\n",
    "        self.actions = []\n",
    "    \n",
    "    def take_damage(self, damage):\n",
    "        self.health -= damage\n",
    "\n",
    "    def is_alive(self): return self.health > 0\n",
    "\n",
    "    def __str__(self): return self.name\n",
    "\n",
    "class GenericSoldier(Unit):\n",
    "    def __init__(self, name='Generic soldier', speed=3, health=100, attack_damage=10, name_postfix=\"\"):\n",
    "        super().__init__(name + name_postfix, health, speed)\n",
    "        \n",
    "        self.actions.append(SwordAttack(attack_damage))"
   ]
  },
  {
   "cell_type": "code",
   "execution_count": 6,
   "metadata": {},
   "outputs": [],
   "source": [
    "def transform_matrix(matrix, func):\n",
    "    result_matrix = np.empty_like(matrix)\n",
    "\n",
    "    for i in range(matrix.shape[0]):\n",
    "        for j in range(matrix.shape[1]):\n",
    "            result_matrix[i, j] = func(i, j, matrix[i, j])\n",
    "\n",
    "    return result_matrix"
   ]
  },
  {
   "cell_type": "code",
   "execution_count": 7,
   "metadata": {},
   "outputs": [],
   "source": [
    "class DnD():\n",
    "    def __init__(self, board_dims=(10, 10)):\n",
    "        # 10x10 finite board for now\n",
    "        self.board = np.zeros(board_dims, dtype=object)\n",
    "        self.board.fill(None)\n",
    "        self.players_to_units = { }\n",
    "        self.units_to_players = { }\n",
    "    \n",
    "    def get_board(self):\n",
    "        return self.board\n",
    "    \n",
    "    def place_unit(self, unit, position, player_index, replace=False):\n",
    "        if not replace and self.board[position] is not None:\n",
    "            raise RuntimeError('This position is already occupied')\n",
    "        \n",
    "        self.board[position] = unit\n",
    "        if player_index not in self.players_to_units: \n",
    "            self.players_to_units[player_index] = []\n",
    "        self.players_to_units[player_index].append(unit)\n",
    "        self.units_to_players[unit] = player_index\n",
    "    \n",
    "    def is_occupied(self, position): return self.board[position] is not None\n",
    "\n",
    "    def initialize_game(self, check_empty=True):\n",
    "        self.units = self.board[self.board != None].flatten().tolist()\n",
    "        if check_empty and len(self.units) == 0:\n",
    "            raise RuntimeError('The board is empty')\n",
    "        \n",
    "        # Assign turn order\n",
    "        self.turn_order = random.sample(list(range(len(self.units))), len(self.units))\n",
    "        self.current_turn_index = 0\n",
    "    \n",
    "    def get_current_unit(self):\n",
    "        \"\"\"\n",
    "            Returns tuple of (unit, player_id) for the current unit to take turn\n",
    "            and the player_id that owns the unit\n",
    "        \"\"\"\n",
    "        unit = self.units[self.turn_order[self.current_turn_index]]\n",
    "        return unit, self.units_to_players[unit]\n",
    "    \n",
    "    def get_unit_position(self, unit):\n",
    "        return np.where(self.board == unit)\n",
    "    \n",
    "    def get_distance(self, unit1, unit2):\n",
    "        pos1 = self.get_unit_position(unit1)\n",
    "        pos2 = self.get_unit_position(unit2)\n",
    "        return manhattan_distance(pos1, pos2)\n",
    "\n",
    "    def check_move_legal(self, new_position, verbose=False):\n",
    "        unit, player_id = self.get_current_unit()\n",
    "        unit_position = self.get_unit_position(unit)\n",
    "        target_cell = self.board[new_position]\n",
    "\n",
    "        if target_cell is not None and target_cell is not unit:\n",
    "            if verbose: print('Cell occupied')\n",
    "            return False\n",
    "\n",
    "        if manhattan_distance(unit_position, new_position) > unit.speed:\n",
    "            if verbose: print('Too far')\n",
    "            return False\n",
    "        \n",
    "        return True\n",
    "    \n",
    "    def check_action_legal(self, new_position, action, verbose=False):\n",
    "        if action is None: return True\n",
    "\n",
    "        if not action.check_action_legal(self, new_position):\n",
    "            if verbose: print('Action illegal')\n",
    "            return False\n",
    "        \n",
    "        unit, player_id = self.get_current_unit()\n",
    "        if action.action is not None and action.action not in unit.actions:\n",
    "            if verbose: print('Action invalid')\n",
    "            return False\n",
    "        \n",
    "        return True\n",
    "    \n",
    "    def remove_unit(self, unit):\n",
    "        unit_pos = self.get_unit_position(unit)\n",
    "        player_id = self.units_to_players.pop(unit)\n",
    "        unit_index = self.units.index(unit)\n",
    "        self.units.remove(unit)\n",
    "        self.players_to_units[player_id].remove(unit)\n",
    "        self.board[unit_pos] = None\n",
    "        unit_turn_value = self.turn_order[unit_index]\n",
    "        self.turn_order.remove(unit_turn_value)\n",
    "\n",
    "        for i in range(len(self.turn_order)):\n",
    "            if self.turn_order[i] < unit_turn_value: continue\n",
    "            self.turn_order[i] -= 1\n",
    "\n",
    "        if self.current_turn_index >= unit_turn_value:\n",
    "            self.current_turn_index -= 1\n",
    "\n",
    "    def update_board(self):\n",
    "        to_remove = []\n",
    "\n",
    "        for unit in self.units:\n",
    "            if unit.is_alive(): continue\n",
    "            to_remove.append((unit, self.units_to_players[unit]))\n",
    "\n",
    "        for unit, player_id in to_remove: self.remove_unit(unit)\n",
    "\n",
    "        return { 'units_removed': to_remove }\n",
    "\n",
    "    # for the current unit to move in\n",
    "    def get_legal_positions(self):\n",
    "        current_unit, player_id = self.get_current_unit()\n",
    "        pos = self.get_unit_position(current_unit)\n",
    "\n",
    "        def is_legal(x, y, unit):\n",
    "            if unit is not None and unit is not current_unit: return False\n",
    "            return manhattan_distance(pos, (x, y)) <= current_unit.speed\n",
    "        \n",
    "        return transform_matrix(self.board, is_legal).astype(bool)\n",
    "\n",
    "    def take_turn(self, new_position, action, skip_illegal=False):\n",
    "        move_legal = self.check_move_legal(new_position)\n",
    "        unit, player_id = self.get_current_unit()\n",
    "\n",
    "        if not move_legal:\n",
    "            if not skip_illegal: raise RuntimeError('Illegal move')\n",
    "        else:\n",
    "            unit_pos = self.get_unit_position(unit)\n",
    "            self.board[unit_pos] = None\n",
    "            self.board[new_position] = unit\n",
    "\n",
    "        if not self.check_action_legal(new_position, action):\n",
    "            if not skip_illegal: raise RuntimeError('Illegal action')\n",
    "\n",
    "            self.current_turn_index = (self.current_turn_index + 1) % len(self.units)\n",
    "            return 0, False\n",
    "\n",
    "        if action is not None: action.invoke(self, skip_illegal=skip_illegal)\n",
    "        update = self.update_board()\n",
    "        self.current_turn_index = (self.current_turn_index + 1) % len(self.units)\n",
    "        \n",
    "        ### Stuff for agent\n",
    "\n",
    "        reward = 0\n",
    "        game_over = False\n",
    "        # reward for removing enemy units, 1 for each unit\n",
    "        reward += len([x for x in update['units_removed'] if x[1] != player_id])\n",
    "        # reward for defeating players\n",
    "        reward += 5 * len([x for x in update['units_removed'] if len(self.players_to_units[x[1]]) == 0 and x[1] != player_id])\n",
    "        # reward for winning\n",
    "        if len(self.players_to_units[player_id]) == len(self.units):\n",
    "            game_over = True\n",
    "            reward += 10\n",
    "        # penalty for losing (on your own turn ??)\n",
    "        if len(self.players_to_units[player_id]) == 0:\n",
    "            game_over = True\n",
    "            reward = -10\n",
    "        \n",
    "        return reward, game_over\n",
    "\n",
    "    def observe_board(self):\n",
    "        current_unit, player_id = self.get_current_unit()\n",
    "        ally_units = transform_matrix(self.board, lambda x, y, z: (z is not None) and (self.units_to_players[z] == player_id)).astype(bool)\n",
    "        enemy_units = (self.board != None) ^ ally_units\n",
    "        unit_to_move = np.zeros(ally_units.shape, dtype=bool)\n",
    "        unit_to_move[self.get_unit_position(current_unit)] = True\n",
    "        speeds = transform_matrix(self.board, lambda x,y,z: 0 if z is None else z.speed)\n",
    "        attack_ranges = transform_matrix(self.board, lambda x,y,z: 0 if z is None else z.actions[0].range)\n",
    "        attack_damages = transform_matrix(self.board, lambda x,y,z: 0 if z is None else z.actions[0].attack_damage)\n",
    "\n",
    "        return np.array([\n",
    "            ally_units,\n",
    "            enemy_units,\n",
    "            unit_to_move,\n",
    "            speeds,\n",
    "            attack_ranges,\n",
    "            attack_damages\n",
    "        ], dtype=np.float32)"
   ]
  },
  {
   "cell_type": "markdown",
   "metadata": {},
   "source": [
    "### Utils"
   ]
  },
  {
   "cell_type": "code",
   "execution_count": 8,
   "metadata": {},
   "outputs": [],
   "source": [
    "def print_game(game, unit_to_color):\n",
    "    COLORS = {\n",
    "        \"Red\": \"\\033[91m\",\n",
    "        \"Green\": \"\\033[92m\",\n",
    "        \"Blue\": \"\\033[94m\",\n",
    "        \"Purple\": \"\\033[95m\",\n",
    "        \"Orange\": \"\\033[93m\",\n",
    "        \"Cyan\": \"\\033[96m\",\n",
    "        \"Magenta\": \"\\033[95m\",\n",
    "        \"Reset\": \"\\033[0m\",\n",
    "    }\n",
    "\n",
    "    num_rows, num_cols = game.board.shape\n",
    "    number_padding = 2\n",
    "\n",
    "    print(f'Units alive: {len(game.units)}')\n",
    "    print(f'Players: {len(game.players_to_units)}:')\n",
    "    for player_id in game.players_to_units:\n",
    "        units = game.players_to_units[player_id]\n",
    "        print(f'\\tPlayer #{player_id} ({len(units)} units): ', end='')\n",
    "        for unit in units:\n",
    "            color = unit_to_color[unit]\n",
    "            print(f'`{COLORS[color]}{unit.name} ({unit.health} HP){COLORS[\"Reset\"]}`', end=', ')\n",
    "        print(\"\\b\\b  \")\n",
    "    print(f'\\t')\n",
    "\n",
    "    print(\" \" * (number_padding + 1), end=\"\")  # Offset for y-axis numbering\n",
    "    for j in range(num_cols):\n",
    "        print(f\"{j:>{number_padding}}\", end=\"\")\n",
    "\n",
    "    print()\n",
    "\n",
    "    # Print the matrix with numbering on both axes, \"empty,\" and compact grid\n",
    "    for i in range(num_rows):\n",
    "        # Print y-axis numbering on the left without colons\n",
    "        print(f\"{i:>{number_padding}} \", end=\"\")\n",
    "\n",
    "        for j in range(num_cols):\n",
    "            unit = game.board[i, j]\n",
    "            if unit is None:\n",
    "                formatted_value = \"  \"  # Represents \"empty\" with two space characters\n",
    "            else:\n",
    "                color = unit_to_color[unit]\n",
    "                formatted_value = f\"{COLORS[color]}██{COLORS['Reset']}\"  # Colorize # characters\n",
    "            print(formatted_value, end=\"\")\n",
    "\n",
    "        print(f\"{i:>{number_padding}} \")\n",
    "\n",
    "    # Print x-axis numbering at the bottom\n",
    "    print(\" \" * (number_padding + 1), end=\"\")  # Offset for y-axis numbering\n",
    "    for j in range(num_cols):\n",
    "        print(f\"{j:>{number_padding}}\", end=\"\")\n",
    "\n",
    "    print('\\n')\n",
    "\n",
    "    unit, player_id = game.get_current_unit()\n",
    "    color = unit_to_color[unit]\n",
    "    print(f'Next move is by player #{player_id}: `{COLORS[color]}{unit.name}{COLORS[\"Reset\"]}`')\n"
   ]
  },
  {
   "cell_type": "markdown",
   "metadata": {},
   "source": [
    "## Neural network"
   ]
  },
  {
   "cell_type": "markdown",
   "metadata": {},
   "source": [
    "Probably the most basic thing I could come up with"
   ]
  },
  {
   "cell_type": "code",
   "execution_count": 9,
   "metadata": {},
   "outputs": [],
   "source": [
    "import torch\n",
    "from torch import nn"
   ]
  },
  {
   "cell_type": "code",
   "execution_count": 10,
   "metadata": {},
   "outputs": [],
   "source": [
    "class DnDEvalModel(nn.Module):\n",
    "    def __init__(self, in_layers, out_layers):\n",
    "        super(DnDEvalModel, self).__init__()\n",
    "        self.layers = nn.Sequential(\n",
    "            nn.Conv2d(in_layers, 16, 3, padding=1),\n",
    "            nn.ReLU(),\n",
    "            nn.Conv2d(16, 8, 5, padding=2),\n",
    "            nn.ReLU(),\n",
    "            nn.Conv2d(8, 5, 5, padding=2),\n",
    "            nn.ReLU(),\n",
    "            nn.Conv2d(5, 8, 3, padding=1),\n",
    "            nn.ReLU(),\n",
    "            nn.Conv2d(8, out_layers, 3, padding=1),\n",
    "        )\n",
    "\n",
    "    def forward(self, x):\n",
    "        return self.layers(x)"
   ]
  },
  {
   "cell_type": "markdown",
   "metadata": {},
   "source": [
    "## Agent"
   ]
  },
  {
   "cell_type": "code",
   "execution_count": 11,
   "metadata": {},
   "outputs": [],
   "source": [
    "def to_tuple(coords):\n",
    "    return tuple(np.array(coords).flatten())"
   ]
  },
  {
   "cell_type": "code",
   "execution_count": 142,
   "metadata": {},
   "outputs": [],
   "source": [
    "class DnDAgent():\n",
    "    def __init__(self, game, lr=0.001, epsilon=0.99, min_epsilon=0.01, epsilon_delta=1e-5, gamma=0.9, memory_capacity=100000, batch_size=128):\n",
    "        # out_layers:\n",
    "        # new_unit_coords, target_unit\n",
    "        self.game = game\n",
    "        self.in_channels = 6\n",
    "        self.out_channels = 2\n",
    "        self.device = torch.device('cuda' if torch.cuda.is_available() else 'cpu')\n",
    "        self.model = DnDEvalModel(self.in_channels, self.out_channels).train().to(self.device)\n",
    "        self.optimizer = torch.optim.Adam(self.model.parameters(), lr = lr)\n",
    "        self.loss_fn = nn.MSELoss()\n",
    "        self.epsilon = epsilon\n",
    "        self.min_epsilon = min_epsilon\n",
    "        self.epsilon_delta = epsilon_delta\n",
    "        self.gamma = gamma\n",
    "        self.memory_capacity = memory_capacity\n",
    "        self.batch_size = batch_size\n",
    "        self.memory_position = 0\n",
    "        self.state_memory = np.zeros(memory_capacity, dtype=object)\n",
    "        self.new_state_memory = np.zeros(memory_capacity, dtype=object)\n",
    "        self.actions_memory = np.zeros(memory_capacity, dtype=object)\n",
    "        self.reward_memory = np.zeros(memory_capacity, dtype=np.float32)\n",
    "        self.game_over_memory = np.zeros(memory_capacity, dtype=np.bool_)\n",
    "        self.memory_bound = 0\n",
    "    \n",
    "    def predict(self, state):\n",
    "        return self.model(torch.tensor(state).to(self.device).unsqueeze(0)).detach().cpu().numpy()[0]\n",
    "\n",
    "    def choose_action(self, state = None):\n",
    "        if state is None: state = self.game.observe_board()\n",
    "        current_unit, player_id = self.game.get_current_unit()\n",
    "\n",
    "        if random.random() < self.epsilon:\n",
    "            legal_moves = self.game.get_legal_positions()\n",
    "            new_pos = random.choice(list(zip(*np.where(legal_moves))))\n",
    "            target_pos = random.choice(list(zip(*np.where(state[1]))))\n",
    "            target_unit = self.game.board[target_pos]\n",
    "\n",
    "            action = ActionInstance(current_unit.actions[0], source_unit=current_unit, target_unit=target_unit)\n",
    "\n",
    "\n",
    "            output = self.predict(state)\n",
    "            plot_featuremaps(\n",
    "                output, \n",
    "                name='Agent output', \n",
    "                fm_names=['New coords', 'Target unit'],\n",
    "                # separate_cbars=True,\n",
    "            )\n",
    "            print((new_pos, target_pos))\n",
    "\n",
    "\n",
    "\n",
    "            return new_pos, action, (new_pos, target_pos)\n",
    "\n",
    "        output = self.predict(state)\n",
    "        new_pos = to_tuple(np.argwhere(output[0] == np.max(output[0]))[0])\n",
    "        target_pos = to_tuple(np.argwhere(output[1] == np.max(output[1]))[0])\n",
    "        target_unit = self.game.board[target_pos]\n",
    "        action = ActionInstance(current_unit.actions[0], source_unit=current_unit, target_unit=target_unit)\n",
    "        return new_pos, action, (new_pos, target_pos)\n",
    "        \n",
    "    def memorize(self, state, actions, reward, new_state, game_over):\n",
    "        self.state_memory[self.memory_position] = state\n",
    "        self.reward_memory[self.memory_position] = reward\n",
    "        self.new_state_memory[self.memory_position] = new_state\n",
    "        self.game_over_memory[self.memory_position] = game_over\n",
    "        self.actions_memory[self.memory_position] = actions\n",
    "\n",
    "        self.memory_position = (self.memory_position + 1) % self.memory_capacity\n",
    "        self.memory_bound = max(self.memory_bound, self.memory_position) \n",
    "\n",
    "    def learn(self):\n",
    "        if self.memory_bound < self.batch_size: return\n",
    "\n",
    "        self.optimizer.zero_grad()\n",
    "\n",
    "        batch_indices = np.random.choice(self.memory_bound, self.batch_size, replace=False)\n",
    "        \n",
    "        states = torch.tensor(np.array(self.state_memory[batch_indices].tolist(), dtype=np.float32)).to(self.device)\n",
    "        new_states = torch.tensor(np.array(self.new_state_memory[batch_indices].tolist(), dtype=np.float32)).to(self.device)\n",
    "        rewards = torch.tensor(self.reward_memory[batch_indices]).to(self.device)\n",
    "        game_overs = self.game_over_memory[batch_indices]\n",
    "\n",
    "        actions = np.array(self.actions_memory[batch_indices].tolist(), dtype=np.int32) # (128, 2, 2)\n",
    "        actions1 = actions[:, 0]\n",
    "        actions2 = actions[:, 1]\n",
    "\n",
    "        q_evals = self.model(states) # [B, 2, H, W]\n",
    "        q_nexts = self.model(new_states).view(self.batch_size, self.out_channels, -1) # [B, 2, H*W]\n",
    "\n",
    "        batch_index = np.arange(self.batch_size, dtype=np.int32)\n",
    "        evals1 = q_evals[batch_index, 0, actions1[:, 0], actions1[:, 1]]\n",
    "        evals2 = q_evals[batch_index, 1, actions2[:, 0], actions2[:, 1]]\n",
    "\n",
    "        print('position evals:')\n",
    "        print(evals1)\n",
    "        print('action evals:')\n",
    "        print(evals2)\n",
    "\n",
    "        q_evals = evals1 + evals2\n",
    "        print('total evals:')\n",
    "        print(q_evals)\n",
    "        q_evals[game_overs] = 0\n",
    "        print('after game_over:')\n",
    "        print(q_evals)\n",
    "\n",
    "        q_target = rewards + self.gamma * (torch.max(q_nexts[:,0], dim=1)[0] + torch.max(q_nexts[:,1], dim=1)[0])\n",
    "\n",
    "        loss = self.loss_fn(q_target, q_evals)\n",
    "        loss.backward()\n",
    "        self.optimizer.step()\n",
    "\n",
    "        self.epsilon = max(self.epsilon - self.epsilon_delta, self.min_epsilon)"
   ]
  },
  {
   "cell_type": "markdown",
   "metadata": {},
   "source": [
    "## Sample agent game"
   ]
  },
  {
   "cell_type": "code",
   "execution_count": 13,
   "metadata": {},
   "outputs": [],
   "source": [
    "def take_turn(game, new_coords, action, unit_to_color, agent=False, prnt_game=True, print_move=True):\n",
    "    COLORS = {\n",
    "        \"Red\": \"\\033[91m\",\n",
    "        \"Green\": \"\\033[92m\",\n",
    "        \"Blue\": \"\\033[94m\",\n",
    "        \"Purple\": \"\\033[95m\",\n",
    "        \"Orange\": \"\\033[93m\",\n",
    "        \"Cyan\": \"\\033[96m\",\n",
    "        \"Magenta\": \"\\033[95m\",\n",
    "        \"Reset\": \"\\033[0m\",\n",
    "    }\n",
    "\n",
    "    unit, player_id = game.get_current_unit()\n",
    "    color = unit_to_color[unit]\n",
    "    if print_move: print(f'Turn made by player #{player_id}: `{COLORS[color]}{unit.name}{COLORS[\"Reset\"]}`:')\n",
    "    old_coords = to_tuple(game.get_unit_position(unit))\n",
    "    new_coords = to_tuple(new_coords)\n",
    "    if print_move: print(f'\\tUnit {\"moves\" if old_coords != new_coords else \"does not move\"}: {old_coords} -> {new_coords};')\n",
    "    if print_move:\n",
    "        if action is None:\n",
    "            print('\\tAnd does not take any action!')\n",
    "        else:\n",
    "            print(f'\\tAnd takes aciton `{action.action.name}` with attributes: {({key: str(value) for key, value in action.kwargs.items()})}')\n",
    "\n",
    "    reward, game_over = game.take_turn(new_coords, action, skip_illegal=agent)\n",
    "\n",
    "    if prnt_game: \n",
    "        print()\n",
    "        print_game(game, unit_to_color)\n",
    "\n",
    "    return reward, game_over"
   ]
  },
  {
   "cell_type": "code",
   "execution_count": 14,
   "metadata": {},
   "outputs": [],
   "source": [
    "agent = DnDAgent(None, epsilon_delta=1e-8)"
   ]
  },
  {
   "cell_type": "code",
   "execution_count": 15,
   "metadata": {},
   "outputs": [],
   "source": [
    "def create_same_game():\n",
    "    game = DnD((5, 5))\n",
    "    ally = GenericSoldier(\"Ally soldier\")\n",
    "    ally.actions[0].range = 3\n",
    "    ally2 = GenericSoldier(\"Ally dmg soldier\", 1, 50, 25)\n",
    "    enemy = GenericSoldier(\"Enemy soldier\")\n",
    "    enemy.actions[0].range = 3\n",
    "    enemy2 = GenericSoldier(\"Enemy tank soldier\", 1, 250, 4)\n",
    "    game.place_unit(ally, (1, 1), 0)\n",
    "    #game.place_unit(ally2, (1, 3), 0)\n",
    "    game.place_unit(enemy, (3, 3), 1)\n",
    "    #game.place_unit(enemy2, (8, 6), 1)\n",
    "    game.initialize_game()\n",
    "\n",
    "    color_map = {\n",
    "        ally: \"Green\",\n",
    "        enemy: \"Red\",\n",
    "        #ally2: \"Blue\",\n",
    "        #enemy2: \"Purple\"\n",
    "    }\n",
    "\n",
    "    # print_game(game, color_map)\n",
    "\n",
    "    return game, color_map"
   ]
  },
  {
   "cell_type": "code",
   "execution_count": 16,
   "metadata": {},
   "outputs": [],
   "source": [
    "import time\n",
    "from IPython.display import clear_output\n",
    "\n",
    "\n",
    "def play_game(game, color_map, print_games=True):\n",
    "    game_over = False\n",
    "    iter_ = 0\n",
    "    \n",
    "    while not game_over:\n",
    "        iter_ += 1\n",
    "        print_iter = print_games #iter_ % 10 == 0\n",
    "#\n",
    "        if print_iter:\n",
    "            clear_output(wait=True)\n",
    "            print(f'Iteration: {iter_}')\n",
    "    \n",
    "        state = game.observe_board()\n",
    "        new_coords, action, action_tuple = agent.choose_action(state)\n",
    "    \n",
    "        # game.check_move_legal(new_coords, True)\n",
    "        # game.check_action_legal(new_coords, action, True)\n",
    "    \n",
    "        reward, game_over = take_turn(game, new_coords, action, color_map, True, print_iter, print_iter)\n",
    "    \n",
    "        if game_over:\n",
    "            agent.memorize(state, action_tuple, reward, game.observe_board(), game_over)\n",
    "            break\n",
    "        \n",
    "        enemy_state = game.observe_board()\n",
    "        new_coords, action, enemy_action_tuple = agent.choose_action(enemy_state)\n",
    "    \n",
    "        # game.check_move_legal(new_coords, True)\n",
    "        # game.check_action_legal(new_coords, action, True)\n",
    "    \n",
    "        enemy_reward, game_over = take_turn(game, new_coords, action, color_map, True, False, False)\n",
    "    \n",
    "        new_state = game.observe_board()\n",
    "\n",
    "        reward -= enemy_reward\n",
    "        agent.memorize(state, action_tuple, reward, new_state, game_over)\n",
    "        agent.learn()\n",
    "        if print_games: time.sleep(0.1)\n",
    "    \n",
    "    if print_games: print(f'\\nGame over in {iter_} iterations. Current epsilon = {agent.epsilon}')\n",
    "\n",
    "    return iter_"
   ]
  },
  {
   "cell_type": "code",
   "execution_count": 36,
   "metadata": {},
   "outputs": [
    {
     "data": {
      "application/vnd.jupyter.widget-view+json": {
       "model_id": "c91018a114314148b9f9b1cb15d28199",
       "version_major": 2,
       "version_minor": 0
      },
      "text/plain": [
       "Game:   0%|          | 0/10000 [00:00<?, ?it/s]"
      ]
     },
     "metadata": {},
     "output_type": "display_data"
    }
   ],
   "source": [
    "iters = []\n",
    "games = 10000\n",
    "# agent.epsilon_delta *= 10\n",
    "from tqdm.auto import tqdm\n",
    "\n",
    "with tqdm(range(games), desc='Game') as pbar:\n",
    "    for i in pbar:\n",
    "        game, color_map = create_same_game()\n",
    "        agent.game = game\n",
    "        its = play_game(game, color_map, False)\n",
    "        iters.append(its)"
   ]
  },
  {
   "cell_type": "code",
   "execution_count": 38,
   "metadata": {},
   "outputs": [
    {
     "data": {
      "text/plain": [
       "[<matplotlib.lines.Line2D at 0x26206cac5d0>]"
      ]
     },
     "execution_count": 38,
     "metadata": {},
     "output_type": "execute_result"
    },
    {
     "data": {
      "image/png": "[encoded data removed]",
      "text/plain": [
       "<Figure size 640x480 with 1 Axes>"
      ]
     },
     "metadata": {},
     "output_type": "display_data"
    }
   ],
   "source": [
    "n = 300\n",
    "plt.plot(iters)\n",
    "smoth = np.convolve(iters, np.ones(n) / n, mode='valid')\n",
    "plt.plot(range(n, len(smoth) + n), smoth)"
   ]
  },
  {
   "cell_type": "code",
   "execution_count": 17,
   "metadata": {},
   "outputs": [
    {
     "name": "stdout",
     "output_type": "stream",
     "text": [
      "Iteration: 12\n",
      "Turn made by player #0: `\u001b[92mAlly soldier\u001b[0m`:\n",
      "\tUnit moves: (1, 4) -> (3, 4);\n",
      "\tAnd takes aciton `Sword attack` with attributes: {'source_unit': 'Ally soldier', 'target_unit': 'Enemy soldier'}\n",
      "\n",
      "Units alive: 1\n",
      "Players: 2:\n",
      "\tPlayer #0 (1 units): `\u001b[92mAlly soldier (40 HP)\u001b[0m`, \b\b  \n",
      "\tPlayer #1 (0 units): \b\b  \n",
      "\t\n",
      "    0 1 2 3 4\n",
      " 0            0 \n",
      " 1            1 \n",
      " 2            2 \n",
      " 3         \u001b[92m██\u001b[0m 3 \n",
      " 4            4 \n",
      "    0 1 2 3 4\n",
      "\n",
      "Next move is by player #0: `\u001b[92mAlly soldier\u001b[0m`\n",
      "\n",
      "Game over in 12 iterations. Current epsilon = 0.99\n"
     ]
    }
   ],
   "source": [
    "game, color_map = create_same_game()\n",
    "agent.game = game\n",
    "its = play_game(game, color_map)"
   ]
  },
  {
   "cell_type": "code",
   "execution_count": 18,
   "metadata": {},
   "outputs": [],
   "source": [
    "game, color_map = create_same_game()\n",
    "agent.game = game\n",
    "last_reward = float('NaN')"
   ]
  },
  {
   "cell_type": "code",
   "execution_count": 19,
   "metadata": {},
   "outputs": [
    {
     "name": "stdout",
     "output_type": "stream",
     "text": [
      "Turn made by player #1: `\u001b[91mEnemy soldier\u001b[0m`:\n",
      "\tUnit moves: (3, 3) -> (2, 2);\n",
      "\tAnd takes aciton `Sword attack` with attributes: {'source_unit': 'Enemy soldier', 'target_unit': 'Ally soldier'}\n",
      "\n",
      "Units alive: 2\n",
      "Players: 2:\n",
      "\tPlayer #0 (1 units): `\u001b[92mAlly soldier (90 HP)\u001b[0m`  \n",
      "\tPlayer #1 (1 units): `\u001b[91mEnemy soldier (100 HP)\u001b[0m`  \n",
      "\t\n",
      "    0 1 2 3 4\n",
      " 0            0 \n",
      " 1   \u001b[92m██\u001b[0m       1 \n",
      " 2     \u001b[91m██\u001b[0m     2 \n",
      " 3            3 \n",
      " 4            4 \n",
      "    0 1 2 3 4\n",
      "\n",
      "Next move is by player #0: `\u001b[92mAlly soldier\u001b[0m`\n",
      "Reward: 0, total reward: nan\n"
     ]
    }
   ],
   "source": [
    "new_coords, action, action_tuple = agent.choose_action(game.observe_board())\n",
    "\n",
    "reward, game_over = take_turn(game, new_coords, action, color_map, True)\n",
    "\n",
    "print(f'Reward: {reward}, total reward: {reward - last_reward}')\n",
    "last_reward = reward"
   ]
  },
  {
   "cell_type": "markdown",
   "metadata": {},
   "source": [
    "# Visualization"
   ]
  },
  {
   "cell_type": "code",
   "execution_count": 20,
   "metadata": {},
   "outputs": [
    {
     "data": {
      "image/png": "[encoded data removed]",
      "text/plain": [
       "<Figure size 640x480 with 7 Axes>"
      ]
     },
     "metadata": {},
     "output_type": "display_data"
    }
   ],
   "source": [
    "def plot_featuremaps(data, name=\"\", fm_names=None, vmin=None, vmax=None, shape=None, separate_cbars=False, show=True):\n",
    "    if shape is None:\n",
    "        width = int(ceil(sqrt(data.shape[0])))\n",
    "        height = int(ceil(data.shape[0] / width))\n",
    "        shape = (height, width)\n",
    "    \n",
    "    if vmin is None and not separate_cbars: vmin = np.min(data)\n",
    "    if vmax is None and not separate_cbars: vmax = np.max(data)\n",
    "\n",
    "    fig, ax_m = plt.subplots(*shape, dpi=100)\n",
    "    fig.suptitle(name)\n",
    "    axs = ax_m.ravel()\n",
    "    imgs = []\n",
    "    for i, (fm, ax) in enumerate(zip(data, axs)):\n",
    "        imgs.append(ax.imshow(fm, cmap='coolwarm', vmin=vmin, vmax=vmax))\n",
    "        if fm_names is not None:\n",
    "            ax.set_title(fm_names[i])\n",
    "        \n",
    "        if separate_cbars:\n",
    "            fig.colorbar(imgs[i], ax=ax)\n",
    "\n",
    "    if not separate_cbars:\n",
    "        fig.colorbar(imgs[0], ax=axs)\n",
    "    \n",
    "    if show: \n",
    "        if separate_cbars: plt.tight_layout()\n",
    "        plt.show()\n",
    "\n",
    "\n",
    "state = game.observe_board()\n",
    "plot_featuremaps(\n",
    "    state, \n",
    "    name='Observed state', \n",
    "    fm_names=['Ally units', 'Enemy units', 'Current unit', 'Movement speed', 'Attack range', 'Attack damage'],\n",
    "    vmin = -3,\n",
    "    vmax = 3,\n",
    ")"
   ]
  },
  {
   "cell_type": "code",
   "execution_count": 143,
   "metadata": {},
   "outputs": [],
   "source": [
    "game, color_map = create_same_game()\n",
    "agent = DnDAgent(game, batch_size=3)\n",
    "gstate = game.observe_board()"
   ]
  },
  {
   "cell_type": "code",
   "execution_count": 144,
   "metadata": {},
   "outputs": [
    {
     "name": "stdout",
     "output_type": "stream",
     "text": [
      "Turn made by player #0: `\u001b[92mAlly soldier\u001b[0m`:\n",
      "\tUnit moves: (1, 1) -> (1, 4);\n",
      "\tAnd takes aciton `Sword attack` with attributes: {'source_unit': 'Ally soldier', 'target_unit': 'Enemy soldier'}\n",
      "\n",
      "Units alive: 2\n",
      "Players: 2:\n",
      "\tPlayer #0 (1 units): `\u001b[92mAlly soldier (100 HP)\u001b[0m`  \n",
      "\tPlayer #1 (1 units): `\u001b[91mEnemy soldier (90 HP)\u001b[0m`  \n",
      "\t\n",
      "    0 1 2 3 4\n",
      " 0            0 \n",
      " 1         \u001b[92m██\u001b[0m 1 \n",
      " 2            2 \n",
      " 3       \u001b[91m██\u001b[0m   3 \n",
      " 4            4 \n",
      "    0 1 2 3 4\n",
      "\n",
      "Next move is by player #1: `\u001b[91mEnemy soldier\u001b[0m`\n"
     ]
    }
   ],
   "source": [
    "new_coords, action, action_tuple = agent.choose_action(game.observe_board())\n",
    "\n",
    "reward, game_over = take_turn(game, new_coords, action, color_map, True)\n",
    "agent.memorize(gstate, action_tuple, 0, gstate, False)"
   ]
  },
  {
   "cell_type": "code",
   "execution_count": 145,
   "metadata": {},
   "outputs": [
    {
     "name": "stdout",
     "output_type": "stream",
     "text": [
      "Turn made by player #1: `\u001b[91mEnemy soldier\u001b[0m`:\n",
      "\tUnit moves: (3, 3) -> (3, 1);\n",
      "\tAnd takes aciton `Sword attack` with attributes: {'source_unit': 'Enemy soldier', 'target_unit': 'Ally soldier'}\n",
      "\n",
      "Units alive: 2\n",
      "Players: 2:\n",
      "\tPlayer #0 (1 units): `\u001b[92mAlly soldier (100 HP)\u001b[0m`  \n",
      "\tPlayer #1 (1 units): `\u001b[91mEnemy soldier (90 HP)\u001b[0m`  \n",
      "\t\n",
      "    0 1 2 3 4\n",
      " 0            0 \n",
      " 1         \u001b[92m██\u001b[0m 1 \n",
      " 2            2 \n",
      " 3   \u001b[91m██\u001b[0m       3 \n",
      " 4            4 \n",
      "    0 1 2 3 4\n",
      "\n",
      "Next move is by player #0: `\u001b[92mAlly soldier\u001b[0m`\n"
     ]
    }
   ],
   "source": [
    "new_coords, action, action_tuple = agent.choose_action(game.observe_board())\n",
    "\n",
    "reward, game_over = take_turn(game, new_coords, action, color_map, True)\n",
    "agent.memorize(gstate, action_tuple, 0, gstate, False)"
   ]
  },
  {
   "cell_type": "code",
   "execution_count": 146,
   "metadata": {},
   "outputs": [
    {
     "name": "stdout",
     "output_type": "stream",
     "text": [
      "Turn made by player #0: `\u001b[92mAlly soldier\u001b[0m`:\n",
      "\tUnit does not move: (1, 4) -> (1, 4);\n",
      "\tAnd takes aciton `Sword attack` with attributes: {'source_unit': 'Ally soldier', 'target_unit': 'Enemy soldier'}\n",
      "\n",
      "Units alive: 2\n",
      "Players: 2:\n",
      "\tPlayer #0 (1 units): `\u001b[92mAlly soldier (100 HP)\u001b[0m`  \n",
      "\tPlayer #1 (1 units): `\u001b[91mEnemy soldier (90 HP)\u001b[0m`  \n",
      "\t\n",
      "    0 1 2 3 4\n",
      " 0            0 \n",
      " 1         \u001b[92m██\u001b[0m 1 \n",
      " 2            2 \n",
      " 3   \u001b[91m██\u001b[0m       3 \n",
      " 4            4 \n",
      "    0 1 2 3 4\n",
      "\n",
      "Next move is by player #1: `\u001b[91mEnemy soldier\u001b[0m`\n"
     ]
    }
   ],
   "source": [
    "new_coords, action, action_tuple = agent.choose_action(game.observe_board())\n",
    "\n",
    "reward, game_over = take_turn(game, new_coords, action, color_map, True)\n",
    "agent.memorize(gstate, action_tuple, 0, gstate, False)"
   ]
  },
  {
   "cell_type": "code",
   "execution_count": 147,
   "metadata": {},
   "outputs": [
    {
     "name": "stdout",
     "output_type": "stream",
     "text": [
      "position evals:\n",
      "tensor([-0.1459, -0.0828, -0.0828], device='cuda:0', grad_fn=<IndexBackward0>)\n",
      "action evals:\n",
      "tensor([-0.0457, -0.0088, -0.0260], device='cuda:0', grad_fn=<IndexBackward0>)\n",
      "total evals:\n",
      "tensor([-0.1915, -0.0916, -0.1088], device='cuda:0', grad_fn=<AddBackward0>)\n",
      "after game_over:\n",
      "tensor([-0.1915, -0.0916, -0.1088], device='cuda:0',\n",
      "       grad_fn=<IndexPutBackward0>)\n"
     ]
    }
   ],
   "source": [
    "agent.learn()"
   ]
  },
  {
   "cell_type": "code",
   "execution_count": 148,
   "metadata": {},
   "outputs": [
    {
     "data": {
      "image/png": "[encoded data removed]",
      "text/plain": [
       "<Figure size 640x480 with 3 Axes>"
      ]
     },
     "metadata": {},
     "output_type": "display_data"
    },
    {
     "name": "stdout",
     "output_type": "stream",
     "text": [
      "((0, 1), (2, 2))\n"
     ]
    }
   ],
   "source": [
    "\n",
    "output = agent.model(torch.tensor(state).to(agent.device).unsqueeze(0)).detach().cpu().numpy()[0]\n",
    "\n",
    "plot_featuremaps(\n",
    "    output, \n",
    "    name='Agent output', \n",
    "    fm_names=['New coords', 'Target unit'],\n",
    "    # separate_cbars=True,\n",
    ")\n",
    "\n",
    "print(choose_action(agent, state)[2])"
   ]
  }
 ],
 "metadata": {
  "kernelspec": {
   "display_name": "base",
   "language": "python",
   "name": "python3"
  },
  "language_info": {
   "codemirror_mode": {
    "name": "ipython",
    "version": 3
   },
   "file_extension": ".py",
   "mimetype": "text/x-python",
   "name": "python",
   "nbconvert_exporter": "python",
   "pygments_lexer": "ipython3",
   "version": "3.11.5"
  }
 },
 "nbformat": 4,
 "nbformat_minor": 2
}
