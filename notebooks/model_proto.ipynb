{
 "cells": [
  {
   "cell_type": "markdown",
   "metadata": {},
   "source": [
    "# Model proto"
   ]
  },
  {
   "cell_type": "markdown",
   "metadata": {},
   "source": [
    "This is a rough prototype of our RL solution"
   ]
  },
  {
   "cell_type": "code",
   "execution_count": 1,
   "metadata": {},
   "outputs": [],
   "source": [
    "import numpy as np\n",
    "import random\n",
    "from math import ceil, sqrt\n",
    "import matplotlib.pyplot as plt"
   ]
  },
  {
   "cell_type": "markdown",
   "metadata": {},
   "source": [
    "## Environment"
   ]
  },
  {
   "cell_type": "markdown",
   "metadata": {},
   "source": [
    "This is an implementation of the game environment"
   ]
  },
  {
   "cell_type": "code",
   "execution_count": 2,
   "metadata": {},
   "outputs": [],
   "source": [
    "def manhattan_distance(point1, point2):\n",
    "    x1, y1 = point1\n",
    "    x2, y2 = point2\n",
    "    return abs(x1 - x2) + abs(y1 - y2)"
   ]
  },
  {
   "cell_type": "code",
   "execution_count": 3,
   "metadata": {},
   "outputs": [],
   "source": [
    "class Action:\n",
    "    def __init__(self, name):\n",
    "        self.name = name\n",
    "\n",
    "    def invoke(self, *args):\n",
    "        raise RuntimeError('Empty aciton invoked')\n",
    "\n",
    "class SwordAttack(Action):\n",
    "    def __init__(self, attack_damage, range=1, name='Sword attack'):\n",
    "        super().__init__(name)\n",
    "        self.attack_damage = attack_damage\n",
    "        self.range = range\n",
    "\n",
    "    def invoke(self, game, source_unit, target_unit, skip_illegal):\n",
    "        unit_position = game.get_unit_position(source_unit)\n",
    "        if not self.check_action_legal(game, unit_position, source_unit, target_unit):\n",
    "            if not skip_illegal: raise RuntimeError('Too far to attack')\n",
    "            return None\n",
    "        \n",
    "        target_unit.take_damage(self.attack_damage)\n",
    "\n",
    "    def check_action_legal(self, game, new_position, source_unit, target_unit):\n",
    "        if source_unit is target_unit: return False\n",
    "        if target_unit is None: return False\n",
    "        \n",
    "        target_pos = game.get_unit_position(target_unit)\n",
    "        if manhattan_distance(target_pos, new_position) > self.range:\n",
    "             return False\n",
    "        return True"
   ]
  },
  {
   "cell_type": "code",
   "execution_count": 4,
   "metadata": {},
   "outputs": [],
   "source": [
    "class ActionInstance:\n",
    "    def __init__(self, action = None, **kwargs):\n",
    "        self.action = action\n",
    "        self.kwargs = kwargs\n",
    "\n",
    "    def check_action_legal(self, game, new_position): \n",
    "        if self.action is None: return True\n",
    "        return self.action.check_action_legal(game, new_position, **self.kwargs)\n",
    "    \n",
    "    def invoke(self, game, skip_illegal):\n",
    "        if self.action is None: return None\n",
    "        return self.action.invoke(game, **self.kwargs, skip_illegal=skip_illegal)"
   ]
  },
  {
   "cell_type": "code",
   "execution_count": 5,
   "metadata": {},
   "outputs": [],
   "source": [
    "class Unit:\n",
    "    def __init__(self, name, health, speed):\n",
    "        self.health = health\n",
    "        self.name = name\n",
    "        self.speed = speed\n",
    "        self.actions = []\n",
    "    \n",
    "    def take_damage(self, damage):\n",
    "        self.health -= damage\n",
    "\n",
    "    def is_alive(self): return self.health > 0\n",
    "\n",
    "    def __str__(self): return self.name\n",
    "\n",
    "class GenericSoldier(Unit):\n",
    "    def __init__(self, name='Generic soldier', speed=3, health=100, attack_damage=10, name_postfix=\"\"):\n",
    "        super().__init__(name + name_postfix, health, speed)\n",
    "        \n",
    "        self.actions.append(SwordAttack(attack_damage))"
   ]
  },
  {
   "cell_type": "code",
   "execution_count": 6,
   "metadata": {},
   "outputs": [],
   "source": [
    "def transform_matrix(matrix, func):\n",
    "    result_matrix = np.empty_like(matrix)\n",
    "\n",
    "    for i in range(matrix.shape[0]):\n",
    "        for j in range(matrix.shape[1]):\n",
    "            result_matrix[i, j] = func(i, j, matrix[i, j])\n",
    "\n",
    "    return result_matrix"
   ]
  },
  {
   "cell_type": "code",
   "execution_count": 7,
   "metadata": {},
   "outputs": [],
   "source": [
    "class DnD():\n",
    "    def __init__(self, board_dims=(10, 10)):\n",
    "        # 10x10 finite board for now\n",
    "        self.board = np.zeros(board_dims, dtype=object)\n",
    "        self.board.fill(None)\n",
    "        self.players_to_units = { }\n",
    "        self.units_to_players = { }\n",
    "    \n",
    "    def get_board(self):\n",
    "        return self.board\n",
    "    \n",
    "    def place_unit(self, unit, position, player_index, replace=False):\n",
    "        \"\"\"\n",
    "            Places the given unit at specified position on the board\n",
    "            If `replace` is False, raises an error on attempt to replace\n",
    "            an existing unit\n",
    "        \"\"\"\n",
    "        if not replace and self.board[position] is not None:\n",
    "            raise RuntimeError('This position is already occupied')\n",
    "        \n",
    "        self.board[position] = unit\n",
    "        if player_index not in self.players_to_units: \n",
    "            self.players_to_units[player_index] = []\n",
    "        self.players_to_units[player_index].append(unit)\n",
    "        self.units_to_players[unit] = player_index\n",
    "    \n",
    "    def is_occupied(self, position): return self.board[position] is not None\n",
    "\n",
    "    def initialize_game(self, check_empty=True):\n",
    "        self.units = self.board[self.board != None].flatten().tolist()\n",
    "        if check_empty and len(self.units) == 0:\n",
    "            raise RuntimeError('The board is empty')\n",
    "        \n",
    "        # Assign turn order\n",
    "        self.turn_order = random.sample(list(range(len(self.units))), len(self.units))\n",
    "        self.current_turn_index = 0\n",
    "    \n",
    "    def get_current_unit(self):\n",
    "        \"\"\"\n",
    "            Returns tuple of (unit, player_id) for the current unit to take turn\n",
    "            and the player_id that owns the unit\n",
    "        \"\"\"\n",
    "        unit = self.units[self.turn_order[self.current_turn_index]]\n",
    "        return unit, self.units_to_players[unit]\n",
    "    \n",
    "    def get_unit_position(self, unit):\n",
    "        return np.where(self.board == unit)\n",
    "    \n",
    "    def get_distance(self, unit1, unit2):\n",
    "        pos1 = self.get_unit_position(unit1)\n",
    "        pos2 = self.get_unit_position(unit2)\n",
    "        return manhattan_distance(pos1, pos2)\n",
    "\n",
    "    def check_move_legal(self, new_position, verbose=False):\n",
    "        unit, player_id = self.get_current_unit()\n",
    "        unit_position = self.get_unit_position(unit)\n",
    "        target_cell = self.board[new_position]\n",
    "\n",
    "        if target_cell is not None and target_cell is not unit:\n",
    "            if verbose: print('Cell occupied')\n",
    "            return False\n",
    "\n",
    "        if manhattan_distance(unit_position, new_position) > unit.speed:\n",
    "            if verbose: print('Too far')\n",
    "            return False\n",
    "        \n",
    "        return True\n",
    "    \n",
    "    def check_action_legal(self, new_position, action, verbose=False):\n",
    "        if action is None: return True\n",
    "\n",
    "        if not action.check_action_legal(self, new_position):\n",
    "            if verbose: print('Action illegal')\n",
    "            return False\n",
    "        \n",
    "        unit, player_id = self.get_current_unit()\n",
    "        if action.action is not None and action.action not in unit.actions:\n",
    "            if verbose: print('Action invalid')\n",
    "            return False\n",
    "        \n",
    "        return True\n",
    "    \n",
    "    def remove_unit(self, unit):\n",
    "        unit_pos = self.get_unit_position(unit)\n",
    "        player_id = self.units_to_players.pop(unit)\n",
    "        unit_index = self.units.index(unit)\n",
    "        self.units.remove(unit)\n",
    "        self.players_to_units[player_id].remove(unit)\n",
    "        self.board[unit_pos] = None\n",
    "        unit_turn_value = self.turn_order[unit_index]\n",
    "        self.turn_order.remove(unit_turn_value)\n",
    "\n",
    "        for i in range(len(self.turn_order)):\n",
    "            if self.turn_order[i] < unit_turn_value: continue\n",
    "            self.turn_order[i] -= 1\n",
    "\n",
    "        if self.current_turn_index >= unit_turn_value:\n",
    "            self.current_turn_index -= 1\n",
    "\n",
    "    def update_board(self):\n",
    "        to_remove = []\n",
    "\n",
    "        for unit in self.units:\n",
    "            if unit.is_alive(): continue\n",
    "            to_remove.append((unit, self.units_to_players[unit]))\n",
    "\n",
    "        for unit, player_id in to_remove: self.remove_unit(unit)\n",
    "\n",
    "        return { 'units_removed': to_remove }\n",
    "\n",
    "    # for the current unit to move in\n",
    "    def get_legal_positions(self):\n",
    "        current_unit, player_id = self.get_current_unit()\n",
    "        pos = self.get_unit_position(current_unit)\n",
    "\n",
    "        def is_legal(x, y, unit):\n",
    "            if unit is not None and unit is not current_unit: return False\n",
    "            return manhattan_distance(pos, (x, y)) <= current_unit.speed\n",
    "        \n",
    "        return transform_matrix(self.board, is_legal).astype(bool)\n",
    "\n",
    "    def take_turn(self, new_position, action, skip_illegal=False):\n",
    "        move_legal = self.check_move_legal(new_position)\n",
    "        unit, player_id = self.get_current_unit()\n",
    "\n",
    "        if not move_legal:\n",
    "            if not skip_illegal: raise RuntimeError('Illegal move')\n",
    "        else:\n",
    "            unit_pos = self.get_unit_position(unit)\n",
    "            self.board[unit_pos] = None\n",
    "            self.board[new_position] = unit\n",
    "\n",
    "        if not self.check_action_legal(new_position, action):\n",
    "            if not skip_illegal: raise RuntimeError('Illegal action')\n",
    "\n",
    "            self.current_turn_index = (self.current_turn_index + 1) % len(self.units)\n",
    "            return 0, False\n",
    "\n",
    "        if action is not None: action.invoke(self, skip_illegal=skip_illegal)\n",
    "        update = self.update_board()\n",
    "        self.current_turn_index = (self.current_turn_index + 1) % len(self.units)\n",
    "        \n",
    "        ### Stuff for agent\n",
    "\n",
    "        reward = 0\n",
    "        game_over = False\n",
    "        # reward for removing enemy units, 1 for each unit\n",
    "        reward += len([x for x in update['units_removed'] if x[1] != player_id])\n",
    "        # reward for defeating players\n",
    "        reward += 5 * len([x for x in update['units_removed'] if len(self.players_to_units[x[1]]) == 0 and x[1] != player_id])\n",
    "        # reward for winning\n",
    "        if len(self.players_to_units[player_id]) == len(self.units):\n",
    "            game_over = True\n",
    "            reward += 10\n",
    "        # penalty for losing (on your own turn ??)\n",
    "        if len(self.players_to_units[player_id]) == 0:\n",
    "            game_over = True\n",
    "            reward = -10\n",
    "        \n",
    "        return reward, game_over\n",
    "\n",
    "    def observe_board(self):\n",
    "        current_unit, player_id = self.get_current_unit()\n",
    "        ally_units = transform_matrix(self.board, lambda x, y, z: (z is not None) and (self.units_to_players[z] == player_id)).astype(bool)\n",
    "        enemy_units = (self.board != None) ^ ally_units\n",
    "        unit_to_move = np.zeros(ally_units.shape, dtype=bool)\n",
    "        unit_to_move[self.get_unit_position(current_unit)] = True\n",
    "        speeds = transform_matrix(self.board, lambda x,y,z: 0 if z is None else z.speed)\n",
    "        attack_ranges = transform_matrix(self.board, lambda x,y,z: 0 if z is None else z.actions[0].range)\n",
    "        attack_damages = transform_matrix(self.board, lambda x,y,z: 0 if z is None else z.actions[0].attack_damage)\n",
    "\n",
    "        return np.array([\n",
    "            ally_units,\n",
    "            enemy_units,\n",
    "            unit_to_move,\n",
    "            speeds,\n",
    "            attack_ranges,\n",
    "            attack_damages\n",
    "        ], dtype=np.float32)"
   ]
  },
  {
   "cell_type": "markdown",
   "metadata": {},
   "source": [
    "### Utils"
   ]
  },
  {
   "cell_type": "code",
   "execution_count": 8,
   "metadata": {},
   "outputs": [],
   "source": [
    "def print_game(game, unit_to_color):\n",
    "    COLORS = {\n",
    "        \"Red\": \"\\033[91m\",\n",
    "        \"Green\": \"\\033[92m\",\n",
    "        \"Blue\": \"\\033[94m\",\n",
    "        \"Purple\": \"\\033[95m\",\n",
    "        \"Orange\": \"\\033[93m\",\n",
    "        \"Cyan\": \"\\033[96m\",\n",
    "        \"Magenta\": \"\\033[95m\",\n",
    "        \"Reset\": \"\\033[0m\",\n",
    "    }\n",
    "\n",
    "    num_rows, num_cols = game.board.shape\n",
    "    number_padding = 2\n",
    "\n",
    "    print(f'Units alive: {len(game.units)}')\n",
    "    print(f'Players: {len(game.players_to_units)}:')\n",
    "    for player_id in game.players_to_units:\n",
    "        units = game.players_to_units[player_id]\n",
    "        print(f'\\tPlayer #{player_id} ({len(units)} units): ', end='')\n",
    "        for unit in units:\n",
    "            color = unit_to_color[unit]\n",
    "            print(f'`{COLORS[color]}{unit.name} ({unit.health} HP){COLORS[\"Reset\"]}`', end=', ')\n",
    "        print(\"\\b\\b  \")\n",
    "    print(f'\\t')\n",
    "\n",
    "    print(\" \" * (number_padding + 1), end=\"\")  # Offset for y-axis numbering\n",
    "    for j in range(num_cols):\n",
    "        print(f\"{j:>{number_padding}}\", end=\"\")\n",
    "\n",
    "    print()\n",
    "\n",
    "    # Print the matrix with numbering on both axes, \"empty,\" and compact grid\n",
    "    for i in range(num_rows):\n",
    "        # Print y-axis numbering on the left without colons\n",
    "        print(f\"{i:>{number_padding}} \", end=\"\")\n",
    "\n",
    "        for j in range(num_cols):\n",
    "            unit = game.board[i, j]\n",
    "            if unit is None:\n",
    "                formatted_value = \"  \"  # Represents \"empty\" with two space characters\n",
    "            else:\n",
    "                color = unit_to_color[unit]\n",
    "                formatted_value = f\"{COLORS[color]}██{COLORS['Reset']}\"  # Colorize # characters\n",
    "            print(formatted_value, end=\"\")\n",
    "\n",
    "        print(f\"{i:>{number_padding}} \")\n",
    "\n",
    "    # Print x-axis numbering at the bottom\n",
    "    print(\" \" * (number_padding + 1), end=\"\")  # Offset for y-axis numbering\n",
    "    for j in range(num_cols):\n",
    "        print(f\"{j:>{number_padding}}\", end=\"\")\n",
    "\n",
    "    print('\\n')\n",
    "\n",
    "    unit, player_id = game.get_current_unit()\n",
    "    color = unit_to_color[unit]\n",
    "    print(f'Next move is by player #{player_id}: `{COLORS[color]}{unit.name}{COLORS[\"Reset\"]}`')\n"
   ]
  },
  {
   "cell_type": "markdown",
   "metadata": {},
   "source": [
    "## Neural network"
   ]
  },
  {
   "cell_type": "markdown",
   "metadata": {},
   "source": [
    "Probably the most basic thing I could come up with"
   ]
  },
  {
   "cell_type": "code",
   "execution_count": 9,
   "metadata": {},
   "outputs": [],
   "source": [
    "import torch\n",
    "from torch import nn"
   ]
  },
  {
   "cell_type": "code",
   "execution_count": 10,
   "metadata": {},
   "outputs": [],
   "source": [
    "class DnDEvalModel(nn.Module):\n",
    "    def __init__(self, in_layers, out_layers):\n",
    "        super(DnDEvalModel, self).__init__()\n",
    "        self.layers = nn.Sequential(\n",
    "            nn.Conv2d(in_layers, 16, 3, padding=1),\n",
    "            nn.ReLU(),\n",
    "            nn.Conv2d(16, 64, 5, padding=2),\n",
    "            nn.ReLU(),\n",
    "            nn.Conv2d(64, 16, 5, padding=2),\n",
    "            nn.ReLU(),\n",
    "            nn.Conv2d(16, out_layers, 3, padding=1),\n",
    "        )\n",
    "\n",
    "    def forward(self, x):\n",
    "        return self.layers(x)"
   ]
  },
  {
   "cell_type": "markdown",
   "metadata": {},
   "source": [
    "## Agent"
   ]
  },
  {
   "cell_type": "code",
   "execution_count": 11,
   "metadata": {},
   "outputs": [],
   "source": [
    "def to_tuple(coords):\n",
    "    return tuple(np.array(coords).flatten())"
   ]
  },
  {
   "cell_type": "code",
   "execution_count": 12,
   "metadata": {},
   "outputs": [],
   "source": [
    "import os\n",
    "\n",
    "class DnDAgent():\n",
    "    def __init__(self, game, board_shape, in_channels=6, out_actions=1, lr=0.001, epsilon=0.99, min_epsilon=0.01, epsilon_delta=1e-5, gamma=0.9, memory_capacity=100000, batch_size=128):\n",
    "        # out_layers:\n",
    "        # new_unit_coords, target_unit\n",
    "        self.game = game\n",
    "        self.in_channels = in_channels\n",
    "        self.out_channels = out_actions\n",
    "        self.device = torch.device('cuda' if torch.cuda.is_available() else 'cpu')\n",
    "        self.model = DnDEvalModel(self.in_channels, self.out_channels).train().to(self.device)\n",
    "        self.optimizer = torch.optim.Adam(self.model.parameters(), lr = lr)\n",
    "        self.loss_fn = nn.MSELoss()\n",
    "        self.epsilon = epsilon\n",
    "        self.min_epsilon = min_epsilon\n",
    "        self.epsilon_delta = epsilon_delta\n",
    "        self.gamma = gamma\n",
    "        self.memory_capacity = memory_capacity\n",
    "        self.batch_size = batch_size\n",
    "        self.memory_position = 0\n",
    "        state_shape = (memory_capacity, self.in_channels, *board_shape)\n",
    "        actions_shape = (memory_capacity, self.out_channels, 2) # 2 - [x, y] coordinates\n",
    "        self.state_memory = np.zeros(state_shape, dtype=np.float32)\n",
    "        self.new_state_memory = np.zeros(state_shape, dtype=np.float32)\n",
    "        self.actions_memory = np.zeros(actions_shape, dtype=np.float32)\n",
    "        self.reward_memory = np.zeros(memory_capacity, dtype=np.float32)\n",
    "        self.game_over_memory = np.zeros(memory_capacity, dtype=np.bool_)\n",
    "        self.memory_bound = 0\n",
    "    \n",
    "    def predict(self, state):\n",
    "        return self.model(torch.tensor(state).to(self.device).unsqueeze(0)).detach().cpu().numpy()[0]\n",
    "\n",
    "    def choose_action(self, state = None):\n",
    "        if state is None: state = self.game.observe_board()\n",
    "        current_unit, player_id = self.game.get_current_unit()\n",
    "\n",
    "        if random.random() < self.epsilon:\n",
    "            legal_moves = self.game.get_legal_positions()\n",
    "            new_pos = random.choice(list(zip(*np.where(legal_moves))))\n",
    "            target_pos = random.choice(list(zip(*np.where(state[1]))))\n",
    "            target_unit = self.game.board[target_pos]\n",
    "\n",
    "            action = ActionInstance(current_unit.actions[0], source_unit=current_unit, target_unit=target_unit)\n",
    "\n",
    "            return new_pos, action, (new_pos, target_pos)\n",
    "\n",
    "        output = self.predict(state)\n",
    "        new_pos = to_tuple(np.argwhere(output[0] == np.max(output[0]))[0])\n",
    "        target_pos = to_tuple(np.argwhere(output[1] == np.max(output[1]))[0])\n",
    "        target_unit = self.game.board[target_pos]\n",
    "        action = ActionInstance(current_unit.actions[0], source_unit=current_unit, target_unit=target_unit)\n",
    "        return new_pos, action, (new_pos, target_pos)\n",
    "        \n",
    "    def save_model(self, path='../checkpoints/', name='unnamed'):\n",
    "        torch.save(self.model.state_dict(), os.path.join(path, f'{name}.pt'))\n",
    "        torch.save(self.optimizer.state_dict(), os.path.join(path, f'{name}-optim.pt'))\n",
    "\n",
    "    def load_model(self, path='../checkpoints/', name='unnamed'):\n",
    "        self.model.load_state_dict(torch.load(os.path.join(path, f'{name}.pt')))\n",
    "        self.optimizer.load_state_dict(torch.load(os.path.join(path, f'{name}-optim.pt')))\n",
    "\n",
    "    def memorize(self, state, actions, reward, new_state, game_over):\n",
    "        self.state_memory[self.memory_position] = state\n",
    "        self.reward_memory[self.memory_position] = reward\n",
    "        self.new_state_memory[self.memory_position] = new_state\n",
    "        self.game_over_memory[self.memory_position] = game_over\n",
    "        self.actions_memory[self.memory_position] = actions\n",
    "\n",
    "        self.memory_position = (self.memory_position + 1) % self.memory_capacity\n",
    "        self.memory_bound = max(self.memory_bound, self.memory_position) \n",
    "\n",
    "    def learn(self):\n",
    "        if self.memory_bound < self.batch_size: return\n",
    "\n",
    "        self.optimizer.zero_grad()\n",
    "\n",
    "        batch_indices = np.random.choice(self.memory_bound, self.batch_size, replace=False)\n",
    "\n",
    "        states = torch.tensor(self.state_memory[batch_indices]).to(self.device)\n",
    "        new_states = torch.tensor(self.new_state_memory[batch_indices]).to(self.device)\n",
    "        rewards = torch.tensor(self.reward_memory[batch_indices]).to(self.device)\n",
    "        actions = self.actions_memory[batch_indices] # (128, 2, 2)\n",
    "        game_overs = self.game_over_memory[batch_indices]\n",
    "\n",
    "        q_evals = self.model(states) # [B, 2, H, W]\n",
    "        q_nexts = self.model(new_states).view(self.batch_size, self.out_channels, -1) # [B, 2, H*W]\n",
    "\n",
    "        batch_index = np.arange(self.batch_size, dtype=np.int32)\n",
    "\n",
    "        q_target = torch.clone(q_evals)\n",
    "        for i in range(self.out_channels):\n",
    "            action_map = actions[:, i]\n",
    "            q_target[batch_index, i, action_map[:, 0], action_map[:, 1]] = rewards + self.gamma * torch.max(q_nexts[:,i], dim=1)[0]\n",
    "\n",
    "        loss = self.loss_fn(q_evals, q_target)\n",
    "        loss.backward()\n",
    "        self.optimizer.step()\n",
    "\n",
    "        self.epsilon = max(self.epsilon - self.epsilon_delta, self.min_epsilon)"
   ]
  },
  {
   "cell_type": "markdown",
   "metadata": {},
   "source": [
    "## Sample agent game"
   ]
  },
  {
   "cell_type": "code",
   "execution_count": 13,
   "metadata": {},
   "outputs": [],
   "source": [
    "def take_turn(game, new_coords, action, unit_to_color, agent=False, prnt_game=True, print_move=True):\n",
    "    COLORS = {\n",
    "        \"Red\": \"\\033[91m\",\n",
    "        \"Green\": \"\\033[92m\",\n",
    "        \"Blue\": \"\\033[94m\",\n",
    "        \"Purple\": \"\\033[95m\",\n",
    "        \"Orange\": \"\\033[93m\",\n",
    "        \"Cyan\": \"\\033[96m\",\n",
    "        \"Magenta\": \"\\033[95m\",\n",
    "        \"Reset\": \"\\033[0m\",\n",
    "    }\n",
    "\n",
    "    unit, player_id = game.get_current_unit()\n",
    "    color = unit_to_color[unit]\n",
    "    if print_move: print(f'Turn made by player #{player_id}: `{COLORS[color]}{unit.name}{COLORS[\"Reset\"]}`:')\n",
    "    old_coords = to_tuple(game.get_unit_position(unit))\n",
    "    new_coords = to_tuple(new_coords)\n",
    "    if print_move: print(f'\\tUnit {\"moves\" if old_coords != new_coords else \"does not move\"}: {old_coords} -> {new_coords};')\n",
    "    if print_move:\n",
    "        if action is None:\n",
    "            print('\\tAnd does not take any action!')\n",
    "        else:\n",
    "            print(f'\\tAnd takes aciton `{action.action.name}` with attributes: {({key: str(value) for key, value in action.kwargs.items()})}')\n",
    "\n",
    "    reward, game_over = game.take_turn(new_coords, action, skip_illegal=agent)\n",
    "\n",
    "    if prnt_game: \n",
    "        print()\n",
    "        print_game(game, unit_to_color)\n",
    "\n",
    "    return reward, game_over"
   ]
  },
  {
   "cell_type": "code",
   "execution_count": 14,
   "metadata": {},
   "outputs": [],
   "source": [
    "agent = DnDAgent(None, lr=0.001, board_shape=(5, 5), epsilon_delta=1e-4, in_channels=6, out_actions=2, batch_size=128)\n",
    "iters = []"
   ]
  },
  {
   "cell_type": "code",
   "execution_count": 15,
   "metadata": {},
   "outputs": [],
   "source": [
    "def get_random_coords(h, w):\n",
    "    return random.randrange(0, h), random.randrange(0, w)"
   ]
  },
  {
   "cell_type": "code",
   "execution_count": 16,
   "metadata": {},
   "outputs": [],
   "source": [
    "def place_unit_randomly(game, board_size, unit, player_id):\n",
    "    while True:\n",
    "        try:\n",
    "            game.place_unit(unit, get_random_coords(*board_size), player_id)\n",
    "        except:\n",
    "            continue\n",
    "        return\n",
    "\n",
    "def create_same_game(board_size = (5, 5)):\n",
    "    game = DnD(board_size)\n",
    "    ally = GenericSoldier(\"Ally soldier\", attack_damage=100)\n",
    "    ally.actions[0].range = 2\n",
    "    ally2 = GenericSoldier(\"Ally dmg soldier\", 1, 50, 25)\n",
    "    enemy = GenericSoldier(\"Enemy soldier\", attack_damage=100)\n",
    "    enemy.actions[0].range = 2\n",
    "    enemy2 = GenericSoldier(\"Enemy tank soldier\", 1, 250, 4)\n",
    "    \n",
    "    place_unit_randomly(game, board_size, ally, 0)\n",
    "    place_unit_randomly(game, board_size, enemy, 1)\n",
    "    # place_unit_randomly(game, board_size, ally2, 0)\n",
    "    # place_unit_randomly(game, board_size, enemy2, 1)\n",
    "   \n",
    "    game.initialize_game()\n",
    "\n",
    "    color_map = {\n",
    "        ally: \"Green\",\n",
    "        enemy: \"Red\",\n",
    "        ally2: \"Blue\",\n",
    "        enemy2: \"Purple\"\n",
    "    }\n",
    "\n",
    "    # print_game(game, color_map)\n",
    "\n",
    "    return game, color_map"
   ]
  },
  {
   "cell_type": "code",
   "execution_count": 17,
   "metadata": {},
   "outputs": [],
   "source": [
    "import time\n",
    "from IPython.display import clear_output\n",
    "\n",
    "\n",
    "def play_game(game, color_map, print_games=True, delay=0.5):\n",
    "    game_over = False\n",
    "    iter_ = 0\n",
    "\n",
    "    if print_games:\n",
    "        print_game(game, color_map)\n",
    "        time.sleep(delay)\n",
    "    \n",
    "    last_state, last_reward, last_action = None, None, None\n",
    "    while not game_over:\n",
    "        iter_ += 1\n",
    "        print_iter = print_games #iter_ % 10 == 0\n",
    "#\n",
    "        if print_iter:\n",
    "            clear_output(wait=True)\n",
    "            print(f'Iteration: {iter_}')\n",
    "    \n",
    "        state = game.observe_board()\n",
    "        new_coords, action, action_tuple = agent.choose_action(state)\n",
    "    \n",
    "        reward, game_over = take_turn(game, new_coords, action, color_map, True, print_iter, print_iter)\n",
    "        new_state = game.observe_board()\n",
    "\n",
    "        ## THIS IS WRONG, FIX REWARD\n",
    "        if last_state is not None:\n",
    "            total_reward = last_reward - reward\n",
    "            agent.memorize(last_state, last_action, total_reward, new_state, game_over)\n",
    "            \n",
    "        if game_over:\n",
    "            agent.memorize(state, action_tuple, reward, new_state, game_over)\n",
    "        \n",
    "        agent.learn()\n",
    "        last_state = state\n",
    "        last_action = action_tuple\n",
    "        last_reward = reward\n",
    "        \n",
    "        if print_games: time.sleep(delay)\n",
    "    \n",
    "    if print_games: print(f'\\nGame over in {iter_} iterations. Current epsilon = {agent.epsilon}')\n",
    "\n",
    "    return iter_"
   ]
  },
  {
   "cell_type": "code",
   "execution_count": 18,
   "metadata": {},
   "outputs": [
    {
     "data": {
      "application/vnd.jupyter.widget-view+json": {
       "model_id": "236136a327be4eacbc2622e5996f120e",
       "version_major": 2,
       "version_minor": 0
      },
      "text/plain": [
       "Game:   0%|          | 0/5000 [00:00<?, ?it/s]"
      ]
     },
     "metadata": {},
     "output_type": "display_data"
    }
   ],
   "source": [
    "games = 5000\n",
    "from tqdm.auto import tqdm\n",
    "\n",
    "with tqdm(range(games), desc='Game') as pbar:\n",
    "    for i in pbar:\n",
    "        game, color_map = create_same_game()\n",
    "        agent.game = game\n",
    "        its = play_game(game, color_map, False)\n",
    "        iters.append(its)"
   ]
  },
  {
   "cell_type": "code",
   "execution_count": 19,
   "metadata": {},
   "outputs": [
    {
     "data": {
      "image/png": "[encoded data removed]",
      "text/plain": [
       "<Figure size 640x480 with 1 Axes>"
      ]
     },
     "metadata": {},
     "output_type": "display_data"
    }
   ],
   "source": [
    "start_from = 0\n",
    "\n",
    "itersl = iters[start_from:]\n",
    "n = 300\n",
    "plt.plot(itersl)\n",
    "smoth = np.convolve(itersl, np.ones(n) / n, mode='valid')\n",
    "plt.plot(range(n, len(smoth) + n), smoth)\n",
    "plt.show()"
   ]
  },
  {
   "cell_type": "code",
   "execution_count": 20,
   "metadata": {},
   "outputs": [
    {
     "data": {
      "text/plain": [
       "0.01"
      ]
     },
     "execution_count": 20,
     "metadata": {},
     "output_type": "execute_result"
    }
   ],
   "source": [
    "agent.epsilon"
   ]
  },
  {
   "cell_type": "code",
   "execution_count": 21,
   "metadata": {},
   "outputs": [
    {
     "name": "stdout",
     "output_type": "stream",
     "text": [
      "Iteration: 2\n",
      "Turn made by player #1: `\u001b[91mEnemy soldier\u001b[0m`:\n",
      "\tUnit moves: (0, 4) -> (0, 3);\n",
      "\tAnd takes aciton `Sword attack` with attributes: {'source_unit': 'Enemy soldier', 'target_unit': 'Ally soldier'}\n",
      "\n",
      "Units alive: 1\n",
      "Players: 2:\n",
      "\tPlayer #0 (0 units)  \n",
      "\tPlayer #1 (1 units): `\u001b[91mEnemy soldier (100 HP)\u001b[0m`  \n",
      "\t\n",
      "    0 1 2 3 4\n",
      " 0       \u001b[91m██\u001b[0m   0 \n",
      " 1            1 \n",
      " 2            2 \n",
      " 3            3 \n",
      " 4            4 \n",
      "    0 1 2 3 4\n",
      "\n",
      "Next move is by player #1: `\u001b[91mEnemy soldier\u001b[0m`\n",
      "\n",
      "Game over in 2 iterations. Current epsilon = 0.01\n"
     ]
    },
    {
     "data": {
      "text/plain": [
       "2"
      ]
     },
     "execution_count": 21,
     "metadata": {},
     "output_type": "execute_result"
    }
   ],
   "source": [
    "game, color_map = create_same_game()\n",
    "agent.game = game\n",
    "play_game(game, color_map, delay=1)"
   ]
  },
  {
   "cell_type": "markdown",
   "metadata": {},
   "source": [
    "# Visualization"
   ]
  },
  {
   "cell_type": "code",
   "execution_count": 22,
   "metadata": {},
   "outputs": [
    {
     "data": {
      "image/png": "[encoded data removed]",
      "text/plain": [
       "<Figure size 640x480 with 7 Axes>"
      ]
     },
     "metadata": {},
     "output_type": "display_data"
    }
   ],
   "source": [
    "def plot_featuremaps(data, name=\"\", fm_names=None, vmin=None, vmax=None, shape=None, separate_cbars=False, show=True):\n",
    "    if shape is None:\n",
    "        width = int(ceil(sqrt(data.shape[0])))\n",
    "        height = int(ceil(data.shape[0] / width))\n",
    "        shape = (height, width)\n",
    "    \n",
    "    if vmin is None and not separate_cbars: vmin = np.min(data)\n",
    "    if vmax is None and not separate_cbars: vmax = np.max(data)\n",
    "\n",
    "    fig, ax_m = plt.subplots(*shape, dpi=100)\n",
    "    fig.suptitle(name)\n",
    "    axs = np.asarray(ax_m).ravel()\n",
    "    imgs = []\n",
    "    for i, (fm, ax) in enumerate(zip(data, axs)):\n",
    "        imgs.append(ax.imshow(fm, cmap='coolwarm', vmin=vmin, vmax=vmax))\n",
    "        if fm_names is not None:\n",
    "            ax.set_title(fm_names[i])\n",
    "        \n",
    "        if separate_cbars:\n",
    "            fig.colorbar(imgs[i], ax=ax)\n",
    "\n",
    "    if not separate_cbars:\n",
    "        fig.colorbar(imgs[0], ax=axs)\n",
    "    \n",
    "    if show: \n",
    "        if separate_cbars: plt.tight_layout()\n",
    "        plt.show()\n",
    "\n",
    "\n",
    "state = game.observe_board()\n",
    "plot_featuremaps(\n",
    "    state, \n",
    "    name='Observed state', \n",
    "    fm_names=['Ally units', 'Enemy units', 'Current unit', 'Movement speed', 'Attack range', 'Attack damage'],\n",
    "    vmin = -3,\n",
    "    vmax = 3,\n",
    ")"
   ]
  },
  {
   "cell_type": "code",
   "execution_count": 23,
   "metadata": {},
   "outputs": [
    {
     "name": "stdout",
     "output_type": "stream",
     "text": [
      "Units alive: 2\n",
      "Players: 2:\n",
      "\tPlayer #0 (1 units): `\u001b[92mAlly soldier (100 HP)\u001b[0m`  \n",
      "\tPlayer #1 (1 units): `\u001b[91mEnemy soldier (100 HP)\u001b[0m`  \n",
      "\t\n",
      "    0 1 2 3 4\n",
      " 0            0 \n",
      " 1 \u001b[91m██\u001b[0m         1 \n",
      " 2            2 \n",
      " 3            3 \n",
      " 4         \u001b[92m██\u001b[0m 4 \n",
      "    0 1 2 3 4\n",
      "\n",
      "Next move is by player #0: `\u001b[92mAlly soldier\u001b[0m`\n"
     ]
    }
   ],
   "source": [
    "game, color_map = create_same_game()\n",
    "agent.game = game\n",
    "print_game(game, color_map)"
   ]
  },
  {
   "cell_type": "code",
   "execution_count": 28,
   "metadata": {},
   "outputs": [
    {
     "data": {
      "image/png": "[encoded data removed]",
      "text/plain": [
       "<Figure size 640x480 with 4 Axes>"
      ]
     },
     "metadata": {},
     "output_type": "display_data"
    },
    {
     "name": "stdout",
     "output_type": "stream",
     "text": [
      "((0, 3), (0, 3))\n"
     ]
    }
   ],
   "source": [
    "output = agent.model(torch.tensor(game.observe_board()).to(agent.device).unsqueeze(0)).detach().cpu().numpy()[0]\n",
    "\n",
    "plot_featuremaps(\n",
    "    output, \n",
    "    name='Agent output', \n",
    "    fm_names=['New coords', 'Target unit'],\n",
    "    separate_cbars=True,\n",
    ")\n",
    "\n",
    "print(agent.choose_action(state)[2])"
   ]
  }
 ],
 "metadata": {
  "kernelspec": {
   "display_name": "base",
   "language": "python",
   "name": "python3"
  },
  "language_info": {
   "codemirror_mode": {
    "name": "ipython",
    "version": 3
   },
   "file_extension": ".py",
   "mimetype": "text/x-python",
   "name": "python",
   "nbconvert_exporter": "python",
   "pygments_lexer": "ipython3",
   "version": "3.11.5"
  }
 },
 "nbformat": 4,
 "nbformat_minor": 2
}
