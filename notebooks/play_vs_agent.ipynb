{
 "cells": [
  {
   "cell_type": "markdown",
   "metadata": {},
   "source": [
    "## Sample game"
   ]
  },
  {
   "cell_type": "markdown",
   "metadata": {},
   "source": [
    "Play with pretrained agent yourself!"
   ]
  },
  {
   "cell_type": "code",
   "execution_count": null,
   "metadata": {},
   "outputs": [],
   "source": [
    "import sys\n",
    "import time\n",
    "from IPython.display import clear_output\n",
    "\n",
    "if '..' not in sys.path: sys.path.append('..')\n",
    "from src.utils.common import *\n",
    "from src.dnd.actions import *\n",
    "from src.dnd.units import *\n",
    "from src.dnd.game_utils import *\n",
    "from src.dnd.game_board import DnDBoard\n",
    "from src.agent.agent import DnDAgent\n",
    "from src.agent.agent_utils import get_states"
   ]
  },
  {
   "cell_type": "code",
   "execution_count": null,
   "metadata": {},
   "outputs": [],
   "source": [
    "def create_game():\n",
    "    global game, color_map # hell yeah globals\n",
    "\n",
    "    game = DnDBoard((5, 5))\n",
    "    ally = GenericSoldier(\"Ally soldier\", attack_damage=25)\n",
    "    ally2 = GenericSoldier(\"Ally ranger\", attack_damage=25, health=50, range=4)\n",
    "    enemy = GenericSoldier(\"Enemy soldier\", attack_damage=25)\n",
    "    enemy2 = GenericSoldier(\"Enemy ranger\", attack_damage=25, health=50, range=4)\n",
    "\n",
    "    place_unit_randomly(game, ally, 0)\n",
    "    place_unit_randomly(game, enemy, 1)\n",
    "    place_unit_randomly(game, ally2, 0)\n",
    "    place_unit_randomly(game, enemy2, 1)\n",
    "\n",
    "    game.initialize_game()\n",
    "\n",
    "    color_map = {\n",
    "        ally: \"Green\",\n",
    "        enemy: \"Red\",\n",
    "        ally2: \"Blue\",\n",
    "        enemy2: \"Purple\"\n",
    "    }"
   ]
  },
  {
   "cell_type": "markdown",
   "metadata": {},
   "source": [
    "load agent:"
   ]
  },
  {
   "cell_type": "code",
   "execution_count": null,
   "metadata": {},
   "outputs": [],
   "source": [
    "checkpoint_path = '../rnd/2v2-0/trained-agents/agent-gen30-11.1i-600000'\n",
    "agent = DnDAgent.load_agent(checkpoint_path, strip=True, epsilon=0)"
   ]
  },
  {
   "cell_type": "markdown",
   "metadata": {},
   "source": [
    "Start new game:"
   ]
  },
  {
   "cell_type": "code",
   "execution_count": null,
   "metadata": {},
   "outputs": [],
   "source": [
    "create_game()"
   ]
  },
  {
   "cell_type": "code",
   "execution_count": null,
   "metadata": {},
   "outputs": [],
   "source": [
    "game_over = False\n",
    "\n",
    "print_game(game, color_map)\n",
    "print('Press Enter to start')\n",
    "_ = input()\n",
    "\n",
    "while not game_over:\n",
    "    if game.current_player_id == 1:\n",
    "        # clear_output()\n",
    "        _, _, new_coords, action = get_states(game, agent)\n",
    "        _, game_over = take_turn(game, new_coords, action, color_map, True)\n",
    "        continue\n",
    "    \n",
    "    while True:\n",
    "        print(\"It's your turn. Enter the desired coordinates to move to `y x`:\", end='')\n",
    "        new_coords = tuple([int(x) for x in input().split()])\n",
    "        print(new_coords)\n",
    "\n",
    "        print('Enter the coordinates of unit you want to attack `y x`, or press Enter to skip attack:', end='')\n",
    "        attack_input = input()\n",
    "        action = None\n",
    "        target_pos = (-1, -1)\n",
    "        if attack_input != '':\n",
    "            unit = game.current_unit\n",
    "            target_pos = tuple([int(x) for x in attack_input.split()])\n",
    "            target_unit = game.board[target_pos]\n",
    "            action = ActionInstance(unit.actions[0], source_unit=unit, target_unit=target_unit)\n",
    "        print(target_pos)\n",
    "\n",
    "        try:\n",
    "            _, game_over = game.take_turn(new_coords, action)\n",
    "        except Exception as e:\n",
    "            print(e)\n",
    "            continue\n",
    "        \n",
    "        print_game(game, color_map)\n",
    "        break"
   ]
  }
 ],
 "metadata": {
  "kernelspec": {
   "display_name": "base",
   "language": "python",
   "name": "python3"
  },
  "language_info": {
   "codemirror_mode": {
    "name": "ipython",
    "version": 3
   },
   "file_extension": ".py",
   "mimetype": "text/x-python",
   "name": "python",
   "nbconvert_exporter": "python",
   "pygments_lexer": "ipython3",
   "version": "3.11.5"
  }
 },
 "nbformat": 4,
 "nbformat_minor": 2
}
