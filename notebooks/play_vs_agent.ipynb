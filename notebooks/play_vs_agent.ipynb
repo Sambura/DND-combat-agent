{
 "cells": [
  {
   "cell_type": "markdown",
   "metadata": {},
   "source": [
    "## Sample game"
   ]
  },
  {
   "cell_type": "markdown",
   "metadata": {},
   "source": [
    "Play with pretrained agent yourself!"
   ]
  },
  {
   "cell_type": "code",
   "execution_count": 1,
   "metadata": {},
   "outputs": [],
   "source": [
    "import sys\n",
    "import time\n",
    "from IPython.display import clear_output\n",
    "\n",
    "if '..' not in sys.path: sys.path.append('..')\n",
    "from src.utils.common import *\n",
    "from src.dnd.actions import *\n",
    "from src.dnd.units import *\n",
    "from src.dnd.game_utils import *\n",
    "from src.dnd.game_board import DnDBoard\n",
    "from src.agent.agent import DnDAgent\n",
    "from src.agent.agent_utils import get_states, get_default_action_resolver"
   ]
  },
  {
   "cell_type": "code",
   "execution_count": 2,
   "metadata": {},
   "outputs": [],
   "source": [
    "def create_game():\n",
    "    global game, color_map, action_resolver # hell yeah globals\n",
    "\n",
    "    game = DnDBoard((5, 5))\n",
    "    ally = GenericSoldier(\"Ally soldier\", attack_damage=25)\n",
    "    ally2 = GenericSoldier(\"Ally ranger\", attack_damage=25, health=50, range=4)\n",
    "    enemy = GenericSoldier(\"Enemy soldier\", attack_damage=25)\n",
    "    enemy2 = GenericSoldier(\"Enemy ranger\", attack_damage=25, health=50, range=4)\n",
    "\n",
    "    place_unit_randomly(game, ally, 0)\n",
    "    place_unit_randomly(game, enemy, 1)\n",
    "    place_unit_randomly(game, ally2, 0)\n",
    "    place_unit_randomly(game, enemy2, 1)\n",
    "\n",
    "    game.initialize_game()\n",
    "    action_resolver = get_default_action_resolver(game)\n",
    "\n",
    "    color_map = {\n",
    "        ally: \"Green\",\n",
    "        enemy: \"Red\",\n",
    "        ally2: \"Blue\",\n",
    "        enemy2: \"Purple\"\n",
    "    }"
   ]
  },
  {
   "cell_type": "markdown",
   "metadata": {},
   "source": [
    "load agent:"
   ]
  },
  {
   "cell_type": "code",
   "execution_count": 3,
   "metadata": {},
   "outputs": [],
   "source": [
    "checkpoint_path = '../config-log/2v2-0/agent-gen1-12.5i'\n",
    "checkpoint_path = '../checkpoints/2v2-0-agent-se-12000'\n",
    "agent = DnDAgent.load_agent(checkpoint_path)\n",
    "agent = DnDAgent((5, 5))\n",
    "agent.epsilon = 0"
   ]
  },
  {
   "cell_type": "markdown",
   "metadata": {},
   "source": [
    "Start new game:"
   ]
  },
  {
   "cell_type": "code",
   "execution_count": 7,
   "metadata": {},
   "outputs": [
    {
     "name": "stdout",
     "output_type": "stream",
     "text": [
      "Units alive: 3\n",
      "Players: 2:\n",
      "\tPlayer #0 (2 units): `\u001b[92mAlly soldier (100 HP)\u001b[0m`, `\u001b[94mAlly ranger (50 HP)\u001b[0m`  \n",
      "\tPlayer #1 (1 units): `\u001b[91mEnemy soldier (25 HP)\u001b[0m`  \n",
      "\t\n",
      "    0 1 2 3 4\n",
      " 0            0 \n",
      " 1     \u001b[92m██\u001b[0m     1 \n",
      " 2     \u001b[91m██\u001b[0m  \u001b[94m██\u001b[0m 2 \n",
      " 3            3 \n",
      " 4            4 \n",
      "    0 1 2 3 4\n",
      "\n",
      "Next move is by player #0: `\u001b[94mAlly ranger\u001b[0m`\n",
      "Press Enter to start\n",
      "It's your turn. Enter the desired coordinates to move to `y x`:(2, 4)\n",
      "Enter the coordinates of unit you want to attack `y x`, or press Enter to skip attack:(2, 2)\n",
      "Units alive: 2\n",
      "Players: 2:\n",
      "\tPlayer #0 (2 units): `\u001b[92mAlly soldier (100 HP)\u001b[0m`, `\u001b[94mAlly ranger (50 HP)\u001b[0m`  \n",
      "\tPlayer #1 (0 units)  \n",
      "\t\n",
      "    0 1 2 3 4\n",
      " 0            0 \n",
      " 1     \u001b[92m██\u001b[0m     1 \n",
      " 2         \u001b[94m██\u001b[0m 2 \n",
      " 3            3 \n",
      " 4            4 \n",
      "    0 1 2 3 4\n",
      "\n",
      "Next move is by player #0: `\u001b[92mAlly soldier\u001b[0m`\n"
     ]
    }
   ],
   "source": [
    "# create_game()\n",
    "\n",
    "game_over = False\n",
    "\n",
    "print_game(game, color_map)\n",
    "print('Press Enter to start')\n",
    "_ = input()\n",
    "\n",
    "while not game_over:\n",
    "    unit, player_id = game.get_current_unit()\n",
    "    if player_id == 1:\n",
    "        clear_output()\n",
    "        _, _, new_coords, action = get_states(game, agent, action_resolver)\n",
    "        _, game_over = take_turn(game, new_coords, action, color_map, True)\n",
    "        continue\n",
    "    \n",
    "    while True:\n",
    "        print(\"It's your turn. Enter the desired coordinates to move to `y x`:\", end='')\n",
    "        new_coords = tuple([int(x) for x in input().split()])\n",
    "        print(new_coords)\n",
    "\n",
    "        print('Enter the coordinates of unit you want to attack `y x`, or press Enter to skip attack:', end='')\n",
    "        attack_input = input()\n",
    "        action = None\n",
    "        target_pos = (-1, -1)\n",
    "        if attack_input != '':\n",
    "            target_pos = tuple([int(x) for x in attack_input.split()])\n",
    "            target_unit = game.board[target_pos]\n",
    "            action = ActionInstance(unit.actions[0], source_unit=unit, target_unit=target_unit)\n",
    "        print(target_pos)\n",
    "\n",
    "        try:\n",
    "            _, game_over = game.take_turn(new_coords, action)\n",
    "        except Exception as e:\n",
    "            print(e)\n",
    "            continue\n",
    "        break\n",
    "\n",
    "    time.sleep(1)\n",
    "\n",
    "print_game(game, color_map)"
   ]
  },
  {
   "cell_type": "code",
   "execution_count": null,
   "metadata": {},
   "outputs": [
    {
     "name": "stdout",
     "output_type": "stream",
     "text": [
      "Units alive: 3\n",
      "Players: 2:\n",
      "\tPlayer #0 (2 units): `\u001b[92mAlly soldier (75 HP)\u001b[0m`, `\u001b[94mAlly ranger (50 HP)\u001b[0m`  \n",
      "\tPlayer #1 (1 units): `\u001b[91mEnemy soldier (75 HP)\u001b[0m`  \n",
      "\t\n",
      "    0 1 2 3 4\n",
      " 0            0 \n",
      " 1         \u001b[94m██\u001b[0m 1 \n",
      " 2            2 \n",
      " 3   \u001b[91m██\u001b[0m\u001b[92m██\u001b[0m     3 \n",
      " 4            4 \n",
      "    0 1 2 3 4\n",
      "\n",
      "Next move is by player #0: `\u001b[94mAlly ranger\u001b[0m`\n"
     ]
    }
   ],
   "source": [
    "print_game(game, color_map)"
   ]
  },
  {
   "cell_type": "code",
   "execution_count": null,
   "metadata": {},
   "outputs": [
    {
     "data": {
      "text/plain": [
       "<src.dnd.units.GenericSoldier at 0x2c90cdd9ad0>"
      ]
     },
     "execution_count": 6,
     "metadata": {},
     "output_type": "execute_result"
    }
   ],
   "source": [
    "game.board[3, 2]"
   ]
  }
 ],
 "metadata": {
  "kernelspec": {
   "display_name": "base",
   "language": "python",
   "name": "python3"
  },
  "language_info": {
   "codemirror_mode": {
    "name": "ipython",
    "version": 3
   },
   "file_extension": ".py",
   "mimetype": "text/x-python",
   "name": "python",
   "nbconvert_exporter": "python",
   "pygments_lexer": "ipython3",
   "version": "3.11.5"
  }
 },
 "nbformat": 4,
 "nbformat_minor": 2
}
