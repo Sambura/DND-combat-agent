{
 "cells": [
  {
   "cell_type": "markdown",
   "metadata": {},
   "source": [
    "# Play versus an agent"
   ]
  },
  {
   "cell_type": "markdown",
   "metadata": {},
   "source": [
    "Play with pretrained agent yourself!\n",
    "\n",
    "> WARNING This notebook is no longer functional"
   ]
  },
  {
   "cell_type": "markdown",
   "metadata": {},
   "source": [
    "## Imports"
   ]
  },
  {
   "cell_type": "code",
   "execution_count": null,
   "metadata": {},
   "outputs": [],
   "source": [
    "import sys\n",
    "\n",
    "if '..' not in sys.path: sys.path.append('..')\n",
    "from src.dnd.FieldGenerator import FieldGenerator\n",
    "from src.dnd.game_utils import *\n",
    "from src.dnd.game_board import GameState\n",
    "from src.agent.agent import DnDAgent\n",
    "from src.agent.agent_utils import agent_take_turn\n",
    "from src.dnd.game_configs import *"
   ]
  },
  {
   "cell_type": "markdown",
   "metadata": {},
   "source": [
    "## Load an agent & game config"
   ]
  },
  {
   "cell_type": "code",
   "execution_count": null,
   "metadata": {},
   "outputs": [],
   "source": [
    "board_size, game_config = get_2v2_0_config()\n",
    "\n",
    "checkpoint_path = '../rnd/2v2-1/overnight-1/gens/agent-gen20-11.0i'\n",
    "agent = DnDAgent.load_agent(checkpoint_path, strip=True, epsilon=0)"
   ]
  },
  {
   "cell_type": "markdown",
   "metadata": {},
   "source": [
    "## Play a game"
   ]
  },
  {
   "cell_type": "markdown",
   "metadata": {},
   "source": [
    "The following cell creates a new game"
   ]
  },
  {
   "cell_type": "code",
   "execution_count": null,
   "metadata": {},
   "outputs": [],
   "source": [
    "gen = FieldGenerator(board_size=board_size).load_from_folder('../Tokens')\n",
    "game, colormap = decorate_game(gen.generate_balanced_game(targetCR=1))"
   ]
  },
  {
   "cell_type": "code",
   "execution_count": null,
   "metadata": {},
   "outputs": [],
   "source": [
    "game_over = False\n",
    "\n",
    "print_game(game, colormap)\n",
    "input('Press Enter to start')\n",
    "\n",
    "while game.get_game_state(game.current_player_id) == GameState.PLAYING:\n",
    "    if game.current_player_id == 1:\n",
    "        print_turn_info(agent_take_turn(game, agent, get_turn_info=True))\n",
    "        print_game(game, colormap)\n",
    "        continue\n",
    "    \n",
    "    while True:\n",
    "        move_input = input(\"It's your turn. Enter the desired coordinates to move to `y x`:\")\n",
    "        new_coords = tuple([int(x) for x in move_input.split()])\n",
    "        attack_input = input('Enter the coordinates of unit you want to attack `y x`, or press Enter to skip attack:')\n",
    "        \n",
    "        action = None\n",
    "        if attack_input != '':\n",
    "            unit = game.current_unit\n",
    "            target_unit = game.board[tuple([int(x) for x in attack_input.split()])]\n",
    "            action = unit.actions[0].instantiate(unit, target_unit)\n",
    "\n",
    "        try:\n",
    "            print(new_coords)\n",
    "            print(action)\n",
    "            game.check_move_legal(new_coords, raise_on_illegal=True)\n",
    "            game.check_action_legal(action, raise_on_illegal=True)\n",
    "            game.move(new_coords)\n",
    "            game.use_action(action)\n",
    "            game.finish_turn()\n",
    "            print_game(game, colormap)\n",
    "            break\n",
    "        \n",
    "        except Exception as e: print(e)"
   ]
  }
 ],
 "metadata": {
  "kernelspec": {
   "display_name": "base",
   "language": "python",
   "name": "python3"
  },
  "language_info": {
   "codemirror_mode": {
    "name": "ipython",
    "version": 3
   },
   "file_extension": ".py",
   "mimetype": "text/x-python",
   "name": "python",
   "nbconvert_exporter": "python",
   "pygments_lexer": "ipython3",
   "version": "3.11.5"
  }
 },
 "nbformat": 4,
 "nbformat_minor": 2
}
