{
 "cells": [
  {
   "cell_type": "markdown",
   "metadata": {},
   "source": [
    "# Play versus an agent"
   ]
  },
  {
   "cell_type": "markdown",
   "metadata": {},
   "source": [
    "Play with pretrained agent yourself!"
   ]
  },
  {
   "cell_type": "markdown",
   "metadata": {},
   "source": [
    "## Imports"
   ]
  },
  {
   "cell_type": "code",
   "execution_count": null,
   "metadata": {},
   "outputs": [],
   "source": [
    "import sys\n",
    "\n",
    "if '..' not in sys.path: sys.path.append('..')\n",
    "from src.dnd.game_utils import *\n",
    "from src.dnd.actions import ActionInstance\n",
    "from src.dnd.game_board import GameState\n",
    "from src.agent.agent import DnDAgent\n",
    "from src.agent.agent_utils import get_states\n",
    "from src.dnd.game_configs import *"
   ]
  },
  {
   "cell_type": "markdown",
   "metadata": {},
   "source": [
    "## Load an agent & game config"
   ]
  },
  {
   "cell_type": "code",
   "execution_count": null,
   "metadata": {},
   "outputs": [],
   "source": [
    "board_size, game_config = get_2v2_0_config()\n",
    "\n",
    "checkpoint_path = '../rnd/2v2-0/trained-agents/agent-gen30-11.1i-600000'\n",
    "agent = DnDAgent.load_agent(checkpoint_path, strip=True, epsilon=0)"
   ]
  },
  {
   "cell_type": "markdown",
   "metadata": {},
   "source": [
    "## Play a game"
   ]
  },
  {
   "cell_type": "markdown",
   "metadata": {},
   "source": [
    "The following cell creates a new game"
   ]
  },
  {
   "cell_type": "code",
   "execution_count": null,
   "metadata": {},
   "outputs": [],
   "source": [
    "game, colormap = decorate_game(generate_balanced_game(board_size, game_config))"
   ]
  },
  {
   "cell_type": "code",
   "execution_count": null,
   "metadata": {},
   "outputs": [],
   "source": [
    "game_over = False\n",
    "\n",
    "print_game(game, colormap)\n",
    "input('Press Enter to start')\n",
    "\n",
    "while not game_over:\n",
    "    if game.current_player_id == 1:\n",
    "        _, _, new_coords, action = get_states(game, agent)\n",
    "        game_over = take_turn(game, new_coords, action, colormap, True)[0] != GameState.PLAYING\n",
    "        continue\n",
    "    \n",
    "    while True:\n",
    "        move_input = input(\"It's your turn. Enter the desired coordinates to move to `y x`:\")\n",
    "        new_coords = tuple([int(x) for x in move_input.split()])\n",
    "        attack_input = input('Enter the coordinates of unit you want to attack `y x`, or press Enter to skip attack:')\n",
    "        \n",
    "        action = None\n",
    "        if attack_input != '':\n",
    "            unit = game.current_unit\n",
    "            target_unit = game.board[tuple([int(x) for x in attack_input.split()])]\n",
    "            action = ActionInstance(unit.actions[0], source_unit=unit, target_unit=target_unit)\n",
    "\n",
    "        try:\n",
    "            game_over = take_turn(game, new_coords, action, colormap, False)[0] != GameState.PLAYING\n",
    "            break\n",
    "        \n",
    "        except Exception as e: print(e)"
   ]
  }
 ],
 "metadata": {
  "kernelspec": {
   "display_name": "base",
   "language": "python",
   "name": "python3"
  },
  "language_info": {
   "codemirror_mode": {
    "name": "ipython",
    "version": 3
   },
   "file_extension": ".py",
   "mimetype": "text/x-python",
   "name": "python",
   "nbconvert_exporter": "python",
   "pygments_lexer": "ipython3",
   "version": "3.11.5"
  }
 },
 "nbformat": 4,
 "nbformat_minor": 2
}
