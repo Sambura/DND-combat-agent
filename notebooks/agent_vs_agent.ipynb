{
 "cells": [
  {
   "cell_type": "markdown",
   "metadata": {},
   "source": [
    "# Agent vs. Agent"
   ]
  },
  {
   "cell_type": "markdown",
   "metadata": {},
   "source": [
    "Make two agents fight each other!"
   ]
  },
  {
   "cell_type": "markdown",
   "metadata": {},
   "source": [
    "## Setup"
   ]
  },
  {
   "cell_type": "code",
   "execution_count": 1,
   "metadata": {},
   "outputs": [],
   "source": [
    "import sys\n",
    "import time\n",
    "from tqdm.auto import tqdm\n",
    "from copy import deepcopy\n",
    "from IPython.display import clear_output, Markdown\n",
    "\n",
    "if '..' not in sys.path: sys.path.append('..')\n",
    "from src.utils.common import *\n",
    "from src.dnd.actions import *\n",
    "from src.dnd.units import *\n",
    "from src.dnd.game_utils import *\n",
    "from src.dnd.game_board import DnDBoard, GameState\n",
    "from src.agent.agent import DnDAgent, IdleDnDAgent\n",
    "from src.agent.agent_pg import DnDAgentPolicyGradient\n",
    "from src.agent.agent_utils import agents_play_loop, agent_take_turn, agents_play_loop_bare\n",
    "from src.dnd.game_configs import *"
   ]
  },
  {
   "cell_type": "code",
   "execution_count": 2,
   "metadata": {},
   "outputs": [],
   "source": [
    "def create_pair_game(ref: DnDBoard):\n",
    "    \"\"\"Copies the given game board, but swithching player id's\"\"\"\n",
    "    game = DnDBoard(ref.board_shape)\n",
    "    for unit in ref.units:\n",
    "        game._place_unit(deepcopy(unit), unit.pos, 1 - ref.units_to_players[unit])\n",
    "\n",
    "    game.initialize_game()\n",
    "    game.set_turn_order(ref.turn_order.copy())\n",
    "\n",
    "    return game"
   ]
  },
  {
   "cell_type": "markdown",
   "metadata": {},
   "source": [
    "## Load agents & game config"
   ]
  },
  {
   "cell_type": "markdown",
   "metadata": {},
   "source": [
    "Load game configuration:"
   ]
  },
  {
   "cell_type": "code",
   "execution_count": 3,
   "metadata": {},
   "outputs": [],
   "source": [
    "board_size, game_config = get_2v2_1_config()\n",
    "gen = fieldGenerator(board_size).load_from_folder('../Tokens/')"
   ]
  },
  {
   "cell_type": "code",
   "execution_count": 4,
   "metadata": {},
   "outputs": [],
   "source": [
    "yi, xi = np.meshgrid(np.arange(board_size[0]), np.arange(board_size[1]), indexing='ij')\n",
    "\n",
    "def dnd_legal_moves_masker(state, ch_out):\n",
    "    remaining_speed = state[11, 0, 0]\n",
    "    can_move = remaining_speed > 0\n",
    "    can_act = state[12, 0, 0] > 0\n",
    "\n",
    "    mask = np.zeros((ch_out, *state.shape[1:]))\n",
    "    if can_move or can_act:\n",
    "        current_unit_pos = np.where(state[2] != 0)\n",
    "        y, x = current_unit_pos[0][0], current_unit_pos[1][0]        \n",
    "        distance = np.abs(yi - y) + np.abs(xi - x)\n",
    "\n",
    "        if can_move:\n",
    "            occupied = np.logical_or(state[0], state[1])\n",
    "            possible_positions = np.where(np.logical_and(distance <= remaining_speed, occupied == 0))\n",
    "            mask[0, possible_positions[0], possible_positions[1]] = 1\n",
    "        if can_act:\n",
    "            attack_range = state[4, y, x]\n",
    "            possible_targets = np.where(np.logical_and(state[1], distance <= attack_range))\n",
    "            mask[1, possible_targets[0], possible_targets[1]] = 1\n",
    "\n",
    "    mask[2, 0, 0] = 1\n",
    "\n",
    "    return mask"
   ]
  },
  {
   "cell_type": "markdown",
   "metadata": {},
   "source": [
    "Load agents from disk"
   ]
  },
  {
   "cell_type": "code",
   "execution_count": 5,
   "metadata": {},
   "outputs": [],
   "source": [
    "agent_path_1 = '../rnd/2v2-1/gen16/checkpoints/agent-11.3i-80.0k'\n",
    "agent_path_2 = '../rnd/_temp-pg/checkpoints/agent-21.1i-9.0k'\n",
    "agent1 = DnDAgent.load_agent(agent_path_1, strip=True, epsilon=0)\n",
    "indices1 = get_observation_indices(DnDBoard.CHANNEL_NAMES[:agent1.in_channels])\n",
    "agent2 = DnDAgentPolicyGradient.load_agent(agent_path_2)\n",
    "indices2 = get_observation_indices(DnDBoard.CHANNEL_NAMES[:agent2.in_channels])\n",
    "agent2.legal_moves_masker = dnd_legal_moves_masker\n",
    "from src.agent.agent import passthrough_masker\n",
    "agent1.legal_moves_masker = passthrough_masker\n",
    "agent1.masked_value = 0"
   ]
  },
  {
   "cell_type": "markdown",
   "metadata": {},
   "source": [
    "## One game"
   ]
  },
  {
   "cell_type": "markdown",
   "metadata": {},
   "source": [
    "Random game board is generated and agents play against each other. All the moves are visualized. Delay between moves can be adjusted."
   ]
  },
  {
   "cell_type": "code",
   "execution_count": 6,
   "metadata": {},
   "outputs": [
    {
     "name": "stdout",
     "output_type": "stream",
     "text": [
      "Iteration: 10\n",
      "\tUnit moves: (2, 7) -> (0, 0) [not successful];\n",
      "\tUnit takes aciton `Sword attack` with attributes: {'source_unit': 'Ally archer', 'target_unit': 'Enemy archer'} [successful];\n",
      "Units alive: 1\n",
      "Players: 2:\n",
      "\tPlayer #0 (1 units): `\u001b[94mAlly archer (50 HP)\u001b[0m`  \n",
      "\tPlayer #1 (0 units)  \n",
      "\t\n",
      "    0 1 2 3 4 5 6 7\n",
      " 0                  0 \n",
      " 1                  1 \n",
      " 2               \u001b[94m██\u001b[0m 2 \n",
      " 3                  3 \n",
      " 4                  4 \n",
      " 5                  5 \n",
      " 6                  6 \n",
      " 7                  7 \n",
      "    0 1 2 3 4 5 6 7\n",
      "\n",
      "Next move is by player #0: `\u001b[94mAlly archer\u001b[0m`\n",
      "\n",
      "Game over in 10 iterations. Winner: player #1\n"
     ]
    }
   ],
   "source": [
    "game, colormap = decorate_game(generate_balanced_game(board_size, game_config))\n",
    "\n",
    "_ = agents_play_loop([agent1, agent2], game, colormap, reset_epsilon=False, manual_input=False, delay=0.5, state_indices=[indices1, indices2])"
   ]
  },
  {
   "cell_type": "markdown",
   "metadata": {},
   "source": [
    "## Multiple games"
   ]
  },
  {
   "cell_type": "markdown",
   "metadata": {},
   "source": [
    "Agents play against each other for the given number of games. Each game is played twice, in first game agent 1 plays for player 1 and agent 2 for player 2. In the second game, agent 1 plays as player 2, and agent 2 - as player 1. "
   ]
  },
  {
   "cell_type": "code",
   "execution_count": 7,
   "metadata": {},
   "outputs": [
    {
     "data": {
      "application/vnd.jupyter.widget-view+json": {
       "model_id": "5b3278fe035444a29f07fe6698778216",
       "version_major": 2,
       "version_minor": 0
      },
      "text/plain": [
       "  0%|          | 0/500 [00:00<?, ?it/s]"
      ]
     },
     "metadata": {},
     "output_type": "display_data"
    }
   ],
   "source": [
    "counter = []\n",
    "games = 500\n",
    "max_ic = 0\n",
    "\n",
    "for i in tqdm(range(games)):\n",
    "    gen.reset()\n",
    "    game = gen.generate_balanced_game(targetCR=1)#generate_balanced_game(board_size, game_config)\n",
    "    game2 = create_pair_game(game)\n",
    "    \n",
    "    ic, win = agents_play_loop_bare(game, [agent1, agent2], [indices1, indices2], iter_limit=100)\n",
    "    ic2, win2 = agents_play_loop_bare(game2, [agent1, agent2], [indices1, indices2], iter_limit=100)\n",
    "    \n",
    "    counter.append(win)\n",
    "    counter.append(win2)\n",
    "\n",
    "    if win != -1: max_ic = max(max_ic, ic)\n",
    "    if win2 != -1: max_ic = max(max_ic, ic2)"
   ]
  },
  {
   "cell_type": "markdown",
   "metadata": {},
   "source": [
    "Print the results of games. Timed out games are the games that lasted longer than the specified `iter_limit` in `play_loop_fast()`. Pair-wins reports the number of times agent won the same board configuration both as player 1 and player 2."
   ]
  },
  {
   "cell_type": "code",
   "execution_count": 9,
   "metadata": {},
   "outputs": [
    {
     "data": {
      "text/markdown": [
       "|           | `gen16/agent-11.3i-80.0k`  | `_temp-pg/agent-21.1i-9.0k` |\n",
       "| --------- | -------  | ------- |\n",
       "| wins      | 924    | 75   |\n",
       "| pair-wins | 424     | 0   |\n",
       "| illegal moves | nan | nan |\n",
       "| illegal actions | nan | nan |\n",
       "\n",
       "Games timed out: 1\n"
      ],
      "text/plain": [
       "<IPython.core.display.Markdown object>"
      ]
     },
     "metadata": {},
     "output_type": "display_data"
    }
   ],
   "source": [
    "def path_to_agent_name(path):\n",
    "    split_path = path.split('/')\n",
    "    if len(split_path) < 3: return path\n",
    "    return split_path[-3] + '/' + split_path[-1]\n",
    "\n",
    "npcounter = np.array(counter)\n",
    "npims = np.array([[float('NaN')] * 5] * 5)\n",
    "npias = np.array([[float('NaN')] * 5] * 5)\n",
    "wins_one = npcounter[::2]\n",
    "wins_pair = npcounter[1::2]\n",
    "\n",
    "display(Markdown(\n",
    "f'''|           | `{path_to_agent_name(agent_path_1)}`  | `{path_to_agent_name(agent_path_2)}` |\n",
    "| --------- | -------  | ------- |\n",
    "| wins      | {np.sum(npcounter == 0)}    | {np.sum(npcounter == 1)}   |\n",
    "| pair-wins | {np.sum(np.logical_and(wins_one == 0, wins_pair == 0))}     | {np.sum(np.logical_and(wins_one == 1, wins_pair == 1))}   |\n",
    "| illegal moves | {np.sum(npims[:, 0])} | {np.sum(npims[:, 1])} |\n",
    "| illegal actions | {np.sum(npias[:, 0])} | {np.sum(npias[:, 1])} |\n",
    "\n",
    "Games timed out: {np.sum(npcounter == -1)}\n",
    "'''))"
   ]
  }
 ],
 "metadata": {
  "kernelspec": {
   "display_name": "base",
   "language": "python",
   "name": "python3"
  },
  "language_info": {
   "codemirror_mode": {
    "name": "ipython",
    "version": 3
   },
   "file_extension": ".py",
   "mimetype": "text/x-python",
   "name": "python",
   "nbconvert_exporter": "python",
   "pygments_lexer": "ipython3",
   "version": "3.11.5"
  }
 },
 "nbformat": 4,
 "nbformat_minor": 2
}
