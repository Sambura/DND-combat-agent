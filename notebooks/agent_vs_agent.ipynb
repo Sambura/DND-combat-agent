{
 "cells": [
  {
   "cell_type": "markdown",
   "metadata": {},
   "source": [
    "# Agent vs. Agent"
   ]
  },
  {
   "cell_type": "markdown",
   "metadata": {},
   "source": [
    "Make two agents fight each other!"
   ]
  },
  {
   "cell_type": "markdown",
   "metadata": {},
   "source": [
    "## Setup"
   ]
  },
  {
   "cell_type": "code",
   "execution_count": null,
   "metadata": {},
   "outputs": [],
   "source": [
    "import sys\n",
    "import time\n",
    "from tqdm.auto import tqdm\n",
    "from copy import deepcopy\n",
    "from IPython.display import clear_output, Markdown\n",
    "\n",
    "if '..' not in sys.path: sys.path.append('..')\n",
    "from src.utils.common import *\n",
    "from src.dnd.actions import *\n",
    "from src.dnd.units import *\n",
    "from src.dnd.game_utils import *\n",
    "from src.dnd.game_board import DnDBoard, GameState\n",
    "from src.agent.agent import DnDAgent, IdleDnDAgent\n",
    "from src.agent.agent_utils import agents_play_loop, agent_take_turn, agents_play_loop_bare\n",
    "from src.dnd.game_configs import *"
   ]
  },
  {
   "cell_type": "code",
   "execution_count": null,
   "metadata": {},
   "outputs": [],
   "source": [
    "def create_pair_game(ref: DnDBoard):\n",
    "    \"\"\"Copies the given game board, but swithching player id's\"\"\"\n",
    "    game = DnDBoard(ref.board_shape)\n",
    "    for unit in ref.units:\n",
    "        game._place_unit(deepcopy(unit), unit.pos, 1 - ref.units_to_players[unit])\n",
    "\n",
    "    game.initialize_game()\n",
    "    game.set_turn_order(ref.turn_order.copy())\n",
    "\n",
    "    return game"
   ]
  },
  {
   "cell_type": "markdown",
   "metadata": {},
   "source": [
    "## Load agents & game config"
   ]
  },
  {
   "cell_type": "markdown",
   "metadata": {},
   "source": [
    "Load game configuration:"
   ]
  },
  {
   "cell_type": "code",
   "execution_count": null,
   "metadata": {},
   "outputs": [],
   "source": [
    "board_size = (5, 5)\n",
    "gen = FieldGenerator(board_size=board_size).load_from_folder('../Tokens')"
   ]
  },
  {
   "cell_type": "markdown",
   "metadata": {},
   "source": [
    "Load agents from disk"
   ]
  },
  {
   "cell_type": "code",
   "execution_count": null,
   "metadata": {},
   "outputs": [],
   "source": [
    "agent_path_1 = '../rnd/2v2-1/gen16/checkpoints/agent-11.3i-80.0k'\n",
    "agent_path_2 = '../rnd/2v2-1/gen15/checkpoints/agent-12.0i-80.0k'\n",
    "agent1 = DnDAgent.load_agent(agent_path_1, strip=True, epsilon=0)\n",
    "indices1 = get_observation_indices(DnDBoard.CHANNEL_NAMES[:agent1.in_channels])\n",
    "agent2 = DnDAgent.load_agent(agent_path_2, strip=True, epsilon=0)\n",
    "indices2 = get_observation_indices(DnDBoard.CHANNEL_NAMES[:agent2.in_channels])"
   ]
  },
  {
   "cell_type": "markdown",
   "metadata": {},
   "source": [
    "## One game"
   ]
  },
  {
   "cell_type": "markdown",
   "metadata": {},
   "source": [
    "Random game board is generated and agents play against each other. All the moves are visualized. Delay between moves can be adjusted."
   ]
  },
  {
   "cell_type": "code",
   "execution_count": null,
   "metadata": {},
   "outputs": [],
   "source": [
    "gen.reset()\n",
    "game, colormap = decorate_game(gen.generate_balanced_game(targetCR=1))\n",
    "\n",
    "_ = agents_play_loop([agent1, agent2], game, colormap, manual_input=False, delay=0.5, state_indices=[indices1, indices2])"
   ]
  },
  {
   "cell_type": "markdown",
   "metadata": {},
   "source": [
    "## Multiple games"
   ]
  },
  {
   "cell_type": "markdown",
   "metadata": {},
   "source": [
    "Agents play against each other for the given number of games. Each game is played twice, in first game agent 1 plays for player 1 and agent 2 for player 2. In the second game, agent 1 plays as player 2, and agent 2 - as player 1. "
   ]
  },
  {
   "cell_type": "code",
   "execution_count": null,
   "metadata": {},
   "outputs": [],
   "source": [
    "counter = []\n",
    "games = 2000\n",
    "max_ic = 0\n",
    "\n",
    "for i in tqdm(range(games)):\n",
    "    gen.reset()\n",
    "    game = gen.generate_balanced_game(targetCR=1)\n",
    "    game2 = create_pair_game(game)\n",
    "    \n",
    "    ic, win = agents_play_loop_bare(game, [agent1, agent2], [indices1, indices2], iter_limit=100)\n",
    "    ic2, win2 = agents_play_loop_bare(game2, [agent1, agent2], [indices1, indices2], iter_limit=100)\n",
    "    \n",
    "    counter.append(win)\n",
    "    counter.append(win2)\n",
    "\n",
    "    if win != -1: max_ic = max(max_ic, ic)\n",
    "    if win2 != -1: max_ic = max(max_ic, ic2)"
   ]
  },
  {
   "cell_type": "markdown",
   "metadata": {},
   "source": [
    "Print the results of games. Timed out games are the games that lasted longer than the specified `iter_limit` in `play_loop_fast()`. Pair-wins reports the number of times agent won the same board configuration both as player 1 and player 2."
   ]
  },
  {
   "cell_type": "code",
   "execution_count": null,
   "metadata": {},
   "outputs": [],
   "source": [
    "def path_to_agent_name(path):\n",
    "    split_path = path.split('/')\n",
    "    if len(split_path) < 3: return path\n",
    "    return split_path[-3] + '/' + split_path[-1]\n",
    "\n",
    "npcounter = np.array(counter)\n",
    "npims = np.array([[float('NaN')] * 5] * 5)\n",
    "npias = np.array([[float('NaN')] * 5] * 5)\n",
    "wins_one = npcounter[::2]\n",
    "wins_pair = npcounter[1::2]\n",
    "\n",
    "display(Markdown(\n",
    "f'''|           | `{path_to_agent_name(agent_path_1)}`  | `{path_to_agent_name(agent_path_2)}` |\n",
    "| --------- | -------  | ------- |\n",
    "| wins      | {np.sum(npcounter == 0)}    | {np.sum(npcounter == 1)}   |\n",
    "| pair-wins | {np.sum(np.logical_and(wins_one == 0, wins_pair == 0))}     | {np.sum(np.logical_and(wins_one == 1, wins_pair == 1))}   |\n",
    "| illegal moves | {np.sum(npims[:, 0])} | {np.sum(npims[:, 1])} |\n",
    "| illegal actions | {np.sum(npias[:, 0])} | {np.sum(npias[:, 1])} |\n",
    "\n",
    "Games timed out: {np.sum(npcounter == -1)}\n",
    "'''))"
   ]
  }
 ],
 "metadata": {
  "kernelspec": {
   "display_name": "base",
   "language": "python",
   "name": "python3"
  },
  "language_info": {
   "codemirror_mode": {
    "name": "ipython",
    "version": 3
   },
   "file_extension": ".py",
   "mimetype": "text/x-python",
   "name": "python",
   "nbconvert_exporter": "python",
   "pygments_lexer": "ipython3",
   "version": "3.11.5"
  }
 },
 "nbformat": 4,
 "nbformat_minor": 2
}
