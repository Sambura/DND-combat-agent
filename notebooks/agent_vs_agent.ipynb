{
 "cells": [
  {
   "cell_type": "markdown",
   "metadata": {},
   "source": [
    "# Agent vs. Agent"
   ]
  },
  {
   "cell_type": "markdown",
   "metadata": {},
   "source": [
    "Make two agents fight each other!"
   ]
  },
  {
   "cell_type": "markdown",
   "metadata": {},
   "source": [
    "## Setup"
   ]
  },
  {
   "cell_type": "code",
   "execution_count": null,
   "metadata": {},
   "outputs": [],
   "source": [
    "import sys\n",
    "import time\n",
    "from tqdm.auto import tqdm\n",
    "from copy import deepcopy\n",
    "from IPython.display import clear_output, Markdown\n",
    "\n",
    "if '..' not in sys.path: sys.path.append('..')\n",
    "from src.utils.common import *\n",
    "from src.dnd.actions import *\n",
    "from src.dnd.units import *\n",
    "from src.dnd.game_utils import *\n",
    "from src.dnd.game_board import DnDBoard, GameState\n",
    "from src.agent.agent import DnDAgent, IdleDnDAgent\n",
    "from src.agent.agent_utils import get_states, agents_play_loop\n",
    "from src.dnd.game_configs import *"
   ]
  },
  {
   "cell_type": "code",
   "execution_count": null,
   "metadata": {},
   "outputs": [],
   "source": [
    "def create_pair_game(ref: DnDBoard):\n",
    "    \"\"\"Copies the given game board, but swithching player id's\"\"\"\n",
    "    game = DnDBoard(ref.board_shape)\n",
    "    for unit in ref.units:\n",
    "        game._place_unit(deepcopy(unit), unit.pos, 1 - ref.units_to_players[unit])\n",
    "\n",
    "    game.initialize_game()\n",
    "    game.set_turn_order(ref.turn_order.copy())\n",
    "\n",
    "    return game"
   ]
  },
  {
   "cell_type": "code",
   "execution_count": null,
   "metadata": {},
   "outputs": [],
   "source": [
    "def play_loop_fast(agent1, agent2, game: DnDBoard, iter_limit=1000, indices1=None, indices2=None):\n",
    "    game_over = False\n",
    "    iter_count = 0\n",
    "\n",
    "    while not game_over:\n",
    "        if iter_count > iter_limit: return iter_count, -1\n",
    "        \n",
    "        iter_count += 1\n",
    "\n",
    "        agent, indices = (agent1, indices1) if game.current_player_id == 0 else (agent2, indices2)\n",
    "        _, _, new_coords, action = get_states(game, agent, state_indices=indices)\n",
    "        game_over = game.take_turn(new_coords, action, True)[0] != GameState.PLAYING\n",
    "\n",
    "    winner = 0 if len(game.players_to_units[1]) == 0 else 1\n",
    "\n",
    "    return iter_count, winner"
   ]
  },
  {
   "cell_type": "code",
   "execution_count": null,
   "metadata": {},
   "outputs": [],
   "source": [
    "# this is needed for older agents\n",
    "fms_7_ch = ['Ally units', 'Enemy units', 'Current unit', 'Movement speed', 'Attack range', 'Attack damage', 'Health']"
   ]
  },
  {
   "cell_type": "markdown",
   "metadata": {},
   "source": [
    "## Load agents & game config"
   ]
  },
  {
   "cell_type": "markdown",
   "metadata": {},
   "source": [
    "Load game configuration:"
   ]
  },
  {
   "cell_type": "code",
   "execution_count": null,
   "metadata": {},
   "outputs": [],
   "source": [
    "# 5x5 game, each player has 2 units\n",
    "board_size, game_config = get_2v2_0_config()"
   ]
  },
  {
   "cell_type": "markdown",
   "metadata": {},
   "source": [
    "Load agents from disk"
   ]
  },
  {
   "cell_type": "code",
   "execution_count": null,
   "metadata": {},
   "outputs": [],
   "source": [
    "agent_path_1 = '../rnd/2v2-0/trained-agents/agent-gen30-11.2i-620000'\n",
    "agent_path_2 = '../rnd/2v2-0/trained-agents/agent-gen30-11.1i-600000'\n",
    "agent1 = DnDAgent.load_agent(agent_path_1, strip=True, epsilon=0)\n",
    "indices1 = get_observation_indices(fms_7_ch if agent1.in_channels == len(fms_7_ch) else None)\n",
    "agent2 = DnDAgent.load_agent(agent_path_2, strip=True, epsilon=0)\n",
    "indices2 = get_observation_indices(fms_7_ch if agent2.in_channels == len(fms_7_ch) else None)"
   ]
  },
  {
   "cell_type": "markdown",
   "metadata": {},
   "source": [
    "## One game"
   ]
  },
  {
   "cell_type": "markdown",
   "metadata": {},
   "source": [
    "Random game board is generated and agents play against each other. All the moves are visualized. Delay between moves can be adjusted."
   ]
  },
  {
   "cell_type": "code",
   "execution_count": null,
   "metadata": {},
   "outputs": [],
   "source": [
    "game, colormap = decorate_game(generate_balanced_game(board_size, game_config))\n",
    "\n",
    "_ = agents_play_loop(agent1, agent2, game, colormap, manual_input=False, delay=0.5)"
   ]
  },
  {
   "cell_type": "markdown",
   "metadata": {},
   "source": [
    "## Multiple games"
   ]
  },
  {
   "cell_type": "markdown",
   "metadata": {},
   "source": [
    "Agents play against each other for the given number of games. Each game is played twice, in first game agent 1 plays for player 1 and agent 2 for player 2. In the second game, agent 1 plays as player 2, and agent 2 - as player 1. "
   ]
  },
  {
   "cell_type": "code",
   "execution_count": null,
   "metadata": {},
   "outputs": [],
   "source": [
    "counter = []\n",
    "games = 1000\n",
    "\n",
    "for i in tqdm(range(games)):\n",
    "    game = generate_balanced_game(board_size, game_config)\n",
    "    game2 = create_pair_game(game)\n",
    "    \n",
    "    ic, win = play_loop_fast(agent1, agent2, game, indices1=indices1, indices2=indices2)\n",
    "    ic2, win2 = play_loop_fast(agent1, agent2, game2, indices1=indices1, indices2=indices2)\n",
    "    \n",
    "    counter.append(win)\n",
    "    counter.append(win2)"
   ]
  },
  {
   "cell_type": "markdown",
   "metadata": {},
   "source": [
    "Print the results of games. Timed out games are the games that lasted longer than the specified `iter_limit` in `play_loop_fast()`. Pair-wins reports the number of times agent won the same board configuration both as player 1 and player 2."
   ]
  },
  {
   "cell_type": "code",
   "execution_count": null,
   "metadata": {},
   "outputs": [],
   "source": [
    "def path_to_agent_name(path):\n",
    "    split_path = path.split('/')\n",
    "    if len(split_path) < 3: return path\n",
    "    return split_path[-3] + '/' + split_path[-1]\n",
    "\n",
    "npcounter = np.array(counter)\n",
    "wins_one = npcounter[::2]\n",
    "wins_pair = npcounter[1::2]\n",
    "\n",
    "display(Markdown(\n",
    "f'''|           | `{path_to_agent_name(agent_path_1)}`  | `{path_to_agent_name(agent_path_2)}` |\n",
    "| --------- | -------  | ------- |\n",
    "| wins      | {np.sum(npcounter == 0)}    | {np.sum(npcounter == 1)}   |\n",
    "| pair-wins | {np.sum(np.logical_and(wins_one == 0, wins_pair == 0))}     | {np.sum(np.logical_and(wins_one == 1, wins_pair == 1))}   |\n",
    "\n",
    "Games timed out: {np.sum(npcounter == -1)}\n",
    "'''))"
   ]
  }
 ],
 "metadata": {
  "kernelspec": {
   "display_name": "base",
   "language": "python",
   "name": "python3"
  },
  "language_info": {
   "codemirror_mode": {
    "name": "ipython",
    "version": 3
   },
   "file_extension": ".py",
   "mimetype": "text/x-python",
   "name": "python",
   "nbconvert_exporter": "python",
   "pygments_lexer": "ipython3",
   "version": "3.11.5"
  }
 },
 "nbformat": 4,
 "nbformat_minor": 2
}
