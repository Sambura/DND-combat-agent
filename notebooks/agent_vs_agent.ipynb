{
 "cells": [
  {
   "cell_type": "markdown",
   "metadata": {},
   "source": [
    "# Agent vs. Agent"
   ]
  },
  {
   "cell_type": "markdown",
   "metadata": {},
   "source": [
    "Make two agents fight each other!"
   ]
  },
  {
   "cell_type": "markdown",
   "metadata": {},
   "source": [
    "## Setup"
   ]
  },
  {
   "cell_type": "code",
   "execution_count": 1,
   "metadata": {},
   "outputs": [
    {
     "name": "stderr",
     "output_type": "stream",
     "text": [
      "C:\\Users\\Genom10\\AppData\\Local\\Packages\\PythonSoftwareFoundation.Python.3.11_qbz5n2kfra8p0\\LocalCache\\local-packages\\Python311\\site-packages\\tqdm\\auto.py:21: TqdmWarning: IProgress not found. Please update jupyter and ipywidgets. See https://ipywidgets.readthedocs.io/en/stable/user_install.html\n",
      "  from .autonotebook import tqdm as notebook_tqdm\n"
     ]
    }
   ],
   "source": [
    "import sys\n",
    "import time\n",
    "from tqdm.auto import tqdm\n",
    "from copy import deepcopy\n",
    "from IPython.display import clear_output, Markdown\n",
    "\n",
    "if '..' not in sys.path: sys.path.append('..')\n",
    "from src.utils.common import *\n",
    "from src.dnd.actions import *\n",
    "from src.dnd.units import *\n",
    "from src.dnd.game_utils import *\n",
    "from src.dnd.game_board import DnDBoard, GameState\n",
    "from src.agent.agent import DnDAgent, IdleDnDAgent\n",
    "from src.agent.agent_utils import get_states, agents_play_loop\n",
    "from src.dnd.game_configs import *"
   ]
  },
  {
   "cell_type": "code",
   "execution_count": 2,
   "metadata": {},
   "outputs": [],
   "source": [
    "def create_pair_game(ref: DnDBoard):\n",
    "    \"\"\"Copies the given game board, but swithching player id's\"\"\"\n",
    "    game = DnDBoard(ref.board_shape)\n",
    "    for unit in ref.units:\n",
    "        game._place_unit(deepcopy(unit), unit.pos, 1 - ref.units_to_players[unit])\n",
    "\n",
    "    game.initialize_game()\n",
    "    game.set_turn_order(ref.turn_order.copy())\n",
    "\n",
    "    return game"
   ]
  },
  {
   "cell_type": "code",
   "execution_count": 3,
   "metadata": {},
   "outputs": [],
   "source": [
    "def play_loop_fast(agent1, agent2, game: DnDBoard, iter_limit=1000, indices1=None, indices2=None):\n",
    "    game_over = False\n",
    "    iter_count = 0\n",
    "    ims = [0, 0]\n",
    "    ias = [0, 0]\n",
    "\n",
    "    while not game_over:\n",
    "        if iter_count > iter_limit: return iter_count, -1, ims, ias\n",
    "        \n",
    "        iter_count += 1\n",
    "\n",
    "        agent, indices = (agent1, indices1) if game.current_player_id == 0 else (agent2, indices2)\n",
    "        _, _, new_coords, action = get_states(game, agent, state_indices=indices)\n",
    "        move_legal, _ = game.move(new_coords, raise_on_illegal=False)\n",
    "        action_legal, _ = game.use_action(action, raise_on_illegal=False)\n",
    "        ims[game.current_player_id] += int(not move_legal)\n",
    "        ias[game.current_player_id] += int(not action_legal)\n",
    "        game.finish_turn()\n",
    "        game_over = game.get_game_state() != GameState.PLAYING\n",
    "\n",
    "    winner = 0 if len(game.players_to_units[1]) == 0 else 1\n",
    "\n",
    "    return iter_count, winner, ims, ias"
   ]
  },
  {
   "cell_type": "code",
   "execution_count": 4,
   "metadata": {},
   "outputs": [],
   "source": [
    "# this is needed for older agents\n",
    "fms_7_ch = ['Ally units', 'Enemy units', 'Current unit', 'Movement speed', 'Attack range', 'Attack damage', 'Health']"
   ]
  },
  {
   "cell_type": "markdown",
   "metadata": {},
   "source": [
    "## Load agents & game config"
   ]
  },
  {
   "cell_type": "markdown",
   "metadata": {},
   "source": [
    "Load game configuration:"
   ]
  },
  {
   "cell_type": "code",
   "execution_count": 5,
   "metadata": {},
   "outputs": [],
   "source": [
    "# 5x5 game, each player has 2 units\n",
    "board_size, game_config = get_2v2_1_config()"
   ]
  },
  {
   "cell_type": "markdown",
   "metadata": {},
   "source": [
    "Load agents from disk"
   ]
  },
  {
   "cell_type": "code",
   "execution_count": 6,
   "metadata": {},
   "outputs": [
    {
     "ename": "FileNotFoundError",
     "evalue": "[Errno 2] No such file or directory: '../rnd/2v2-1/gen16/checkpoints/agent-11.3i-80.0k\\\\agent.pkl'",
     "output_type": "error",
     "traceback": [
      "\u001b[1;31m---------------------------------------------------------------------------\u001b[0m",
      "\u001b[1;31mFileNotFoundError\u001b[0m                         Traceback (most recent call last)",
      "\u001b[1;32mc:\\Users\\Genom10\\Desktop\\Git\\PMLDL-Project\\notebooks\\agent_vs_agent.ipynb Cell 12\u001b[0m line \u001b[0;36m3\n\u001b[0;32m      <a href='vscode-notebook-cell:/c%3A/Users/Genom10/Desktop/Git/PMLDL-Project/notebooks/agent_vs_agent.ipynb#X14sZmlsZQ%3D%3D?line=0'>1</a>\u001b[0m agent_path_1 \u001b[39m=\u001b[39m \u001b[39m'\u001b[39m\u001b[39m../rnd/2v2-1/gen16/checkpoints/agent-11.3i-80.0k\u001b[39m\u001b[39m'\u001b[39m\n\u001b[0;32m      <a href='vscode-notebook-cell:/c%3A/Users/Genom10/Desktop/Git/PMLDL-Project/notebooks/agent_vs_agent.ipynb#X14sZmlsZQ%3D%3D?line=1'>2</a>\u001b[0m agent_path_2 \u001b[39m=\u001b[39m \u001b[39m'\u001b[39m\u001b[39m../rnd/2v2-1/gen15/checkpoints/agent-12.0i-80.0k\u001b[39m\u001b[39m'\u001b[39m\n\u001b[1;32m----> <a href='vscode-notebook-cell:/c%3A/Users/Genom10/Desktop/Git/PMLDL-Project/notebooks/agent_vs_agent.ipynb#X14sZmlsZQ%3D%3D?line=2'>3</a>\u001b[0m agent1 \u001b[39m=\u001b[39m DnDAgent\u001b[39m.\u001b[39;49mload_agent(agent_path_1, strip\u001b[39m=\u001b[39;49m\u001b[39mTrue\u001b[39;49;00m, epsilon\u001b[39m=\u001b[39;49m\u001b[39m0\u001b[39;49m)\n\u001b[0;32m      <a href='vscode-notebook-cell:/c%3A/Users/Genom10/Desktop/Git/PMLDL-Project/notebooks/agent_vs_agent.ipynb#X14sZmlsZQ%3D%3D?line=3'>4</a>\u001b[0m indices1 \u001b[39m=\u001b[39m get_observation_indices(fms_7_ch \u001b[39mif\u001b[39;00m agent1\u001b[39m.\u001b[39min_channels \u001b[39m==\u001b[39m \u001b[39mlen\u001b[39m(fms_7_ch) \u001b[39melse\u001b[39;00m \u001b[39mNone\u001b[39;00m)\n\u001b[0;32m      <a href='vscode-notebook-cell:/c%3A/Users/Genom10/Desktop/Git/PMLDL-Project/notebooks/agent_vs_agent.ipynb#X14sZmlsZQ%3D%3D?line=4'>5</a>\u001b[0m agent2 \u001b[39m=\u001b[39m DnDAgent\u001b[39m.\u001b[39mload_agent(agent_path_2, strip\u001b[39m=\u001b[39m\u001b[39mTrue\u001b[39;00m, epsilon\u001b[39m=\u001b[39m\u001b[39m0\u001b[39m)\n",
      "File \u001b[1;32mc:\\Users\\Genom10\\Desktop\\Git\\PMLDL-Project\\notebooks\\..\\src\\agent\\agent.py:128\u001b[0m, in \u001b[0;36mDnDAgent.load_agent\u001b[1;34m(path, strip, **kwargs)\u001b[0m\n\u001b[0;32m    117\u001b[0m \u001b[39m\u001b[39m\u001b[39m\"\"\"\u001b[39;00m\n\u001b[0;32m    118\u001b[0m \u001b[39mLoads the agent from the specified directory\u001b[39;00m\n\u001b[0;32m    119\u001b[0m \n\u001b[1;32m   (...)\u001b[0m\n\u001b[0;32m    124\u001b[0m \u001b[39m**kwargs: list of agent's attributes whose value should be modified. i.e. `epsilon = 0`\u001b[39;00m\n\u001b[0;32m    125\u001b[0m \u001b[39m\"\"\"\u001b[39;00m\n\u001b[0;32m    126\u001b[0m agent_path \u001b[39m=\u001b[39m os\u001b[39m.\u001b[39mpath\u001b[39m.\u001b[39mjoin(path, \u001b[39m'\u001b[39m\u001b[39magent.pkl\u001b[39m\u001b[39m'\u001b[39m)\n\u001b[1;32m--> 128\u001b[0m \u001b[39mwith\u001b[39;00m \u001b[39mopen\u001b[39;49m(agent_path, \u001b[39m'\u001b[39;49m\u001b[39mrb\u001b[39;49m\u001b[39m'\u001b[39;49m) \u001b[39mas\u001b[39;00m file:\n\u001b[0;32m    129\u001b[0m     agent \u001b[39m=\u001b[39m pickle\u001b[39m.\u001b[39mload(file)\n\u001b[0;32m    131\u001b[0m \u001b[39mif\u001b[39;00m \u001b[39m'\u001b[39m\u001b[39mmodel_class\u001b[39m\u001b[39m'\u001b[39m \u001b[39min\u001b[39;00m kwargs: \u001b[39m# delete these 5 lines asap\u001b[39;00m\n",
      "\u001b[1;31mFileNotFoundError\u001b[0m: [Errno 2] No such file or directory: '../rnd/2v2-1/gen16/checkpoints/agent-11.3i-80.0k\\\\agent.pkl'"
     ]
    }
   ],
   "source": [
    "agent_path_1 = '../rnd/2v2-1/gen16/checkpoints/agent-11.3i-80.0k'\n",
    "agent_path_2 = '../rnd/2v2-1/gen15/checkpoints/agent-12.0i-80.0k'\n",
    "agent1 = DnDAgent.load_agent(agent_path_1, strip=True, epsilon=0)\n",
    "indices1 = get_observation_indices(fms_7_ch if agent1.in_channels == len(fms_7_ch) else None)\n",
    "agent2 = DnDAgent.load_agent(agent_path_2, strip=True, epsilon=0)\n",
    "indices2 = get_observation_indices(fms_7_ch if agent2.in_channels == len(fms_7_ch) else None)"
   ]
  },
  {
   "cell_type": "markdown",
   "metadata": {},
   "source": [
    "## One game"
   ]
  },
  {
   "cell_type": "markdown",
   "metadata": {},
   "source": [
    "Random game board is generated and agents play against each other. All the moves are visualized. Delay between moves can be adjusted."
   ]
  },
  {
   "cell_type": "code",
   "execution_count": null,
   "metadata": {},
   "outputs": [],
   "source": [
    "gen = fieldGenerator(board_size=board_size).load_from_folder('../Tokens')\n",
    "game, colormap = decorate_game(gen.generate_balanced_game(targetCR=1))\n",
    "\n",
    "_ = agents_play_loop(agent1, agent2, game, colormap, manual_input=False, delay=0.5)"
   ]
  },
  {
   "cell_type": "markdown",
   "metadata": {},
   "source": [
    "## Multiple games"
   ]
  },
  {
   "cell_type": "markdown",
   "metadata": {},
   "source": [
    "Agents play against each other for the given number of games. Each game is played twice, in first game agent 1 plays for player 1 and agent 2 for player 2. In the second game, agent 1 plays as player 2, and agent 2 - as player 1. "
   ]
  },
  {
   "cell_type": "code",
   "execution_count": null,
   "metadata": {},
   "outputs": [],
   "source": [
    "counter = []\n",
    "illegal_moves = []\n",
    "illegal_actions = []\n",
    "games = 2500\n",
    "\n",
    "for i in tqdm(range(games)):\n",
    "    gen.reset()\n",
    "    game, colormap = decorate_game(gen.generate_balanced_game(targetCR=1))\n",
    "    game2 = create_pair_game(game)\n",
    "    \n",
    "    ic, win, ims, ias = play_loop_fast(agent1, agent2, game, indices1=indices1, indices2=indices2)\n",
    "    ic2, win2, ims2, ias2 = play_loop_fast(agent1, agent2, game2, indices1=indices1, indices2=indices2)\n",
    "    \n",
    "    counter.append(win)\n",
    "    counter.append(win2)\n",
    "    illegal_moves += [ims, ims2]\n",
    "    illegal_actions += [ias, ias2]"
   ]
  },
  {
   "cell_type": "markdown",
   "metadata": {},
   "source": [
    "Print the results of games. Timed out games are the games that lasted longer than the specified `iter_limit` in `play_loop_fast()`. Pair-wins reports the number of times agent won the same board configuration both as player 1 and player 2."
   ]
  },
  {
   "cell_type": "code",
   "execution_count": null,
   "metadata": {},
   "outputs": [],
   "source": [
    "def path_to_agent_name(path):\n",
    "    split_path = path.split('/')\n",
    "    if len(split_path) < 3: return path\n",
    "    return split_path[-3] + '/' + split_path[-1]\n",
    "\n",
    "npcounter = np.array(counter)\n",
    "npims = np.array(illegal_moves)\n",
    "npias = np.array(illegal_actions)\n",
    "wins_one = npcounter[::2]\n",
    "wins_pair = npcounter[1::2]\n",
    "\n",
    "display(Markdown(\n",
    "f'''|           | `{path_to_agent_name(agent_path_1)}`  | `{path_to_agent_name(agent_path_2)}` |\n",
    "| --------- | -------  | ------- |\n",
    "| wins      | {np.sum(npcounter == 0)}    | {np.sum(npcounter == 1)}   |\n",
    "| pair-wins | {np.sum(np.logical_and(wins_one == 0, wins_pair == 0))}     | {np.sum(np.logical_and(wins_one == 1, wins_pair == 1))}   |\n",
    "| illegal moves | {np.sum(npims[:, 0])} | {np.sum(npims[:, 1])} |\n",
    "| illegal actions | {np.sum(npias[:, 0])} | {np.sum(npias[:, 1])} |\n",
    "\n",
    "Games timed out: {np.sum(npcounter == -1)}\n",
    "'''))"
   ]
  }
 ],
 "metadata": {
  "kernelspec": {
   "display_name": "base",
   "language": "python",
   "name": "python3"
  },
  "language_info": {
   "codemirror_mode": {
    "name": "ipython",
    "version": 3
   },
   "file_extension": ".py",
   "mimetype": "text/x-python",
   "name": "python",
   "nbconvert_exporter": "python",
   "pygments_lexer": "ipython3",
   "version": "3.11.5"
  }
 },
 "nbformat": 4,
 "nbformat_minor": 2
}
