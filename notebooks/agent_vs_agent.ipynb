{
 "cells": [
  {
   "cell_type": "markdown",
   "metadata": {},
   "source": [
    "## Sample game"
   ]
  },
  {
   "cell_type": "code",
   "execution_count": 1,
   "metadata": {},
   "outputs": [],
   "source": [
    "import sys\n",
    "import time\n",
    "from copy import deepcopy\n",
    "from IPython.display import clear_output\n",
    "\n",
    "if '..' not in sys.path: sys.path.append('..')\n",
    "from src.utils.common import *\n",
    "from src.dnd.actions import *\n",
    "from src.dnd.units import *\n",
    "from src.dnd.game_utils import *\n",
    "from src.dnd.game_board import DnDBoard\n",
    "from src.agent.agent import DnDAgent\n",
    "from src.agent.agent_utils import get_states, get_default_action_resolver"
   ]
  },
  {
   "cell_type": "code",
   "execution_count": 2,
   "metadata": {},
   "outputs": [],
   "source": [
    "def create_game():\n",
    "    game = DnDBoard((5, 5))\n",
    "    ally = GenericSoldier(\"Ally soldier\", attack_damage=25)\n",
    "    ally2 = GenericSoldier(\"Ally ranger\", attack_damage=25, health=50, range=4)\n",
    "    enemy = GenericSoldier(\"Enemy soldier\", attack_damage=25)\n",
    "    enemy2 = GenericSoldier(\"Enemy ranger\", attack_damage=25, health=50, range=4)\n",
    "\n",
    "    place_unit_randomly(game, ally, 0)\n",
    "    place_unit_randomly(game, enemy, 1)\n",
    "    place_unit_randomly(game, ally2, 0)\n",
    "    place_unit_randomly(game, enemy2, 1)\n",
    "\n",
    "    game.initialize_game()\n",
    "    action_resolver = get_default_action_resolver(game)\n",
    "\n",
    "    color_map = {\n",
    "        ally: \"Green\",\n",
    "        enemy: \"Red\",\n",
    "        ally2: \"Blue\",\n",
    "        enemy2: \"Purple\"\n",
    "    }\n",
    "\n",
    "    return game, color_map, action_resolver"
   ]
  },
  {
   "cell_type": "code",
   "execution_count": 3,
   "metadata": {},
   "outputs": [],
   "source": [
    "def create_pair_game(ref: DnDBoard):\n",
    "    game = DnDBoard((5, 5))\n",
    "    ally = GenericSoldier(\"Ally soldier\", attack_damage=25)\n",
    "    ally2 = GenericSoldier(\"Ally ranger\", attack_damage=25, health=50, range=4)\n",
    "    enemy = GenericSoldier(\"Enemy soldier\", attack_damage=25)\n",
    "    enemy2 = GenericSoldier(\"Enemy ranger\", attack_damage=25, health=50, range=4)\n",
    "\n",
    "    names_to_units = { unit.name: unit for unit in ref.units }\n",
    "    game.place_unit(ally, to_tuple(ref.get_unit_position(names_to_units[ally.name])), 1)\n",
    "    game.place_unit(ally2, to_tuple(ref.get_unit_position(names_to_units[ally2.name])), 1)\n",
    "    game.place_unit(enemy, to_tuple(ref.get_unit_position(names_to_units[enemy.name])), 0)\n",
    "    game.place_unit(enemy2, to_tuple(ref.get_unit_position(names_to_units[enemy2.name])), 0)\n",
    "\n",
    "    game.initialize_game()\n",
    "    game.turn_order = ref.turn_order.copy()\n",
    "    action_resolver = get_default_action_resolver(game)\n",
    "\n",
    "    color_map = {\n",
    "        ally: \"Green\",\n",
    "        enemy: \"Red\",\n",
    "        ally2: \"Blue\",\n",
    "        enemy2: \"Purple\"\n",
    "    }\n",
    "\n",
    "    return game, color_map, action_resolver"
   ]
  },
  {
   "cell_type": "code",
   "execution_count": 4,
   "metadata": {},
   "outputs": [],
   "source": [
    "fms_7_ch = ['Ally units', 'Enemy units', 'Current unit', 'Movement speed', 'Attack range', 'Attack damage', 'Health']"
   ]
  },
  {
   "cell_type": "code",
   "execution_count": 5,
   "metadata": {},
   "outputs": [],
   "source": [
    "agent_path_1 = '../config-log/2v2-0/trained-agents/agent-gen26-10.3i'\n",
    "agent_path_2 = '../config-log/2v2-0/trained-agents/agent-gen15-10.2i'\n",
    "agent1 = DnDAgent.load_agent(agent_path_1)\n",
    "agent1.epsilon = 0\n",
    "indices1 = get_observation_indices(fms_7_ch if agent1.in_channels == len(fms_7_ch) else None)\n",
    "agent2 = DnDAgent.load_agent(agent_path_2)\n",
    "agent2.epsilon = 0\n",
    "indices2 = get_observation_indices(fms_7_ch if agent2.in_channels == len(fms_7_ch) else None)"
   ]
  },
  {
   "cell_type": "code",
   "execution_count": 6,
   "metadata": {},
   "outputs": [],
   "source": [
    "def play_loop(agent1, agent2, game: DnDBoard, color_map, random_action_resolver=None, manual_input=False, delay=0.5):\n",
    "    game_over = False\n",
    "    iter_count = 0\n",
    "\n",
    "    print_game(game, color_map)\n",
    "    while not game_over:\n",
    "        try:\n",
    "            unit, player_id = game.get_current_unit()\n",
    "\n",
    "            iter_count += 1\n",
    "\n",
    "            # sleeping \n",
    "            if manual_input:\n",
    "                command = input()\n",
    "                if command == 'stop':\n",
    "                    raise KeyboardInterrupt()\n",
    "                elif command == 'continue':\n",
    "                    manual_input = False\n",
    "            else:\n",
    "                time.sleep(delay)\n",
    "            \n",
    "            clear_output(wait=True)\n",
    "            print(f'Iteration: {iter_count}')\n",
    "\n",
    "            agent = agent1 if player_id == 0 else agent2\n",
    "            _, _, new_coords, action = get_states(game, agent, random_action_resolver)\n",
    "            _, game_over = take_turn(game, new_coords, action, color_map, True)\n",
    "        except KeyboardInterrupt:\n",
    "            print(f'\\nGame interrupted after {iter_count} iterations')\n",
    "            return None\n",
    "\n",
    "    winner = 0 if len(game.players_to_units[1]) == 0 else 1\n",
    "    print(f'\\nGame over in {iter_count} iterations. Winner: agent #{winner + 1}')\n",
    "\n",
    "    return iter_count, winner"
   ]
  },
  {
   "cell_type": "markdown",
   "metadata": {},
   "source": [
    "Start new game:"
   ]
  },
  {
   "cell_type": "code",
   "execution_count": 7,
   "metadata": {},
   "outputs": [],
   "source": [
    "counter = []"
   ]
  },
  {
   "cell_type": "code",
   "execution_count": 8,
   "metadata": {},
   "outputs": [],
   "source": [
    "# game, color_map, action_resolver = create_game()\n",
    "# \n",
    "# ic, win = play_loop(agent1, agent1, game, color_map, action_resolver, False, 1)\n",
    "# \n",
    "# counter.append(win)"
   ]
  },
  {
   "cell_type": "code",
   "execution_count": 9,
   "metadata": {},
   "outputs": [],
   "source": [
    "def play_loop_fast(agent1, agent2, game: DnDBoard, random_action_resolver=None, iter_limit=1000, indices1=None, indices2=None):\n",
    "    game_over = False\n",
    "    iter_count = 0\n",
    "\n",
    "    while not game_over:\n",
    "        if iter_count > iter_limit: return iter_count, -1\n",
    "        \n",
    "        unit, player_id = game.get_current_unit()\n",
    "        iter_count += 1\n",
    "\n",
    "        agent, indices = (agent1, indices1)  if player_id == 0 else (agent2, indices2)\n",
    "        _, _, new_coords, action = get_states(game, agent, random_action_resolver, state_indices=indices)\n",
    "        _, game_over = game.take_turn(new_coords, action, True)\n",
    "\n",
    "    winner = 0 if len(game.players_to_units[1]) == 0 else 1\n",
    "\n",
    "    return iter_count, winner"
   ]
  },
  {
   "cell_type": "code",
   "execution_count": 10,
   "metadata": {},
   "outputs": [
    {
     "data": {
      "application/vnd.jupyter.widget-view+json": {
       "model_id": "033c69123c114e63a6a560881d48ca41",
       "version_major": 2,
       "version_minor": 0
      },
      "text/plain": [
       "  0%|          | 0/50000 [00:00<?, ?it/s]"
      ]
     },
     "metadata": {},
     "output_type": "display_data"
    }
   ],
   "source": [
    "from tqdm.auto import tqdm\n",
    "\n",
    "for i in tqdm(range(50000)):\n",
    "    game, color_map, action_resolver = create_game()\n",
    "    game2, color_map2, action_resolver2 = create_pair_game(game)\n",
    "    \n",
    "    ic, win = play_loop_fast(agent1, agent2, game, action_resolver, indices1=indices1, indices2=indices2)\n",
    "    ic2, win2 = play_loop_fast(agent1, agent2, game2, action_resolver2, indices1=indices1, indices2=indices2)\n",
    "    \n",
    "    counter.append(win)\n",
    "    counter.append(win2)"
   ]
  },
  {
   "cell_type": "code",
   "execution_count": 11,
   "metadata": {},
   "outputs": [
    {
     "name": "stdout",
     "output_type": "stream",
     "text": [
      "|           | `2v2-0/agent-gen26-10.3i`  | `2v2-0/agent-gen15-10.2i` |\n",
      "| --------- | -------  | ------- |\n",
      "| wins      | 54739    | 45234   |\n",
      "| pair-wins | 13255     | 8502   |\n",
      "\n",
      "Games timed out: 27\n",
      "\n"
     ]
    }
   ],
   "source": [
    "def path_to_agent_name(path):\n",
    "    split_path = path.split('/')\n",
    "    return split_path[-3] + '/' + split_path[-1]\n",
    "\n",
    "npcounter = np.array(counter)\n",
    "wins_one = npcounter[::2]\n",
    "wins_pair = npcounter[1::2]\n",
    "\n",
    "print(\n",
    "f'''|           | `{path_to_agent_name(agent_path_1)}`  | `{path_to_agent_name(agent_path_2)}` |\n",
    "| --------- | -------  | ------- |\n",
    "| wins      | {np.sum(npcounter == 0)}    | {np.sum(npcounter == 1)}   |\n",
    "| pair-wins | {np.sum(np.logical_and(wins_one == 0, wins_pair == 0))}     | {np.sum(np.logical_and(wins_one == 1, wins_pair == 1))}   |\n",
    "\n",
    "Games timed out: {np.sum(npcounter == -1)}\n",
    "''')"
   ]
  }
 ],
 "metadata": {
  "kernelspec": {
   "display_name": "base",
   "language": "python",
   "name": "python3"
  },
  "language_info": {
   "codemirror_mode": {
    "name": "ipython",
    "version": 3
   },
   "file_extension": ".py",
   "mimetype": "text/x-python",
   "name": "python",
   "nbconvert_exporter": "python",
   "pygments_lexer": "ipython3",
   "version": "3.11.5"
  }
 },
 "nbformat": 4,
 "nbformat_minor": 2
}
